{
 "cells": [
  {
   "cell_type": "code",
   "execution_count": 1,
   "id": "95b9a836-d69d-4671-8c64-a45f6a98de47",
   "metadata": {},
   "outputs": [],
   "source": [
    "# fmt: off\n",
    "%matplotlib inline\n",
    "%config InlineBackend.figure_format = \"retina\"\n",
    "%load_ext autoreload\n",
    "%load_ext jupyter_black\n",
    "import numpy as np\n",
    "import matplotlib\n",
    "import matplotlib.pyplot as plt\n",
    "import pickle\n",
    "from mls_scf_tools.mls_pint import ureg\n",
    "plt.style.use(\"mls_scf\")\n",
    "def vdir(obj):\n",
    "    return [x for x in dir(obj) if not x.startswith('__')]\n",
    "# fmt: on"
   ]
  },
  {
   "cell_type": "code",
   "execution_count": 19,
   "id": "30e86231-83e0-4612-bc04-31ef858677c7",
   "metadata": {},
   "outputs": [],
   "source": [
    "import json"
   ]
  },
  {
   "cell_type": "code",
   "execution_count": 10,
   "id": "1c461a76-f893-412d-81b3-02aea026a322",
   "metadata": {},
   "outputs": [],
   "source": [
    "%autoreload 2"
   ]
  },
  {
   "cell_type": "code",
   "execution_count": 11,
   "id": "d5158e76-1305-4a2e-8c78-43d9a28b78fe",
   "metadata": {},
   "outputs": [],
   "source": [
    "import dualpy as dp"
   ]
  },
  {
   "cell_type": "code",
   "execution_count": 18,
   "id": "b09d2c74-6c8d-4252-8dd5-84127c34937f",
   "metadata": {},
   "outputs": [],
   "source": [
    "import sys\n",
    "from pathlib import Path\n",
    "\n",
    "module_path = Path(\"/users/livesey/python/dualpy/testing/\")\n",
    "if module_path not in sys.path:\n",
    "    sys.path.insert(0, str(module_path))\n",
    "import test_support\n",
    "\n",
    "# del(sys.path[sys.path.index(module_path)])"
   ]
  },
  {
   "cell_type": "code",
   "execution_count": 57,
   "id": "61260f4c-c392-4be7-8ee6-7d5151cb574a",
   "metadata": {},
   "outputs": [],
   "source": [
    "t = np.arange(10) * ureg.s\n",
    "omega = 2 * np.pi / (25 * ureg.s)\n",
    "a = 5.0 * ureg.m"
   ]
  },
  {
   "cell_type": "code",
   "execution_count": 59,
   "id": "882d8a49-b093-4d89-96c7-8f5a332f01d3",
   "metadata": {},
   "outputs": [],
   "source": [
    "t = dp.seed(t, \"t\", initial_type=\"sparse\", reset=True, force=True)\n",
    "a = dp.seed(a, \"a\", force=True, reset=True)\n",
    "omega = dp.seed(omega, \"omega\", force=True, reset=True)\n",
    "x = a * np.sin(omega * t)"
   ]
  },
  {
   "cell_type": "code",
   "execution_count": 63,
   "id": "96a148ef-8580-47ff-b19e-207dbc14dddc",
   "metadata": {},
   "outputs": [
    {
     "name": "stdout",
     "output_type": "stream",
     "text": [
      "_shape is <class 'tuple'>\n",
      "maxprint is <class 'int'>\n",
      "indices is <class 'numpy.ndarray'>\n",
      "indptr is <class 'numpy.ndarray'>\n",
      "data is <class 'numpy.ndarray'>\n"
     ]
    }
   ],
   "source": [
    "for key, item in t.jacobians[\"t\"].data.__dict__.items():\n",
    "    if callable(item):\n",
    "        continue\n",
    "    print(f\"{key} is {type(item)}\")"
   ]
  },
  {
   "cell_type": "code",
   "execution_count": 64,
   "id": "32f94058-a69b-4620-b896-b6f7a854e9ac",
   "metadata": {},
   "outputs": [],
   "source": [
    "j = json.dumps(x, default=test_support.custom_json_serializer)"
   ]
  },
  {
   "cell_type": "code",
   "execution_count": 65,
   "id": "c0fc9d02-fc97-4fae-a979-5a0f869cc37f",
   "metadata": {},
   "outputs": [
    {
     "data": {
      "text/plain": [
       "'{\"variable\": {\"magnitude\": [0.0, 1.243449435824274, 2.4087683705085765, 3.4227355296434436, 4.221639627510076, 4.755282581475767, 4.990133642141358, 4.911436253643443, 4.524135262330097, 3.852566213878946], \"units\": \"meter\"}, \"jacobians\": {\"a\": {\"dependent_unit\": \"meter\", \"independent_unit\": \"meter\", \"dependent_shape\": [10], \"independent_shape\": [], \"dependent_size\": 10, \"independent_size\": 1, \"dependent_ndim\": 1, \"independent_ndim\": 0, \"shape\": [10], \"ndim\": 1, \"shape_2d\": [10, 1], \"data\": [0.0, 0.2486898871648548, 0.4817536741017153, 0.6845471059286887, 0.8443279255020151, 0.9510565162951535, 0.9980267284282716, 0.9822872507286886, 0.9048270524660195, 0.7705132427757893]}, \"omega\": {\"dependent_unit\": \"meter\", \"independent_unit\": \"1 / second\", \"dependent_shape\": [10], \"independent_shape\": [], \"dependent_size\": 10, \"independent_size\": 1, \"dependent_ndim\": 1, \"independent_ndim\": 0, \"shape\": [10], \"ndim\": 1, \"shape_2d\": [10, 1], \"data\": [0.0, 4.842915805643155, 8.763066800438637, 10.934529411321172, 10.716535899579931, 7.725424859373686, 1.8837155858793992, -6.558346010500369, -17.031171662602908, -28.68407953869104]}, \"t\": {\"dependent_unit\": \"meter\", \"independent_unit\": \"second\", \"dependent_shape\": [10], \"independent_shape\": [10], \"dependent_size\": 10, \"independent_size\": 10, \"dependent_ndim\": 1, \"independent_ndim\": 1, \"shape\": [10, 10], \"ndim\": 2, \"shape_2d\": [10, 10], \"data\": {\"indicies\": [0, 1, 2, 3, 4, 5, 6, 7, 8, 9], \"indptr\": [0, 1, 2, 3, 4, 5, 6, 7, 8, 9, 10], \"data\": [1.2566370614359172, 1.2171574973569945, 1.1011994513269854, 0.9160489938418168, 0.6733398090810319, 0.3883222077450934, 0.07890489394735085, -0.23547030452900441, -0.5350500377725996, -0.8010106093665519]}}}}'"
      ]
     },
     "execution_count": 65,
     "metadata": {},
     "output_type": "execute_result"
    }
   ],
   "source": [
    "j"
   ]
  },
  {
   "cell_type": "code",
   "execution_count": 44,
   "id": "c12cbf9c-9773-4fec-96f4-1d43db324f0b",
   "metadata": {},
   "outputs": [],
   "source": [
    "t = json.loads(j)"
   ]
  },
  {
   "cell_type": "code",
   "execution_count": 45,
   "id": "9ad039d6-9ab1-420c-8817-d38f06e87525",
   "metadata": {},
   "outputs": [
    {
     "data": {
      "text/plain": [
       "{'variable': {'magnitude': [0.0,\n",
       "   1.243449435824274,\n",
       "   2.4087683705085765,\n",
       "   3.4227355296434436,\n",
       "   4.221639627510076,\n",
       "   4.755282581475767,\n",
       "   4.990133642141358,\n",
       "   4.911436253643443,\n",
       "   4.524135262330097,\n",
       "   3.852566213878946],\n",
       "  'units': 'meter'},\n",
       " 'jacobians': {'a': {'dependent_unit': 'meter',\n",
       "   'independent_unit': 'meter',\n",
       "   'dependent_shape': [10],\n",
       "   'independent_shape': [],\n",
       "   'dependent_size': 10,\n",
       "   'independent_size': 1,\n",
       "   'dependent_ndim': 1,\n",
       "   'independent_ndim': 0,\n",
       "   'shape': [10],\n",
       "   'ndim': 1,\n",
       "   'shape_2d': [10, 1],\n",
       "   'data': [0.0,\n",
       "    0.2486898871648548,\n",
       "    0.4817536741017153,\n",
       "    0.6845471059286887,\n",
       "    0.8443279255020151,\n",
       "    0.9510565162951535,\n",
       "    0.9980267284282716,\n",
       "    0.9822872507286886,\n",
       "    0.9048270524660195,\n",
       "    0.7705132427757893]},\n",
       "  'omega': {'dependent_unit': 'meter',\n",
       "   'independent_unit': '1 / second',\n",
       "   'dependent_shape': [10],\n",
       "   'independent_shape': [],\n",
       "   'dependent_size': 10,\n",
       "   'independent_size': 1,\n",
       "   'dependent_ndim': 1,\n",
       "   'independent_ndim': 0,\n",
       "   'shape': [10],\n",
       "   'ndim': 1,\n",
       "   'shape_2d': [10, 1],\n",
       "   'data': [0.0,\n",
       "    4.842915805643155,\n",
       "    8.763066800438637,\n",
       "    10.934529411321172,\n",
       "    10.716535899579931,\n",
       "    7.725424859373686,\n",
       "    1.8837155858793992,\n",
       "    -6.558346010500369,\n",
       "    -17.031171662602908,\n",
       "    -28.68407953869104]},\n",
       "  't': {'dependent_unit': 'meter',\n",
       "   'independent_unit': 'second',\n",
       "   'dependent_shape': [10],\n",
       "   'independent_shape': [10],\n",
       "   'dependent_size': 10,\n",
       "   'independent_size': 10,\n",
       "   'dependent_ndim': 1,\n",
       "   'independent_ndim': 1,\n",
       "   'shape': [10, 10],\n",
       "   'ndim': 2,\n",
       "   'shape_2d': [10, 10],\n",
       "   'data': [1.2566370614359172,\n",
       "    1.2171574973569945,\n",
       "    1.1011994513269854,\n",
       "    0.9160489938418168,\n",
       "    0.6733398090810319,\n",
       "    0.3883222077450934,\n",
       "    0.07890489394735085,\n",
       "    -0.23547030452900441,\n",
       "    -0.5350500377725996,\n",
       "    -0.8010106093665519]}}}"
      ]
     },
     "execution_count": 45,
     "metadata": {},
     "output_type": "execute_result"
    }
   ],
   "source": [
    "t"
   ]
  },
  {
   "cell_type": "code",
   "execution_count": null,
   "id": "1c2d65cc-d8db-475d-b8a2-54914dbe98a3",
   "metadata": {},
   "outputs": [],
   "source": []
  }
 ],
 "metadata": {
  "kernelspec": {
   "display_name": "Python 3 (ipykernel)",
   "language": "python",
   "name": "python3"
  },
  "language_info": {
   "codemirror_mode": {
    "name": "ipython",
    "version": 3
   },
   "file_extension": ".py",
   "mimetype": "text/x-python",
   "name": "python",
   "nbconvert_exporter": "python",
   "pygments_lexer": "ipython3",
   "version": "3.12.8"
  }
 },
 "nbformat": 4,
 "nbformat_minor": 5
}
