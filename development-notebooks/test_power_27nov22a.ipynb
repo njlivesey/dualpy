{
 "cells": [
  {
   "cell_type": "code",
   "execution_count": 1,
   "id": "9eb9c377-0f3e-4fbf-aeb9-8ba8df207802",
   "metadata": {},
   "outputs": [],
   "source": [
    "# fmt: off\n",
    "%matplotlib inline\n",
    "%config InlineBackend.figure_format = \"retina\"\n",
    "%load_ext autoreload\n",
    "%load_ext lab_black\n",
    "import numpy as np\n",
    "import matplotlib\n",
    "import matplotlib.pyplot as plt\n",
    "import pickle\n",
    "from mls_scf_tools.mls_pint import ureg\n",
    "plt.style.use(\"mls_scf\")\n",
    "def vdir(obj):\n",
    "    return [x for x in dir(obj) if not x.startswith('__')]\n",
    "# fmt: on"
   ]
  },
  {
   "cell_type": "code",
   "execution_count": 2,
   "id": "2c1c8998-9719-43a5-b73c-778e23b08d99",
   "metadata": {},
   "outputs": [],
   "source": [
    "%autoreload 2"
   ]
  },
  {
   "cell_type": "code",
   "execution_count": 3,
   "id": "95db470b-2f30-43ed-83cd-a035c9c6bdca",
   "metadata": {},
   "outputs": [],
   "source": [
    "import dualpy as dp"
   ]
  },
  {
   "cell_type": "code",
   "execution_count": 4,
   "id": "74b6f1fa-675e-46fd-8a50-8e6dbcc51bdf",
   "metadata": {},
   "outputs": [],
   "source": [
    "xx = np.arange(10) * ureg.m\n",
    "x = dp.seed(xx, \"x\")"
   ]
  },
  {
   "cell_type": "code",
   "execution_count": 5,
   "id": "65cab660-3e79-45e7-8e23-0e14ac4160cb",
   "metadata": {},
   "outputs": [],
   "source": [
    "test = 10 ** (x / ureg.m)"
   ]
  },
  {
   "cell_type": "code",
   "execution_count": null,
   "id": "d0dffff7-c773-4b38-8a50-f81e92f6fd17",
   "metadata": {},
   "outputs": [],
   "source": []
  }
 ],
 "metadata": {
  "kernelspec": {
   "display_name": "njl-base-3.10",
   "language": "python",
   "name": "njl-base-3.10"
  },
  "language_info": {
   "codemirror_mode": {
    "name": "ipython",
    "version": 3
   },
   "file_extension": ".py",
   "mimetype": "text/x-python",
   "name": "python",
   "nbconvert_exporter": "python",
   "pygments_lexer": "ipython3",
   "version": "3.10.4"
  }
 },
 "nbformat": 4,
 "nbformat_minor": 5
}
