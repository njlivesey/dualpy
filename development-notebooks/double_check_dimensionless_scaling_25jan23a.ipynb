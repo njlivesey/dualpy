{
 "cells": [
  {
   "cell_type": "code",
   "execution_count": 1,
   "id": "243d1b70-371f-4b83-8fda-2731612eecfe",
   "metadata": {},
   "outputs": [],
   "source": [
    "# fmt: off\n",
    "%matplotlib inline\n",
    "%config InlineBackend.figure_format = \"retina\"\n",
    "%load_ext autoreload\n",
    "%load_ext lab_black\n",
    "import numpy as np\n",
    "import matplotlib\n",
    "import matplotlib.pyplot as plt\n",
    "import pickle\n",
    "from mls_scf_tools.mls_pint import ureg\n",
    "plt.style.use(\"mls_scf\")\n",
    "def vdir(obj):\n",
    "    return [x for x in dir(obj) if not x.startswith('__')]\n",
    "# fmt: on"
   ]
  },
  {
   "cell_type": "code",
   "execution_count": 2,
   "id": "c1d0f748-28fc-463a-bb8d-182ef8ee4dd6",
   "metadata": {},
   "outputs": [],
   "source": [
    "%autoreload 2"
   ]
  },
  {
   "cell_type": "code",
   "execution_count": 3,
   "id": "8daf72e2-2c0d-4b08-88c6-179d3bc3193d",
   "metadata": {},
   "outputs": [],
   "source": [
    "import dualpy as dp"
   ]
  },
  {
   "cell_type": "code",
   "execution_count": 4,
   "id": "5b3313d7-3d6f-4bfc-b49f-1859ae1943af",
   "metadata": {},
   "outputs": [],
   "source": [
    "t_s = np.arange(60) * ureg.s"
   ]
  },
  {
   "cell_type": "code",
   "execution_count": 5,
   "id": "2984ea0f-e88a-44b2-a681-2a625b61dbff",
   "metadata": {},
   "outputs": [],
   "source": [
    "v = 10.0 * ureg.m / ureg.s"
   ]
  },
  {
   "cell_type": "code",
   "execution_count": 6,
   "id": "02ad8511-296d-49b2-bf11-0ac8c0944238",
   "metadata": {},
   "outputs": [],
   "source": [
    "t_s = dp.seed(t_s, \"t\")"
   ]
  },
  {
   "cell_type": "code",
   "execution_count": 7,
   "id": "6a4ac38a-e96a-4b4c-9a88-876bf12e1a2e",
   "metadata": {},
   "outputs": [],
   "source": [
    "t_m = t_s.variable.to(ureg.minute)\n",
    "t_m = dp.seed(t_m, \"t\")"
   ]
  },
  {
   "cell_type": "code",
   "execution_count": 8,
   "id": "537a6395-0730-4602-a08d-6769c590b1c2",
   "metadata": {},
   "outputs": [
    {
     "name": "stdout",
     "output_type": "stream",
     "text": [
      "[1.0 1.0 1.0 1.0 1.0 1.0 1.0 1.0 1.0 1.0 1.0 1.0 1.0 1.0 1.0 1.0 1.0 1.0 1.0 1.0 1.0 1.0 1.0 1.0 1.0 1.0 1.0 1.0 1.0 1.0 1.0 1.0 1.0 1.0 1.0 1.0 1.0 1.0 1.0 1.0 1.0 1.0 1.0 1.0 1.0 1.0 1.0 1.0 1.0 1.0 1.0 1.0 1.0 1.0 1.0 1.0 1.0 1.0 1.0 1.0] dimensionless\n"
     ]
    }
   ],
   "source": [
    "print(t_m.jacobians[\"t\"].extract_diagonal())"
   ]
  },
  {
   "cell_type": "code",
   "execution_count": 9,
   "id": "9e7fcab2-c7a3-4769-805b-e91735b37852",
   "metadata": {},
   "outputs": [],
   "source": [
    "x_s = v * t_s\n",
    "x_m = v * t_m"
   ]
  },
  {
   "cell_type": "code",
   "execution_count": 10,
   "id": "8262f4bf-4d71-4e4b-8ed0-5868aa63a25a",
   "metadata": {},
   "outputs": [
    {
     "name": "stdout",
     "output_type": "stream",
     "text": [
      "10.0 meter / second\n",
      "10.0 meter / second\n"
     ]
    }
   ],
   "source": [
    "print(x_s.jacobians[\"t\"].extract_diagonal()[0].to_base_units())\n",
    "print(x_m.jacobians[\"t\"].extract_diagonal()[0].to_base_units())"
   ]
  },
  {
   "cell_type": "code",
   "execution_count": 11,
   "id": "7fc6290b-73ba-4650-afc9-9505dd241cc7",
   "metadata": {},
   "outputs": [],
   "source": [
    "tau = 10.0 * ureg.hour"
   ]
  },
  {
   "cell_type": "code",
   "execution_count": 12,
   "id": "9bf9f9ec-95fb-4b4a-9849-77d8986f7d4e",
   "metadata": {},
   "outputs": [],
   "source": [
    "y_s = np.exp(-((t_s / tau) ** 2))\n",
    "y_m = np.exp(-((t_m / tau) ** 2))"
   ]
  },
  {
   "cell_type": "code",
   "execution_count": 13,
   "id": "f84e3033-af74-485c-aa98-f6277375cc05",
   "metadata": {},
   "outputs": [
    {
     "name": "stdout",
     "output_type": "stream",
     "text": [
      "[-0.0 -1.543209875352462e-09 -3.0864197435604334e-09 -4.6296295974794245e-09 -6.172839429964946e-09 -7.716049233872505e-09 -9.259259002057619e-09 -1.080246872737579e-08 -1.2345678402682535e-08 -1.3888888020833361e-08 -1.5432097574683783e-08 -1.6975307057089316e-08 -1.8518516460905467e-08 -2.006172577898775e-08 -2.1604935004191685e-08 -2.3148144129372778e-08 -2.4691353147386554e-08 -2.6234562051088523e-08 -2.7777770833334206e-08 -2.932097948697912e-08 -3.0864188004878775e-08 -3.240739637988871e-08 -3.395060460486443e-08 -3.5493812672661474e-08 -3.703702057613535e-08 -3.8580228308141585e-08 -4.012343586153571e-08 -4.166664322917326e-08 -4.320985040390975e-08 -4.4753057378600724e-08 -4.62962641461017e-08 -4.783947069926823e-08 -4.9382677030955824e-08 -5.092588313402004e-08 -5.246908900131642e-08 -5.4012294625700474e-08 -5.5555500000027784e-08 -5.709870511715387e-08 -5.864190996993429e-08 -6.018511455122459e-08 -6.17283188538803e-08 -6.327152287075702e-08 -6.481472659471025e-08 -6.635793001859556e-08 -6.790113313526857e-08 -6.944433593758479e-08 -7.098753841839976e-08 -7.25307405705691e-08 -7.407394238694833e-08 -7.561714386039308e-08 -7.716034498375886e-08 -7.870354574990132e-08 -8.024674615167596e-08 -8.178994618193844e-08 -8.333314583354427e-08 -8.48763450993491e-08 -8.641954397220851e-08 -8.796274244497806e-08 -8.95059405105134e-08 -9.104913816167008e-08] / second\n",
      "[-0.0 -1.5432098753524617e-09 -3.086419743560433e-09 -4.629629597479425e-09 -6.1728394299649454e-09 -7.716049233872505e-09 -9.259259002057619e-09 -1.0802468727375789e-08 -1.2345678402682534e-08 -1.388888802083336e-08 -1.543209757468378e-08 -1.6975307057089313e-08 -1.8518516460905467e-08 -2.0061725778987753e-08 -2.1604935004191685e-08 -2.314814412937278e-08 -2.4691353147386554e-08 -2.623456205108852e-08 -2.7777770833334203e-08 -2.9320979486979115e-08 -3.0864188004878775e-08 -3.2407396379888706e-08 -3.395060460486443e-08 -3.549381267266147e-08 -3.7037020576135356e-08 -3.858022830814159e-08 -4.012343586153572e-08 -4.1666643229173255e-08 -4.320985040390976e-08 -4.4753057378600724e-08 -4.6296264146101707e-08 -4.7839470699268215e-08 -4.9382677030955824e-08 -5.0925883134020056e-08 -5.246908900131641e-08 -5.401229462570048e-08 -5.555550000002778e-08 -5.709870511715387e-08 -5.864190996993428e-08 -6.018511455122458e-08 -6.172831885388029e-08 -6.327152287075702e-08 -6.481472659471024e-08 -6.635793001859559e-08 -6.790113313526857e-08 -6.944433593758479e-08 -7.098753841839974e-08 -7.25307405705691e-08 -7.407394238694835e-08 -7.561714386039308e-08 -7.716034498375888e-08 -7.87035457499013e-08 -8.024674615167598e-08 -8.178994618193842e-08 -8.333314583354428e-08 -8.487634509934911e-08 -8.641954397220851e-08 -8.796274244497806e-08 -8.95059405105134e-08 -9.104913816167005e-08] / second\n"
     ]
    }
   ],
   "source": [
    "print(y_s.jacobians[\"t\"].extract_diagonal().to_base_units())\n",
    "print(y_m.jacobians[\"t\"].extract_diagonal().to_base_units())"
   ]
  },
  {
   "cell_type": "code",
   "execution_count": null,
   "id": "7f0212d4-4da9-413f-a921-ae905f1dff63",
   "metadata": {},
   "outputs": [],
   "source": []
  }
 ],
 "metadata": {
  "kernelspec": {
   "display_name": "njl-base-3.10-02dec22",
   "language": "python",
   "name": "njl-base-3.10-02dec22"
  },
  "language_info": {
   "codemirror_mode": {
    "name": "ipython",
    "version": 3
   },
   "file_extension": ".py",
   "mimetype": "text/x-python",
   "name": "python",
   "nbconvert_exporter": "python",
   "pygments_lexer": "ipython3",
   "version": "3.10.4"
  }
 },
 "nbformat": 4,
 "nbformat_minor": 5
}
