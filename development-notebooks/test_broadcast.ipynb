{
 "cells": [
  {
   "cell_type": "code",
   "execution_count": null,
   "id": "f45fbcc6-62d7-4494-bd7a-100242be8957",
   "metadata": {},
   "outputs": [],
   "source": [
    "%matplotlib inline\n",
    "%config InlineBackend.figure_format = 'retina'\n",
    "%load_ext autoreload\n",
    "import numpy as np\n",
    "import matplotlib.pyplot as plt\n",
    "import astropy.units as units\n",
    "import pickle\n",
    "import astropy.constants as apconstants"
   ]
  },
  {
   "cell_type": "code",
   "execution_count": null,
   "id": "86016eb4-aa31-43e5-a155-f07dc7a520a3",
   "metadata": {},
   "outputs": [],
   "source": [
    "plt.style.use(\"bmh\")\n",
    "plt.rcParams.update({\n",
    "    'font.size': 12,\n",
    "    'figure.figsize': (8,6),\n",
    "    'xtick.minor.visible': True,\n",
    "    'ytick.minor.visible': True})"
   ]
  },
  {
   "cell_type": "code",
   "execution_count": null,
   "id": "6f7f7232-aae7-4d0f-b37a-250f259d7c91",
   "metadata": {},
   "outputs": [],
   "source": [
    "%autoreload 2\n",
    "import madart.dualpy as dp"
   ]
  },
  {
   "cell_type": "code",
   "execution_count": null,
   "id": "6759ed9e-6d37-4555-8476-52f48932a568",
   "metadata": {},
   "outputs": [],
   "source": [
    "with open(\"/users/livesey/python/madart/sandbox-nathaniel/proto-fwm/snapshot.pickle\", \"rb\") as file:\n",
    "    nu, temperature = pickle.load(file)"
   ]
  },
  {
   "cell_type": "code",
   "execution_count": null,
   "id": "1f380b1e-5588-4caf-845a-be55378d2941",
   "metadata": {},
   "outputs": [],
   "source": [
    "from madart.madart.planck_function import planck_function as pf"
   ]
  },
  {
   "cell_type": "code",
   "execution_count": null,
   "id": "5cd833e8-4c3e-4fa6-a19f-622c81dc4a33",
   "metadata": {},
   "outputs": [],
   "source": [
    "print(temperature.shape, temperature.jacobians[\"Temperature\"].dependent_shape)"
   ]
  },
  {
   "cell_type": "code",
   "execution_count": null,
   "id": "5b1cebf0-c901-4ed7-80f4-87857be45367",
   "metadata": {},
   "outputs": [],
   "source": [
    "k = units.Quantity(apconstants.k_B)\n",
    "h = units.Quantity(apconstants.h)\n",
    "hnu = h*nu\n",
    "kT = k*temperature\n",
    "print(f\"My shapes are: {temperature.shape}, {temperature.jacobians['Temperature'].dependent_shape}\")\n",
    "test = hnu / kT\n"
   ]
  },
  {
   "cell_type": "code",
   "execution_count": null,
   "id": "ec0b0532-e29f-487e-aefc-b6dc1dc86175",
   "metadata": {},
   "outputs": [],
   "source": []
  },
  {
   "cell_type": "code",
   "execution_count": null,
   "id": "5a71fce0-8744-4887-bf8d-787f9394c507",
   "metadata": {},
   "outputs": [],
   "source": [
    "pf(nu, temperature)"
   ]
  },
  {
   "cell_type": "code",
   "execution_count": null,
   "id": "4223ca2b-890d-4b2b-8f0f-17f59295dd48",
   "metadata": {},
   "outputs": [],
   "source": []
  }
 ],
 "metadata": {
  "kernelspec": {
   "display_name": "njl-base-3.9",
   "language": "python",
   "name": "njl-base-3.9"
  },
  "language_info": {
   "codemirror_mode": {
    "name": "ipython",
    "version": 3
   },
   "file_extension": ".py",
   "mimetype": "text/x-python",
   "name": "python",
   "nbconvert_exporter": "python",
   "pygments_lexer": "ipython3",
   "version": "3.9.5"
  }
 },
 "nbformat": 4,
 "nbformat_minor": 5
}
