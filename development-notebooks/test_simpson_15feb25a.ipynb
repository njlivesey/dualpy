{
 "cells": [
  {
   "cell_type": "code",
   "execution_count": 1,
   "id": "403d9b7d-9a6c-48c0-9a92-fc3a54ec9a08",
   "metadata": {},
   "outputs": [],
   "source": [
    "# fmt: off\n",
    "%matplotlib inline\n",
    "%config InlineBackend.figure_format = \"retina\"\n",
    "%load_ext autoreload\n",
    "%load_ext jupyter_black\n",
    "import numpy as np\n",
    "import matplotlib\n",
    "import matplotlib.pyplot as plt\n",
    "import pickle\n",
    "from mls_scf_tools.mls_pint import ureg\n",
    "plt.style.use(\"mls_scf\")\n",
    "def vdir(obj):\n",
    "    return [x for x in dir(obj) if not x.startswith('__')]\n",
    "# fmt: on"
   ]
  },
  {
   "cell_type": "code",
   "execution_count": 2,
   "id": "33884763-3326-4c62-91ab-74aed68de339",
   "metadata": {},
   "outputs": [],
   "source": [
    "from scipy import integrate"
   ]
  },
  {
   "cell_type": "code",
   "execution_count": 3,
   "id": "65e960d5-4ae8-4694-ba64-b90b36be0e31",
   "metadata": {},
   "outputs": [],
   "source": [
    "%autoreload 2"
   ]
  },
  {
   "cell_type": "code",
   "execution_count": 4,
   "id": "ffff8110-1f8c-4b51-b0b7-34f9ec31e895",
   "metadata": {},
   "outputs": [],
   "source": [
    "import dualpy as dp"
   ]
  },
  {
   "cell_type": "code",
   "execution_count": 38,
   "id": "7586db1e-bb3c-4809-ae0c-dd914ad7206a",
   "metadata": {},
   "outputs": [],
   "source": [
    "n_points = 10\n",
    "x = np.linspace(-np.pi, np.pi, n_points)\n",
    "y = np.cos(x) + 1"
   ]
  },
  {
   "cell_type": "code",
   "execution_count": 39,
   "id": "85193ba1-88ff-4728-a2e8-5a6a442e0a95",
   "metadata": {},
   "outputs": [
    {
     "name": "stdout",
     "output_type": "stream",
     "text": [
      "(4,) (4,)\n",
      "6.289554037193171 6.289554037193171 0.0 0.006368730013584845\n"
     ]
    }
   ],
   "source": [
    "a = integrate.simpson(y, x)\n",
    "b = dp.simpson_nonuniform(x, y)\n",
    "print(a, b, a - b, a - 2 * np.pi)"
   ]
  },
  {
   "cell_type": "code",
   "execution_count": 42,
   "id": "5de7e184-123f-4571-9a21-8652a4644904",
   "metadata": {},
   "outputs": [],
   "source": [
    "gl = integrate.quad(lambda x: np.cos(x) + 1, -np.pi, np.pi)"
   ]
  },
  {
   "cell_type": "code",
   "execution_count": 44,
   "id": "31448c68-d13d-4b93-aa76-2d004f33d1ec",
   "metadata": {},
   "outputs": [
    {
     "data": {
      "text/plain": [
       "0.0"
      ]
     },
     "execution_count": 44,
     "metadata": {},
     "output_type": "execute_result"
    }
   ],
   "source": [
    "gl[0] - 2 * np.pi"
   ]
  },
  {
   "cell_type": "code",
   "execution_count": null,
   "id": "3b37be3d-05ed-4170-bc9f-98002a0eb4b6",
   "metadata": {},
   "outputs": [],
   "source": []
  }
 ],
 "metadata": {
  "kernelspec": {
   "display_name": "Python 3 (ipykernel)",
   "language": "python",
   "name": "python3"
  },
  "language_info": {
   "codemirror_mode": {
    "name": "ipython",
    "version": 3
   },
   "file_extension": ".py",
   "mimetype": "text/x-python",
   "name": "python",
   "nbconvert_exporter": "python",
   "pygments_lexer": "ipython3",
   "version": "3.12.8"
  }
 },
 "nbformat": 4,
 "nbformat_minor": 5
}
