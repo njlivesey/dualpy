{
 "cells": [
  {
   "cell_type": "code",
   "execution_count": null,
   "id": "5c0e4f12-e40d-4dc0-901d-b30317b6033e",
   "metadata": {},
   "outputs": [],
   "source": [
    "import madart.dualpy as dp\n",
    "import astropy.units as units\n",
    "import numpy as np"
   ]
  },
  {
   "cell_type": "code",
   "execution_count": null,
   "id": "3a9bd5c0-af37-4907-aa89-f377c1d731ea",
   "metadata": {},
   "outputs": [],
   "source": [
    "x = np.arange(10)*units.s\n",
    "y = np.arange(100,110)*units.s\n",
    "y = dp.seed(y,\"y\")"
   ]
  },
  {
   "cell_type": "code",
   "execution_count": null,
   "id": "9de722d6-ec78-47ee-b6bf-e28def2f9c70",
   "metadata": {},
   "outputs": [],
   "source": [
    "print(type(x))\n",
    "x += y"
   ]
  },
  {
   "cell_type": "code",
   "execution_count": null,
   "id": "d23a658c-6474-4426-95e1-3376e37b46b1",
   "metadata": {},
   "outputs": [],
   "source": [
    "print(type(x))"
   ]
  }
 ],
 "metadata": {
  "kernelspec": {
   "display_name": "njl-base-3.9",
   "language": "python",
   "name": "njl-base-3.9"
  },
  "language_info": {
   "codemirror_mode": {
    "name": "ipython",
    "version": 3
   },
   "file_extension": ".py",
   "mimetype": "text/x-python",
   "name": "python",
   "nbconvert_exporter": "python",
   "pygments_lexer": "ipython3",
   "version": "3.9.5"
  }
 },
 "nbformat": 4,
 "nbformat_minor": 5
}
