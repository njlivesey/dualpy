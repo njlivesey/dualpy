{
 "cells": [
  {
   "cell_type": "code",
   "execution_count": 1,
   "id": "bf1a9eb5-afa8-4537-ba87-8ba9749a3345",
   "metadata": {},
   "outputs": [
    {
     "data": {
      "text/html": [
       "\n",
       "                <script type=\"application/javascript\" id=\"jupyter_black\">\n",
       "                (function() {\n",
       "                    if (window.IPython === undefined) {\n",
       "                        return\n",
       "                    }\n",
       "                    var msg = \"WARNING: it looks like you might have loaded \" +\n",
       "                        \"jupyter_black in a non-lab notebook with \" +\n",
       "                        \"`is_lab=True`. Please double check, and if \" +\n",
       "                        \"loading with `%load_ext` please review the README!\"\n",
       "                    console.log(msg)\n",
       "                    alert(msg)\n",
       "                })()\n",
       "                </script>\n",
       "                "
      ],
      "text/plain": [
       "<IPython.core.display.HTML object>"
      ]
     },
     "metadata": {},
     "output_type": "display_data"
    }
   ],
   "source": [
    "# fmt: off\n",
    "%matplotlib inline\n",
    "%config InlineBackend.figure_format = \"retina\"\n",
    "%load_ext autoreload\n",
    "%load_ext jupyter_black\n",
    "import numpy as np\n",
    "import matplotlib\n",
    "import matplotlib.pyplot as plt\n",
    "import pickle\n",
    "from mls_scf_tools.mls_pint import ureg\n",
    "plt.style.use(\"mls_scf\")\n",
    "def vdir(obj):\n",
    "    return [x for x in dir(obj) if not x.startswith('__')]\n",
    "# fmt: on"
   ]
  },
  {
   "cell_type": "code",
   "execution_count": 2,
   "id": "d7e3bbbe-e5ee-467a-8549-8e71bdc9de42",
   "metadata": {},
   "outputs": [],
   "source": [
    "import pint"
   ]
  },
  {
   "cell_type": "code",
   "execution_count": 3,
   "id": "8f70882c-6d49-4e96-8b55-2e7cab53bce4",
   "metadata": {},
   "outputs": [],
   "source": [
    "%autoreload 2\n",
    "from mls_scf_tools.mls_pint import ureg\n",
    "import dualpy as dp"
   ]
  },
  {
   "cell_type": "code",
   "execution_count": 4,
   "id": "ff344b53-faa5-4580-a41a-959e82062e8f",
   "metadata": {},
   "outputs": [],
   "source": [
    "t = np.arange(10) * ureg.s\n",
    "t = dp.seed(t, \"t\")"
   ]
  },
  {
   "cell_type": "code",
   "execution_count": 5,
   "id": "18f8a632-c0df-4a8d-bb60-39d4aa590125",
   "metadata": {},
   "outputs": [
    {
     "data": {
      "text/plain": [
       "dlarray-wrapped-<Quantity([0 1 2 3 4 5 6 7 8 9], 'second')>"
      ]
     },
     "execution_count": 5,
     "metadata": {},
     "output_type": "execute_result"
    }
   ],
   "source": [
    "t"
   ]
  },
  {
   "cell_type": "code",
   "execution_count": 6,
   "id": "b037929c-cd13-41df-9e25-fc24afd53979",
   "metadata": {},
   "outputs": [
    {
     "data": {
      "text/plain": [
       "{'t': Jacobian of type <class 'dualpy.diagonal_jacobians.SeedJacobian'>\n",
       " Dependent shape is (10,) <10>\n",
       " Independent shape is (10,) <10>\n",
       " Combined they are (10, 10) <100>\n",
       " Dummies are (1,) and (1,)\n",
       " Units are d<second>/d<second> = <dimensionless>\n",
       " data is (10,)}"
      ]
     },
     "execution_count": 6,
     "metadata": {},
     "output_type": "execute_result"
    }
   ],
   "source": [
    "t.jacobians"
   ]
  },
  {
   "cell_type": "code",
   "execution_count": 7,
   "id": "369781b7-e677-469a-ba09-bfb01e38d776",
   "metadata": {},
   "outputs": [
    {
     "data": {
      "text/plain": [
       "array([1., 1., 1., 1., 1., 1., 1., 1., 1., 1.])"
      ]
     },
     "execution_count": 7,
     "metadata": {},
     "output_type": "execute_result"
    }
   ],
   "source": [
    "t.jacobians[\"t\"].data"
   ]
  },
  {
   "cell_type": "code",
   "execution_count": 8,
   "id": "c0998fb1-9dc9-42be-bfc1-06cf69b2a3dd",
   "metadata": {},
   "outputs": [
    {
     "data": {
      "text/plain": [
       "{'pint_pandas.pint_array.PintArray': None,\n",
       " 'xarray.core.dataarray.DataArray': None,\n",
       " 'xarray.core.dataset.Dataset': None,\n",
       " 'xarray.core.variable.Variable': None,\n",
       " 'pandas.core.series.Series': None,\n",
       " 'pandas.core.frame.DataFrame': None,\n",
       " 'dualpy.duals.dlarray': None,\n",
       " 'dualpy.duals.dlarray_pint': None}"
      ]
     },
     "execution_count": 8,
     "metadata": {},
     "output_type": "execute_result"
    }
   ],
   "source": [
    "pint.compat.upcast_type_map"
   ]
  },
  {
   "cell_type": "code",
   "execution_count": 9,
   "id": "045a20dd-ba04-4676-8d12-ac3ecb32364f",
   "metadata": {},
   "outputs": [
    {
     "data": {
      "text/plain": [
       "dualpy.duals.dlarray"
      ]
     },
     "metadata": {},
     "output_type": "display_data"
    }
   ],
   "source": [
    "display(dp.duals.dlarray)"
   ]
  },
  {
   "cell_type": "code",
   "execution_count": 10,
   "id": "d1722644-3501-4f8f-a044-70621093f53b",
   "metadata": {},
   "outputs": [
    {
     "name": "stdout",
     "output_type": "stream",
     "text": [
      "dlarray\n"
     ]
    }
   ],
   "source": [
    "print(dp.duals.dlarray.__name__)"
   ]
  },
  {
   "cell_type": "code",
   "execution_count": null,
   "id": "3d3d47c0-f719-4ce1-bb7f-193ae963875d",
   "metadata": {},
   "outputs": [],
   "source": []
  }
 ],
 "metadata": {
  "kernelspec": {
   "display_name": "njl-base-3.10-25aug23",
   "language": "python",
   "name": "njl-base-3.10-25aug23"
  },
  "language_info": {
   "codemirror_mode": {
    "name": "ipython",
    "version": 3
   },
   "file_extension": ".py",
   "mimetype": "text/x-python",
   "name": "python",
   "nbconvert_exporter": "python",
   "pygments_lexer": "ipython3",
   "version": "3.10.12"
  }
 },
 "nbformat": 4,
 "nbformat_minor": 5
}
