{
 "cells": [
  {
   "cell_type": "code",
   "execution_count": 1,
   "id": "15ad2321-5fda-4110-9da1-3484c16a940f",
   "metadata": {},
   "outputs": [],
   "source": [
    "# fmt: off\n",
    "%matplotlib inline\n",
    "%config InlineBackend.figure_format = \"retina\"\n",
    "%load_ext autoreload\n",
    "%load_ext lab_black\n",
    "import numpy as np\n",
    "import matplotlib\n",
    "import matplotlib.pyplot as plt\n",
    "import pickle\n",
    "from mls_scf_tools.mls_pint import ureg\n",
    "plt.style.use(\"mls_scf\")\n",
    "def vdir(obj):\n",
    "    return [x for x in dir(obj) if not x.startswith('__')]\n",
    "# fmt: on"
   ]
  },
  {
   "cell_type": "code",
   "execution_count": 2,
   "id": "e3c9da23-663a-408e-868c-db98c0fc8b31",
   "metadata": {},
   "outputs": [],
   "source": [
    "%autoreload 2\n",
    "import dualpy as dp"
   ]
  },
  {
   "cell_type": "code",
   "execution_count": 3,
   "id": "ca202b16-978a-41e1-a8b8-dec437b06757",
   "metadata": {},
   "outputs": [],
   "source": [
    "t = np.arange(10) * ureg.s\n",
    "v = 10.0 * ureg.m / ureg.s"
   ]
  },
  {
   "cell_type": "code",
   "execution_count": 4,
   "id": "07c22665-f3a1-427f-a982-82c6f81ec948",
   "metadata": {},
   "outputs": [],
   "source": [
    "tt = dp.seed(t, \"t\")\n",
    "vv = dp.seed(v, \"v\")"
   ]
  },
  {
   "cell_type": "code",
   "execution_count": 5,
   "id": "2258fcb3-3d61-4350-bc89-8ef88409ce48",
   "metadata": {},
   "outputs": [],
   "source": [
    "x = vv * tt"
   ]
  },
  {
   "cell_type": "code",
   "execution_count": 14,
   "id": "32b7efd9-3702-443f-a6e7-9655866fe23f",
   "metadata": {},
   "outputs": [
    {
     "data": {
      "text/plain": [
       "(10, 1)"
      ]
     },
     "execution_count": 14,
     "metadata": {},
     "output_type": "execute_result"
    }
   ],
   "source": [
    "x.jacobians[\"v\"].to_dense()"
   ]
  },
  {
   "cell_type": "code",
   "execution_count": null,
   "id": "bc1d7f1d-e5c9-4570-b221-062922713d58",
   "metadata": {},
   "outputs": [],
   "source": []
  }
 ],
 "metadata": {
  "kernelspec": {
   "display_name": "njl-base-3.10-02dec22",
   "language": "python",
   "name": "njl-base-3.10-02dec22"
  },
  "language_info": {
   "codemirror_mode": {
    "name": "ipython",
    "version": 3
   },
   "file_extension": ".py",
   "mimetype": "text/x-python",
   "name": "python",
   "nbconvert_exporter": "python",
   "pygments_lexer": "ipython3",
   "version": "3.10.4"
  }
 },
 "nbformat": 4,
 "nbformat_minor": 5
}
