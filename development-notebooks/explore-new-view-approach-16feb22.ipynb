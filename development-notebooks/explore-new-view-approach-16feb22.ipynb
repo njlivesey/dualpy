{
 "cells": [
  {
   "cell_type": "code",
   "execution_count": 1,
   "id": "9864f570-10c3-40f3-ab13-ff36e50f5979",
   "metadata": {},
   "outputs": [],
   "source": [
    "%matplotlib inline\n",
    "%config InlineBackend.figure_format = \"retina\"\n",
    "%load_ext autoreload\n",
    "#\n",
    "import numpy as np\n",
    "import matplotlib\n",
    "import matplotlib.pyplot as plt\n",
    "import astropy.units as units\n",
    "import pickle\n",
    "import copy\n",
    "#\n",
    "plt.style.use(\"mls_scf\")"
   ]
  },
  {
   "cell_type": "code",
   "execution_count": 2,
   "id": "6b2cb002-62d5-4d5d-818e-b645e9eb1e58",
   "metadata": {},
   "outputs": [],
   "source": [
    "%autoreload 2\n",
    "import dualpy as dp"
   ]
  },
  {
   "cell_type": "code",
   "execution_count": 23,
   "id": "5f043f6f-4e5a-454e-8d68-58d7b6cffbbb",
   "metadata": {},
   "outputs": [],
   "source": [
    "t_n = np.arange(5)\n",
    "t_q = t_n * units.s\n",
    "t_d = dp.seed(copy.deepcopy(t_q), \"t\")"
   ]
  },
  {
   "cell_type": "code",
   "execution_count": 24,
   "id": "e5e4c4a8-f2e1-4630-912a-32683221e48f",
   "metadata": {},
   "outputs": [],
   "source": [
    "tt = t_q.view(dp.dlarray)"
   ]
  },
  {
   "cell_type": "code",
   "execution_count": 25,
   "id": "5ce8e51f-5a57-4981-9435-2f0a9cc6a81b",
   "metadata": {},
   "outputs": [
    {
     "name": "stdout",
     "output_type": "stream",
     "text": [
      "None\n",
      "{}\n"
     ]
    }
   ],
   "source": [
    "print(tt.unit)\n",
    "print(tt.jacobians)"
   ]
  },
  {
   "cell_type": "code",
   "execution_count": 26,
   "id": "33a86d58-06c1-48f9-8e34-689b6390e357",
   "metadata": {},
   "outputs": [
    {
     "data": {
      "text/plain": [
       "NoneType"
      ]
     },
     "execution_count": 26,
     "metadata": {},
     "output_type": "execute_result"
    }
   ],
   "source": [
    "type(tt.unit)"
   ]
  },
  {
   "cell_type": "code",
   "execution_count": 27,
   "id": "f091d25a-eb56-4323-9cdf-87b99b5a2f9a",
   "metadata": {},
   "outputs": [],
   "source": [
    "dn = dir(t_n)\n",
    "dq = dir(t_q)"
   ]
  },
  {
   "cell_type": "code",
   "execution_count": 29,
   "id": "2009e3da-4d5f-4e9a-88e6-23bf485d996b",
   "metadata": {},
   "outputs": [
    {
     "name": "stdout",
     "output_type": "stream",
     "text": [
      "['T', '__abs__', '__add__', '__and__', '__array__', '__array_finalize__', '__array_function__', '__array_interface__', '__array_prepare__', '__array_priority__', '__array_struct__', '__array_ufunc__', '__array_wrap__', '__bool__', '__class__', '__complex__', '__contains__', '__copy__', '__deepcopy__', '__delattr__', '__delitem__', '__dict__', '__dir__', '__div__', '__divmod__', '__doc__', '__eq__', '__float__', '__floordiv__', '__format__', '__ge__', '__getattr__', '__getattribute__', '__getitem__', '__gt__', '__hash__', '__iadd__', '__iand__', '__idiv__', '__ifloordiv__', '__ilshift__', '__imatmul__', '__imod__', '__imul__', '__index__', '__init__', '__init_subclass__', '__int__', '__invert__', '__ior__', '__ipow__', '__irshift__', '__isub__', '__iter__', '__itruediv__', '__ixor__', '__le__', '__len__', '__lshift__', '__lt__', '__matmul__', '__mod__', '__module__', '__mul__', '__ne__', '__neg__', '__new__', '__or__', '__pos__', '__pow__', '__quantity_subclass__', '__radd__', '__rand__', '__rdiv__', '__rdivmod__', '__reduce__', '__reduce_ex__', '__repr__', '__rfloordiv__', '__rlshift__', '__rmatmul__', '__rmod__', '__rmul__', '__ror__', '__rpow__', '__rrshift__', '__rshift__', '__rsub__', '__rtruediv__', '__rxor__', '__setattr__', '__setitem__', '__setstate__', '__sizeof__', '__str__', '__sub__', '__subclasshook__', '__truediv__', '__xor__', '_decompose', '_default_unit', '_equivalencies', '_include_easy_conversion_members', '_new_view', '_not_implemented_or_raise', '_repr_latex_', '_result_as_quantity', '_set_unit', '_to_own_unit', '_to_value', '_unit', '_unitstr', '_wrap_function', 'all', 'any', 'argmax', 'argmin', 'argpartition', 'argsort', 'astype', 'base', 'byteswap', 'cgs', 'choose', 'clip', 'compress', 'conj', 'conjugate', 'copy', 'ctypes', 'cumprod', 'cumsum', 'data', 'decompose', 'diagonal', 'diff', 'dot', 'dtype', 'dump', 'dumps', 'ediff1d', 'equivalencies', 'fill', 'flags', 'flat', 'flatten', 'getfield', 'imag', 'info', 'insert', 'isscalar', 'item', 'itemset', 'itemsize', 'max', 'mean', 'min', 'nansum', 'nbytes', 'ndim', 'newbyteorder', 'nonzero', 'partition', 'prod', 'ptp', 'put', 'ravel', 'real', 'repeat', 'reshape', 'resize', 'round', 'searchsorted', 'setfield', 'setflags', 'shape', 'si', 'size', 'sort', 'squeeze', 'std', 'strides', 'sum', 'swapaxes', 'take', 'to', 'to_string', 'to_value', 'tobytes', 'tofile', 'tolist', 'tostring', 'trace', 'transpose', 'unit', 'value', 'var', 'view']\n"
     ]
    }
   ],
   "source": [
    "print(dq)"
   ]
  },
  {
   "cell_type": "code",
   "execution_count": 32,
   "id": "e30ef27c-0903-43f7-a200-b4813790bee8",
   "metadata": {},
   "outputs": [
    {
     "name": "stdout",
     "output_type": "stream",
     "text": [
      "Not got __dict__\n",
      "Not got __div__\n",
      "Not got __getattr__\n",
      "Not got __idiv__\n",
      "Not got __module__\n",
      "Not got __quantity_subclass__\n",
      "Not got __rdiv__\n",
      "Not got _decompose\n",
      "Not got _default_unit\n",
      "Not got _equivalencies\n",
      "Not got _include_easy_conversion_members\n",
      "Not got _new_view\n",
      "Not got _not_implemented_or_raise\n",
      "Not got _repr_latex_\n",
      "Not got _result_as_quantity\n",
      "Not got _set_unit\n",
      "Not got _to_own_unit\n",
      "Not got _to_value\n",
      "Not got _unit\n",
      "Not got _unitstr\n",
      "Not got _wrap_function\n",
      "Not got cgs\n",
      "Not got decompose\n",
      "Not got diff\n",
      "Not got ediff1d\n",
      "Not got equivalencies\n",
      "Not got info\n",
      "Not got insert\n",
      "Not got isscalar\n",
      "Not got nansum\n",
      "Not got si\n",
      "Not got to\n",
      "Not got to_string\n",
      "Not got to_value\n",
      "Not got unit\n",
      "Not got value\n"
     ]
    }
   ],
   "source": [
    "for qi in dq:\n",
    "    if qi not in dn:\n",
    "        print(f\"Not got {qi}\")"
   ]
  },
  {
   "cell_type": "code",
   "execution_count": null,
   "id": "836a2c46-2182-4144-8495-3bb64df8a510",
   "metadata": {},
   "outputs": [],
   "source": []
  }
 ],
 "metadata": {
  "kernelspec": {
   "display_name": "njl-base-3.9",
   "language": "python",
   "name": "njl-base-3.9"
  },
  "language_info": {
   "codemirror_mode": {
    "name": "ipython",
    "version": 3
   },
   "file_extension": ".py",
   "mimetype": "text/x-python",
   "name": "python",
   "nbconvert_exporter": "python",
   "pygments_lexer": "ipython3",
   "version": "3.9.9"
  }
 },
 "nbformat": 4,
 "nbformat_minor": 5
}
