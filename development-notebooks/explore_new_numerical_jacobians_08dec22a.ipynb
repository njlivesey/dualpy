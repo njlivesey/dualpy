{
 "cells": [
  {
   "cell_type": "code",
   "execution_count": 1,
   "id": "44011288-3232-43b0-9b07-49f99fa81e12",
   "metadata": {},
   "outputs": [],
   "source": [
    "# fmt: off\n",
    "%matplotlib inline\n",
    "%config InlineBackend.figure_format = \"retina\"\n",
    "%load_ext autoreload\n",
    "%load_ext lab_black\n",
    "import numpy as np\n",
    "import matplotlib\n",
    "import matplotlib.pyplot as plt\n",
    "import pickle\n",
    "from mls_scf_tools.mls_pint import ureg\n",
    "plt.style.use(\"mls_scf\")\n",
    "def vdir(obj):\n",
    "    return [x for x in dir(obj) if not x.startswith('__')]\n",
    "# fmt: on"
   ]
  },
  {
   "cell_type": "code",
   "execution_count": 2,
   "id": "dd5e96d5-07e0-4e8c-8742-c913066393e3",
   "metadata": {},
   "outputs": [],
   "source": [
    "%autoreload 2\n",
    "import dualpy as dp\n",
    "import madart.coordinates as coordinates\n",
    "from madart.planets import earth\n",
    "import inspect"
   ]
  },
  {
   "cell_type": "code",
   "execution_count": 3,
   "id": "9c3ba48f-21a3-46f6-9dc0-a0a47ccbaebf",
   "metadata": {},
   "outputs": [],
   "source": [
    "class my_result:\n",
    "    _numeric_jacobian_support = True\n",
    "\n",
    "    def __init__(self, p):\n",
    "        self.contents = [0, [1, 2, p]]\n",
    "\n",
    "\n",
    "def my_function(lat):\n",
    "    p = coordinates.LatLonHeight(lat, 45.0 * ureg.deg, 10.0 * ureg.km, planet=earth)\n",
    "    # return p.to_cartesian()\n",
    "    return my_result(p.to_cartesian())"
   ]
  },
  {
   "cell_type": "code",
   "execution_count": 4,
   "id": "bc84fb36-815b-4905-b439-f0135324e27f",
   "metadata": {
    "tags": []
   },
   "outputs": [],
   "source": [
    "lat = 45.0 * ureg.deg\n",
    "lat = dp.seed(lat, \"lat\")"
   ]
  },
  {
   "cell_type": "code",
   "execution_count": 5,
   "id": "3af28161-d4a9-4d1c-929d-007dcf49d5e4",
   "metadata": {},
   "outputs": [],
   "source": [
    "p = my_function(lat)\n",
    "test = dp.delete_jacobians(p)"
   ]
  },
  {
   "cell_type": "code",
   "execution_count": 6,
   "id": "fdd914fc-a869-4eb4-9cdb-34d5c84a0d41",
   "metadata": {},
   "outputs": [],
   "source": [
    "t = np.arange(5) * ureg.s\n",
    "t = dp.seed(t, \"t\")"
   ]
  },
  {
   "cell_type": "code",
   "execution_count": 7,
   "id": "b40b573a-afca-40d8-87e5-c33adcbb9f7a",
   "metadata": {},
   "outputs": [
    {
     "name": "stdout",
     "output_type": "stream",
     "text": [
      "{'lat': Jacobian of type <class 'dualpy.diagonal_jacobians.SeedJacobian'>\n",
      "Dependent shape is () <1>\n",
      "Independent shape is () <1>\n",
      "Combined they are () <1>\n",
      "Dummies are () and ()\n",
      "Units are d<degree>/d<degree> = <dimensionless>\n",
      "data is ()}\n"
     ]
    }
   ],
   "source": [
    "print(lat.jacobians)"
   ]
  },
  {
   "cell_type": "code",
   "execution_count": 8,
   "id": "af9f7dc2-0842-4c76-bf6f-60e94f38b993",
   "metadata": {},
   "outputs": [
    {
     "name": "stderr",
     "output_type": "stream",
     "text": [
      "100%|██████████| 1/1 [00:00<00:00, 151.06it/s]\n"
     ]
    }
   ],
   "source": [
    "r_ana, r_num = dp.compute_numeric_jacobians(my_function, args=(lat,))"
   ]
  },
  {
   "cell_type": "code",
   "execution_count": 9,
   "id": "ff11ca55-23dc-44ed-bdc9-3fc2158412d4",
   "metadata": {},
   "outputs": [
    {
     "ename": "TypeError",
     "evalue": "'int' object is not subscriptable",
     "output_type": "error",
     "traceback": [
      "\u001b[0;31m---------------------------------------------------------------------------\u001b[0m",
      "\u001b[0;31mTypeError\u001b[0m                                 Traceback (most recent call last)",
      "Input \u001b[0;32mIn [9]\u001b[0m, in \u001b[0;36m<cell line: 1>\u001b[0;34m()\u001b[0m\n\u001b[0;32m----> 1\u001b[0m \u001b[43mr_num\u001b[49m\u001b[38;5;241;43m.\u001b[39;49m\u001b[43mcontents\u001b[49m\u001b[43m[\u001b[49m\u001b[38;5;241;43m0\u001b[39;49m\u001b[43m]\u001b[49m\u001b[43m[\u001b[49m\u001b[38;5;241;43m0\u001b[39;49m\u001b[43m]\u001b[49m\u001b[38;5;241m.\u001b[39mx\u001b[38;5;241m.\u001b[39mjacobians\n",
      "\u001b[0;31mTypeError\u001b[0m: 'int' object is not subscriptable"
     ]
    }
   ],
   "source": [
    "r_num.contents[0][0].x.jacobians"
   ]
  },
  {
   "cell_type": "code",
   "execution_count": null,
   "id": "724c38c9-a2ae-4c02-9b50-57954b1d1d68",
   "metadata": {},
   "outputs": [],
   "source": [
    "print(r_ana.contents[0][0].y.jacobians[\"lat\"].todensearray())\n",
    "print(r_num.contents[0][0].y.jacobians[\"lat\"].todensearray())"
   ]
  },
  {
   "cell_type": "code",
   "execution_count": null,
   "id": "87dd38a1-4df6-4ac6-bac3-845f246d06ab",
   "metadata": {},
   "outputs": [],
   "source": [
    "x=[0]\n",
    "x[1:]"
   ]
  },
  {
   "cell_type": "code",
   "execution_count": null,
   "id": "9512e068-486b-44f4-aef0-941e5c36e4e0",
   "metadata": {},
   "outputs": [],
   "source": []
  },
  {
   "cell_type": "code",
   "execution_count": null,
   "id": "8c90e1fd-fb51-40e6-b1b5-ddf857a8df43",
   "metadata": {},
   "outputs": [],
   "source": []
  }
 ],
 "metadata": {
  "kernelspec": {
   "display_name": "njl-base-3.10-02dec22",
   "language": "python",
   "name": "njl-base-3.10-02dec22"
  },
  "language_info": {
   "codemirror_mode": {
    "name": "ipython",
    "version": 3
   },
   "file_extension": ".py",
   "mimetype": "text/x-python",
   "name": "python",
   "nbconvert_exporter": "python",
   "pygments_lexer": "ipython3",
   "version": "3.10.4"
  }
 },
 "nbformat": 4,
 "nbformat_minor": 5
}
