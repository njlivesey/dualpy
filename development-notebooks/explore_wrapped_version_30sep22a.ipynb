{
 "cells": [
  {
   "cell_type": "code",
   "execution_count": 1,
   "id": "388cc44a-eab7-40eb-8a31-43cda5358f5b",
   "metadata": {},
   "outputs": [],
   "source": [
    "%matplotlib inline\n",
    "%config InlineBackend.figure_format = \"retina\"\n",
    "%load_ext autoreload\n",
    "%load_ext lab_black\n",
    "import numpy as np\n",
    "import matplotlib\n",
    "import matplotlib.pyplot as plt\n",
    "import astropy.units as units\n",
    "import pickle\n",
    "\n",
    "plt.style.use(\"mls_scf\")"
   ]
  },
  {
   "cell_type": "code",
   "execution_count": 2,
   "id": "4ad58bfa-3500-4ec8-98c2-d8e78e1b7cef",
   "metadata": {},
   "outputs": [],
   "source": [
    "%autoreload\n",
    "import dualpy as dp"
   ]
  },
  {
   "cell_type": "code",
   "execution_count": 3,
   "id": "e938c09e-d726-4940-acf5-dc257bc393ca",
   "metadata": {},
   "outputs": [],
   "source": [
    "x = np.arange(10) << units.m"
   ]
  },
  {
   "cell_type": "code",
   "execution_count": 4,
   "id": "d4481c71-106f-4c7a-860b-2d8bce899006",
   "metadata": {},
   "outputs": [
    {
     "ename": "ValueError",
     "evalue": "Type must be a sub-type of ndarray type",
     "output_type": "error",
     "traceback": [
      "\u001b[0;31m---------------------------------------------------------------------------\u001b[0m",
      "\u001b[0;31mValueError\u001b[0m                                Traceback (most recent call last)",
      "Input \u001b[0;32mIn [4]\u001b[0m, in \u001b[0;36m<cell line: 1>\u001b[0;34m()\u001b[0m\n\u001b[0;32m----> 1\u001b[0m y \u001b[38;5;241m=\u001b[39m \u001b[43mx\u001b[49m\u001b[38;5;241;43m.\u001b[39;49m\u001b[43mview\u001b[49m\u001b[43m(\u001b[49m\u001b[43mx\u001b[49m\u001b[38;5;241;43m.\u001b[39;49m\u001b[43mdtype\u001b[49m\u001b[43m,\u001b[49m\u001b[43m \u001b[49m\u001b[43mdp\u001b[49m\u001b[38;5;241;43m.\u001b[39;49m\u001b[43mdlarray\u001b[49m\u001b[43m)\u001b[49m\n",
      "\u001b[0;31mValueError\u001b[0m: Type must be a sub-type of ndarray type"
     ]
    }
   ],
   "source": [
    "y = x.view(x.dtype, dp.dlarray)"
   ]
  },
  {
   "cell_type": "code",
   "execution_count": null,
   "id": "d419cc4a-b281-4f21-8743-52fbe459b90b",
   "metadata": {},
   "outputs": [],
   "source": []
  }
 ],
 "metadata": {
  "kernelspec": {
   "display_name": "njl-base-3.10-18oct23",
   "language": "python",
   "name": "njl-base-3.10-18oct23"
  },
  "language_info": {
   "codemirror_mode": {
    "name": "ipython",
    "version": 3
   },
   "file_extension": ".py",
   "mimetype": "text/x-python",
   "name": "python",
   "nbconvert_exporter": "python",
   "pygments_lexer": "ipython3",
   "version": "3.10.13"
  }
 },
 "nbformat": 4,
 "nbformat_minor": 5
}
