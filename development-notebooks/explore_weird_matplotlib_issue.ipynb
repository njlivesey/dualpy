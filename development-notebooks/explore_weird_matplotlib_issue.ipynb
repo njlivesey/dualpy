{
 "cells": [
  {
   "cell_type": "code",
   "execution_count": null,
   "id": "5e96f539-645d-4540-80d6-a92fe5e523fc",
   "metadata": {},
   "outputs": [],
   "source": [
    "%matplotlib inline\n",
    "%config InlineBackend.figure_format = 'retina'\n",
    "%load_ext autoreload\n",
    "import numpy as np\n",
    "import scipy.interpolate as interpolate\n",
    "import matplotlib.pyplot as plt\n",
    "from scipy.constants import pi\n",
    "import astropy.units as units\n",
    "from astropy.visualization import quantity_support\n",
    "quantity_support()  "
   ]
  },
  {
   "cell_type": "code",
   "execution_count": null,
   "id": "24b1fae1-b446-47c8-823f-8572bfe78d51",
   "metadata": {},
   "outputs": [],
   "source": [
    "%autoreload 2\n",
    "import madart.dualpy as dp"
   ]
  },
  {
   "cell_type": "code",
   "execution_count": null,
   "id": "4bfa6d16-f154-4cdd-b32c-1b1073f1e52f",
   "metadata": {},
   "outputs": [],
   "source": [
    "t = np.linspace(0, 100, 1001) * units.s\n",
    "omega = 0.1*units.rad/units.s\n",
    "t = dp._seed_sparse(t, \"t\")"
   ]
  },
  {
   "cell_type": "code",
   "execution_count": null,
   "id": "7f856738-7e21-4bb2-bfd8-a2120973a172",
   "metadata": {},
   "outputs": [],
   "source": [
    "y = np.sin(omega*t)"
   ]
  },
  {
   "cell_type": "code",
   "execution_count": null,
   "id": "13639bc3-674b-46f1-b698-8b2090201391",
   "metadata": {},
   "outputs": [],
   "source": [
    "tt=t[:,np.newaxis]"
   ]
  },
  {
   "cell_type": "code",
   "execution_count": null,
   "id": "85cb92cc-9378-4210-986a-2d5d7af234cc",
   "metadata": {},
   "outputs": [],
   "source": []
  },
  {
   "cell_type": "code",
   "execution_count": null,
   "id": "0ee099f5-1899-4335-a4d5-3312184be093",
   "metadata": {},
   "outputs": [],
   "source": []
  }
 ],
 "metadata": {
  "kernelspec": {
   "display_name": "njl-base-3.9",
   "language": "python",
   "name": "njl-base-3.9"
  },
  "language_info": {
   "codemirror_mode": {
    "name": "ipython",
    "version": 3
   },
   "file_extension": ".py",
   "mimetype": "text/x-python",
   "name": "python",
   "nbconvert_exporter": "python",
   "pygments_lexer": "ipython3",
   "version": "3.9.5"
  }
 },
 "nbformat": 4,
 "nbformat_minor": 5
}
