{
 "cells": [
  {
   "cell_type": "code",
   "execution_count": 1,
   "id": "36bf31d5-f0e8-4eed-a90e-030cfd9a18d7",
   "metadata": {},
   "outputs": [],
   "source": [
    "%matplotlib inline\n",
    "%config InlineBackend.figure_format = \"retina\"\n",
    "%load_ext autoreload\n",
    "%load_ext lab_black\n",
    "import numpy as np\n",
    "import matplotlib\n",
    "import matplotlib.pyplot as plt\n",
    "import astropy.units as units\n",
    "import pickle\n",
    "\n",
    "plt.style.use(\"mls_scf\")"
   ]
  },
  {
   "cell_type": "code",
   "execution_count": 2,
   "id": "f9289ae3-33bd-4bd8-839f-ee253d23bcbc",
   "metadata": {},
   "outputs": [],
   "source": [
    "%autoreload 2\n",
    "import dualpy as dp"
   ]
  },
  {
   "cell_type": "code",
   "execution_count": 3,
   "id": "6ec3ed8b-28f5-4afd-bbdb-b7b160277650",
   "metadata": {},
   "outputs": [],
   "source": [
    "a = np.arange(10) * units.m\n",
    "b = np.arange(10) * units.m"
   ]
  },
  {
   "cell_type": "code",
   "execution_count": 4,
   "id": "8eee7884-252f-4a46-a44a-5f061a33bdde",
   "metadata": {},
   "outputs": [],
   "source": [
    "a = dp.seed(a, name=\"a\")\n",
    "# b = dp.seed(b, name=\"b\")"
   ]
  },
  {
   "cell_type": "code",
   "execution_count": 5,
   "id": "9ea5b059-af6c-4b5f-a6f4-8cdd891a35ad",
   "metadata": {},
   "outputs": [
    {
     "name": "stdout",
     "output_type": "stream",
     "text": [
      "---------------------------------- dlarray first\n",
      "dual array ufunc got a look in with <ufunc 'multiply'>\n",
      "<class 'dualpy.dual_astropy.dlarray_astropy'>\n",
      "---------------------------------- astropy first\n",
      "dual array ufunc got a look in with <ufunc 'multiply'>\n",
      "<class 'dualpy.dual_astropy.dlarray_astropy'>\n"
     ]
    }
   ],
   "source": [
    "print(\"---------------------------------- dlarray first\")\n",
    "print(type(a * b))\n",
    "print(\"---------------------------------- astropy first\")\n",
    "print(type(b * a))"
   ]
  },
  {
   "cell_type": "code",
   "execution_count": null,
   "id": "2cb02030-19ff-4ec6-9494-17d3cab6e444",
   "metadata": {},
   "outputs": [],
   "source": []
  },
  {
   "cell_type": "code",
   "execution_count": 6,
   "id": "bc95342c-5fbc-41ae-a62f-006ee70f7e27",
   "metadata": {},
   "outputs": [
    {
     "name": "stdout",
     "output_type": "stream",
     "text": [
      "dual array ufunc got a look in with <ufunc 'sin'>\n",
      "per rad is None\n",
      "<class 'dualpy.duals.dlarray'>\n"
     ]
    }
   ],
   "source": [
    "theta = np.arange(10)  # * units.rad\n",
    "theta = dp.seed(theta, \"theta\")\n",
    "print(type(np.sin(theta)))"
   ]
  }
 ],
 "metadata": {
  "kernelspec": {
   "display_name": "njl-experimental-3.10",
   "language": "python",
   "name": "njl-experimental-3.10"
  },
  "language_info": {
   "codemirror_mode": {
    "name": "ipython",
    "version": 3
   },
   "file_extension": ".py",
   "mimetype": "text/x-python",
   "name": "python",
   "nbconvert_exporter": "python",
   "pygments_lexer": "ipython3",
   "version": "3.10.4"
  }
 },
 "nbformat": 4,
 "nbformat_minor": 5
}
