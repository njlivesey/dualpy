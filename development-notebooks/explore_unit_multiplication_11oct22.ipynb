{
 "cells": [
  {
   "cell_type": "code",
   "execution_count": 1,
   "id": "84474e65-5992-4644-b32b-4f272d04fe96",
   "metadata": {},
   "outputs": [],
   "source": [
    "%matplotlib inline\n",
    "%config InlineBackend.figure_format = \"retina\"\n",
    "%load_ext autoreload\n",
    "%load_ext lab_black\n",
    "import numpy as np\n",
    "import matplotlib\n",
    "import matplotlib.pyplot as plt\n",
    "import astropy.units as units\n",
    "import pickle\n",
    "import pint\n",
    "\n",
    "plt.style.use(\"mls_scf\")"
   ]
  },
  {
   "cell_type": "code",
   "execution_count": 2,
   "id": "50dff1f7-e7f7-4690-9d61-3f202fd98dc1",
   "metadata": {},
   "outputs": [],
   "source": [
    "%autoreload 2\n",
    "from mls_scf_tools.mls_pint import ureg\n",
    "import dualpy as dp"
   ]
  },
  {
   "cell_type": "code",
   "execution_count": 3,
   "id": "d19ce1f8-395e-43fc-97c1-0a42330b4da3",
   "metadata": {},
   "outputs": [],
   "source": [
    "x = np.arange(10)\n",
    "x = dp.seed(x, \"x\")"
   ]
  },
  {
   "cell_type": "code",
   "execution_count": 4,
   "id": "8678e8ca-90b0-452e-9ede-a80b76ef4c8c",
   "metadata": {},
   "outputs": [
    {
     "name": "stdout",
     "output_type": "stream",
     "text": [
      "[0 1 2 3 4 5 6 7 8 9]\n"
     ]
    }
   ],
   "source": [
    "print(x.variable)"
   ]
  },
  {
   "cell_type": "code",
   "execution_count": 5,
   "id": "6503e212-fb21-43db-8e34-534bcb9170da",
   "metadata": {},
   "outputs": [
    {
     "name": "stdout",
     "output_type": "stream",
     "text": [
      "Hello from multiply <class 'dualpy.duals.dlarray'>, <class 'pint.unit.build_unit_class.<locals>.Unit'>\n",
      "Now in multiply <class 'numpy.ndarray'>, <class 'pint.unit.build_unit_class.<locals>.Unit'>\n",
      "Here multiplying by meter\n"
     ]
    }
   ],
   "source": [
    "y = x * ureg.m"
   ]
  },
  {
   "cell_type": "code",
   "execution_count": 6,
   "id": "37d767de-e509-4d35-aa9e-c25c361dea2a",
   "metadata": {},
   "outputs": [
    {
     "name": "stdout",
     "output_type": "stream",
     "text": [
      "int64\n"
     ]
    }
   ],
   "source": [
    "print(y.variable.dtype)"
   ]
  },
  {
   "cell_type": "code",
   "execution_count": 7,
   "id": "fc862772-3ee0-4c2b-99dd-972e8069225b",
   "metadata": {},
   "outputs": [
    {
     "name": "stdout",
     "output_type": "stream",
     "text": [
      "<class 'dualpy.dual_pint.dlarray_pint'>\n",
      "[0 1 2 3 4 5 6 7 8 9] meter\n"
     ]
    }
   ],
   "source": [
    "print(type(y))\n",
    "print(y)"
   ]
  },
  {
   "cell_type": "code",
   "execution_count": 8,
   "id": "a738fd8f-542f-49f8-9579-54a406a86b9b",
   "metadata": {},
   "outputs": [
    {
     "data": {
      "text/plain": [
       "{'x': Jacobian of type <class 'dualpy.diagonal_jacobians.DiagonalJacobian'>\n",
       " Dependent shape is (10,) <10>\n",
       " Independent shape is (10,) <10>\n",
       " Combined they are (10, 10) <100>\n",
       " Dummies are (1,) and (1,)\n",
       " Units are d<meter>/d<Unitless> = <1 meter>\n",
       " data is (10,)}"
      ]
     },
     "execution_count": 8,
     "metadata": {},
     "output_type": "execute_result"
    }
   ],
   "source": [
    "y.jacobians"
   ]
  },
  {
   "cell_type": "code",
   "execution_count": null,
   "id": "96892353-97de-4366-9f71-a264a486e288",
   "metadata": {},
   "outputs": [],
   "source": []
  }
 ],
 "metadata": {
  "kernelspec": {
   "display_name": "njl-base-3.10",
   "language": "python",
   "name": "njl-base-3.10"
  },
  "language_info": {
   "codemirror_mode": {
    "name": "ipython",
    "version": 3
   },
   "file_extension": ".py",
   "mimetype": "text/x-python",
   "name": "python",
   "nbconvert_exporter": "python",
   "pygments_lexer": "ipython3",
   "version": "3.10.4"
  }
 },
 "nbformat": 4,
 "nbformat_minor": 5
}
