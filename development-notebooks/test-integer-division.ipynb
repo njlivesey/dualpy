{
 "cells": [
  {
   "cell_type": "code",
   "execution_count": 1,
   "id": "70976781-e8be-4702-a233-012aca927c7e",
   "metadata": {},
   "outputs": [],
   "source": [
    "%matplotlib inline\n",
    "%config InlineBackend.figure_format = 'retina'\n",
    "%load_ext autoreload\n",
    "import numpy as np\n",
    "import matplotlib.pyplot as plt\n",
    "import scipy.constants as constants\n",
    "import scipy.interpolate as interpolate\n",
    "import cProfile\n",
    "import glob\n",
    "import astropy.units as units"
   ]
  },
  {
   "cell_type": "code",
   "execution_count": 2,
   "id": "632f3954-c176-48a6-8992-777e8aa27617",
   "metadata": {},
   "outputs": [],
   "source": [
    "plt.style.use(\"bmh\")\n",
    "plt.rcParams.update({\n",
    "    'font.size': 12,\n",
    "    'figure.figsize': (8,6),\n",
    "    'xtick.minor.visible': True,\n",
    "    'ytick.minor.visible': True})"
   ]
  },
  {
   "cell_type": "code",
   "execution_count": 3,
   "id": "79c7334a-a536-4569-a700-ca6145f9832f",
   "metadata": {},
   "outputs": [],
   "source": [
    "%autoreload 2\n",
    "import dualpy as dp\n",
    "from madart.sample import sample"
   ]
  },
  {
   "cell_type": "code",
   "execution_count": 4,
   "id": "00f81b5b-3bca-4dc1-876a-622ec0f49ff7",
   "metadata": {},
   "outputs": [],
   "source": [
    "x = np.arange(10) * units.s\n",
    "x = dp.seed(x, \"x\")"
   ]
  },
  {
   "cell_type": "code",
   "execution_count": 5,
   "id": "315e3537-c162-4e5e-be99-e149e75436f2",
   "metadata": {},
   "outputs": [
    {
     "name": "stdout",
     "output_type": "stream",
     "text": [
      "<dualpy.duals.dlarray object at 0x7f3d381e9580>\n"
     ]
    }
   ],
   "source": [
    "print(x/2)"
   ]
  },
  {
   "cell_type": "code",
   "execution_count": 6,
   "id": "9f349b79-3532-434b-a6f1-692bfff6b214",
   "metadata": {},
   "outputs": [
    {
     "name": "stdout",
     "output_type": "stream",
     "text": [
      "bBhHiIlLqQpP\n"
     ]
    }
   ],
   "source": [
    "print(np.typecodes[\"AllInteger\"])"
   ]
  },
  {
   "cell_type": "code",
   "execution_count": null,
   "id": "b9d95356-30ad-4b14-a997-fc4bf90e80c7",
   "metadata": {},
   "outputs": [],
   "source": []
  }
 ],
 "metadata": {
  "kernelspec": {
   "display_name": "njl-base-3.9",
   "language": "python",
   "name": "njl-base-3.9"
  },
  "language_info": {
   "codemirror_mode": {
    "name": "ipython",
    "version": 3
   },
   "file_extension": ".py",
   "mimetype": "text/x-python",
   "name": "python",
   "nbconvert_exporter": "python",
   "pygments_lexer": "ipython3",
   "version": "3.9.12"
  }
 },
 "nbformat": 4,
 "nbformat_minor": 5
}
