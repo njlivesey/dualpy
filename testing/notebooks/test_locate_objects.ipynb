{
 "cells": [
  {
   "cell_type": "code",
   "execution_count": 1,
   "id": "f3297f79-0780-4833-844f-69f1b633ddee",
   "metadata": {},
   "outputs": [],
   "source": [
    "# fmt: off\n",
    "%matplotlib inline\n",
    "%config InlineBackend.figure_format = \"retina\"\n",
    "%load_ext autoreload\n",
    "%load_ext lab_black\n",
    "import numpy as np\n",
    "import matplotlib\n",
    "import matplotlib.pyplot as plt\n",
    "import pickle\n",
    "from mls_scf_tools.mls_pint import ureg\n",
    "plt.style.use(\"mls_scf\")\n",
    "def vdir(obj):\n",
    "    return [x for x in dir(obj) if not x.startswith('__')]\n",
    "# fmt: on"
   ]
  },
  {
   "cell_type": "code",
   "execution_count": 2,
   "id": "8bac2c23-8c43-49b8-a556-206a91d4faf0",
   "metadata": {},
   "outputs": [],
   "source": [
    "%autoreload 2"
   ]
  },
  {
   "cell_type": "code",
   "execution_count": 3,
   "id": "876aa8eb-bcc5-46ed-81bc-d7a9bc2438d9",
   "metadata": {},
   "outputs": [],
   "source": [
    "import dualpy.locate_objects as lo\n",
    "import dualpy as dp\n",
    "import madart.coordinates as coordinates\n",
    "from madart.planets import earth"
   ]
  },
  {
   "cell_type": "code",
   "execution_count": 4,
   "id": "817a0be5-7959-4a51-99ef-8d8c2cc2be3b",
   "metadata": {},
   "outputs": [],
   "source": [
    "import logging\n",
    "\n",
    "logger = logging.getLogger(\"dualpy.locate_objects\")\n",
    "formatter = logging.Formatter(\"%(asctime)s - %(name)s - %(levelname)s - %(message)s\")\n",
    "chandler = logging.StreamHandler()\n",
    "# chandler.setLevel(logging.DEBUG)\n",
    "chandler.setFormatter(formatter)\n",
    "logger.addHandler(chandler)\n",
    "# logger.setLevel(logging.DEBUG)"
   ]
  },
  {
   "cell_type": "code",
   "execution_count": 5,
   "id": "9c3ba48f-21a3-46f6-9dc0-a0a47ccbaebf",
   "metadata": {},
   "outputs": [],
   "source": [
    "class my_result:\n",
    "    _numeric_jacobian_support = True\n",
    "\n",
    "    def __init__(self, p):\n",
    "        self.contents = [0, [1, 2, p]]\n",
    "\n",
    "\n",
    "def my_function(lat):\n",
    "    p = coordinates.LatLonHeight(lat, 45.0 * ureg.deg, 10.0 * ureg.km, planet=earth)\n",
    "    # return p.to_cartesian()\n",
    "    return my_result(p.to_cartesian())"
   ]
  },
  {
   "cell_type": "code",
   "execution_count": 6,
   "id": "bc84fb36-815b-4905-b439-f0135324e27f",
   "metadata": {
    "tags": []
   },
   "outputs": [],
   "source": [
    "lat = 45.0 * ureg.deg\n",
    "lat = dp.seed(lat, \"lat\")\n",
    "p = my_function(lat)\n",
    "# test = dp.delete_jacobians(p)"
   ]
  },
  {
   "cell_type": "code",
   "execution_count": 7,
   "id": "a17b46e2-5390-4544-b0f3-a27fca2c30ee",
   "metadata": {},
   "outputs": [],
   "source": [
    "a = [\"Hello\", 1, None, [\"Goodbye\", 2, {\"x\": None, \"y\": 3, \"z\": np.array([1.0])}]]"
   ]
  },
  {
   "cell_type": "code",
   "execution_count": 14,
   "id": "a3a86ac7-a4e7-48d5-895a-f75d318eb83c",
   "metadata": {},
   "outputs": [
    {
     "name": "stdout",
     "output_type": "stream",
     "text": [
      "False\n",
      "<class 'dualpy.locate_objects.LocatedObjectIterator'>\n"
     ]
    }
   ],
   "source": [
    "objloc = lo.LocatedObjectIterator(a, float)\n",
    "print(bool(objloc))\n",
    "print(type(objloc))"
   ]
  },
  {
   "cell_type": "code",
   "execution_count": 13,
   "id": "7012ab9f-940e-4ead-8cef-a5d1580f0c05",
   "metadata": {},
   "outputs": [],
   "source": [
    "r = []\n",
    "for i in objloc(a):\n",
    "    r.append(i)"
   ]
  },
  {
   "cell_type": "code",
   "execution_count": 10,
   "id": "1b858c3b-6a69-49f9-b2e6-a02a086593b6",
   "metadata": {},
   "outputs": [
    {
     "data": {
      "text/plain": [
       "[1, 2, 3]"
      ]
     },
     "execution_count": 10,
     "metadata": {},
     "output_type": "execute_result"
    }
   ],
   "source": [
    "r"
   ]
  },
  {
   "cell_type": "code",
   "execution_count": null,
   "id": "2f5f1803-b1e7-4c22-876e-835c647a9252",
   "metadata": {},
   "outputs": [],
   "source": []
  }
 ],
 "metadata": {
  "kernelspec": {
   "display_name": "njl-base-3.10-02dec22",
   "language": "python",
   "name": "njl-base-3.10-02dec22"
  },
  "language_info": {
   "codemirror_mode": {
    "name": "ipython",
    "version": 3
   },
   "file_extension": ".py",
   "mimetype": "text/x-python",
   "name": "python",
   "nbconvert_exporter": "python",
   "pygments_lexer": "ipython3",
   "version": "3.10.4"
  }
 },
 "nbformat": 4,
 "nbformat_minor": 5
}
