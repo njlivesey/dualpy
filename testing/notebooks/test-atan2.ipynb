{
 "cells": [
  {
   "cell_type": "code",
   "execution_count": 1,
   "metadata": {},
   "outputs": [],
   "source": [
    "%config InlineBackend.figure_format = 'retina'\n",
    "%load_ext autoreload\n",
    "import numpy as np\n",
    "import matplotlib.pyplot as plt\n",
    "import scipy.constants as constants\n",
    "import scipy.special as special\n",
    "import astropy.units as units\n",
    "import astropy.constants as aconstants\n",
    "from matplotlib import rc as rc\n",
    "%matplotlib inline"
   ]
  },
  {
   "cell_type": "code",
   "execution_count": 2,
   "metadata": {},
   "outputs": [],
   "source": [
    "plt.style.use(\"bmh\")\n",
    "plt.rcParams.update({\n",
    "    'font.size': 12,\n",
    "    'figure.figsize': (8,6),\n",
    "    'xtick.minor.visible': True,\n",
    "    'ytick.minor.visible': True})\n",
    "# rc('font',**{'family':'sans-serif','sans-serif':['Helvetica'], 'size':12})\n",
    "# rc('text', usetex=True)"
   ]
  },
  {
   "cell_type": "code",
   "execution_count": 3,
   "metadata": {},
   "outputs": [],
   "source": [
    "%autoreload 2\n",
    "import dualpy as dp"
   ]
  },
  {
   "cell_type": "code",
   "execution_count": 4,
   "metadata": {},
   "outputs": [],
   "source": [
    "def f(x,y):\n",
    "    return np.arctan2(y,x)\n",
    "    \n",
    "x_v = np.linspace(-10,10,201) * 1.0 * units.m + 0.1234*units.m\n",
    "y_v = np.linspace(-10,10,201) * 1.0 * units.m + 0.1234*units.m\n",
    "\n",
    "xx, yy = np.meshgrid(x_v, y_v)\n",
    "xx = dp.seed(xx,'xx')\n",
    "yy = dp.seed(yy,'yy')"
   ]
  },
  {
   "cell_type": "code",
   "execution_count": 5,
   "metadata": {},
   "outputs": [
    {
     "name": "stdout",
     "output_type": "stream",
     "text": [
      "dual array ufunc got a look in with <ufunc 'arctan2'>\n",
      "Units are: rad and rad / m2\n"
     ]
    }
   ],
   "source": [
    "angle = f(yy,xx)"
   ]
  },
  {
   "cell_type": "code",
   "execution_count": 6,
   "metadata": {},
   "outputs": [],
   "source": [
    "# plt.contourf(x_v,y_v,angle)"
   ]
  },
  {
   "cell_type": "code",
   "execution_count": 7,
   "metadata": {},
   "outputs": [
    {
     "name": "stdout",
     "output_type": "stream",
     "text": [
      "dual array ufunc got a look in with <ufunc 'arctan2'>\n",
      "Units are: rad and rad / m2\n"
     ]
    },
    {
     "name": "stderr",
     "output_type": "stream",
     "text": [
      "  0%|          | 0/80802 [00:00<?, ?it/s]\n"
     ]
    },
    {
     "ename": "AttributeError",
     "evalue": "'dlarray_astropy' object has no attribute 'value'",
     "output_type": "error",
     "traceback": [
      "\u001b[0;31m---------------------------------------------------------------------------\u001b[0m",
      "\u001b[0;31mAttributeError\u001b[0m                            Traceback (most recent call last)",
      "Input \u001b[0;32mIn [7]\u001b[0m, in \u001b[0;36m<cell line: 1>\u001b[0;34m()\u001b[0m\n\u001b[0;32m----> 1\u001b[0m A, N \u001b[38;5;241m=\u001b[39m \u001b[43mdp\u001b[49m\u001b[38;5;241;43m.\u001b[39;49m\u001b[43mcompute_numeric_jacobians\u001b[49m\u001b[43m(\u001b[49m\u001b[43mf\u001b[49m\u001b[43m,\u001b[49m\u001b[43m \u001b[49m\u001b[43m(\u001b[49m\u001b[43myy\u001b[49m\u001b[43m,\u001b[49m\u001b[43mxx\u001b[49m\u001b[43m)\u001b[49m\u001b[43m,\u001b[49m\u001b[43m \u001b[49m\u001b[43minclude_diagonal_jacobians\u001b[49m\u001b[38;5;241;43m=\u001b[39;49m\u001b[38;5;28;43;01mTrue\u001b[39;49;00m\u001b[43m)\u001b[49m\n",
      "File \u001b[0;32m~/python/dualpy/dualpy/numeric_jacobians.py:391\u001b[0m, in \u001b[0;36mcompute_numeric_jacobians\u001b[0;34m(func, args, kwargs, plain_func, include_diagonal_jacobians, include_all_jacobians)\u001b[0m\n\u001b[1;32m    389\u001b[0m \u001b[38;5;66;03m# Record the original value then perturb\u001b[39;00m\n\u001b[1;32m    390\u001b[0m original \u001b[38;5;241m=\u001b[39m deseeded_dual[ii]\n\u001b[0;32m--> 391\u001b[0m dx \u001b[38;5;241m=\u001b[39m (np\u001b[38;5;241m.\u001b[39mspacing(\u001b[43moriginal\u001b[49m\u001b[38;5;241;43m.\u001b[39;49m\u001b[43mvalue\u001b[49m) \u001b[38;5;241m*\u001b[39m dx_scale_factor) \u001b[38;5;241m<<\u001b[39m original\u001b[38;5;241m.\u001b[39munit\n\u001b[1;32m    392\u001b[0m deseeded_dual[ii] \u001b[38;5;241m+\u001b[39m\u001b[38;5;241m=\u001b[39m dx\n\u001b[1;32m    393\u001b[0m \u001b[38;5;66;03m# Finally, we invoke the function\u001b[39;00m\n",
      "\u001b[0;31mAttributeError\u001b[0m: 'dlarray_astropy' object has no attribute 'value'"
     ]
    }
   ],
   "source": [
    "A, N = dp.compute_numeric_jacobians(f, (yy,xx), include_diagonal_jacobians=True)"
   ]
  },
  {
   "cell_type": "code",
   "execution_count": null,
   "metadata": {},
   "outputs": [],
   "source": [
    "Ad_xx = A.jacobians[\"xx\"].diagonal()\n",
    "Nd_xx = N.jacobians[\"xx\"].diagonal() / units.rad\n",
    "Ad_yy = A.jacobians[\"yy\"].diagonal()\n",
    "Nd_yy = N.jacobians[\"yy\"].diagonal() / units.rad"
   ]
  },
  {
   "cell_type": "code",
   "execution_count": null,
   "metadata": {},
   "outputs": [],
   "source": [
    "plt.plot(Ad_xx-Nd_xx)\n",
    "plt.plot(Ad_yy-Nd_yy)"
   ]
  },
  {
   "cell_type": "code",
   "execution_count": null,
   "metadata": {},
   "outputs": [],
   "source": [
    "plt.plot(Ad_yy)\n",
    "plt.plot(Nd_yy)"
   ]
  },
  {
   "cell_type": "code",
   "execution_count": null,
   "metadata": {},
   "outputs": [],
   "source": []
  }
 ],
 "metadata": {
  "kernelspec": {
   "display_name": "Python 3 (ipykernel)",
   "language": "python",
   "name": "python3"
  },
  "language_info": {
   "codemirror_mode": {
    "name": "ipython",
    "version": 3
   },
   "file_extension": ".py",
   "mimetype": "text/x-python",
   "name": "python",
   "nbconvert_exporter": "python",
   "pygments_lexer": "ipython3",
   "version": "3.10.4"
  }
 },
 "nbformat": 4,
 "nbformat_minor": 4
}
