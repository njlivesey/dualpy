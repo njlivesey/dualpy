{
 "cells": [
  {
   "cell_type": "code",
   "execution_count": 1,
   "metadata": {},
   "outputs": [],
   "source": [
    "%config InlineBackend.figure_format = 'retina'\n",
    "%load_ext autoreload\n",
    "import numpy as np\n",
    "import matplotlib.pyplot as plt\n",
    "import scipy.constants as constants\n",
    "import scipy.special as special\n",
    "import astropy.units as units\n",
    "import astropy.constants as aconstants\n",
    "from matplotlib import rc as rc\n",
    "%matplotlib inline\n",
    "import math as math"
   ]
  },
  {
   "cell_type": "code",
   "execution_count": 2,
   "metadata": {},
   "outputs": [],
   "source": [
    "plt.style.use(\"bmh\")\n",
    "plt.rcParams.update({\n",
    "    'font.size': 12,\n",
    "    'figure.figsize': (8,6),\n",
    "    'xtick.minor.visible': True,\n",
    "    'ytick.minor.visible': True})\n",
    "# rc('font',**{'family':'sans-serif','sans-serif':['Helvetica'], 'size':12})\n",
    "# rc('text', usetex=True)"
   ]
  },
  {
   "cell_type": "code",
   "execution_count": 3,
   "metadata": {},
   "outputs": [],
   "source": [
    "%autoreload 2\n",
    "import dualpy as dp\n",
    "def myseed(x, name):\n",
    "    return dp.seed(x, name)"
   ]
  },
  {
   "cell_type": "markdown",
   "metadata": {},
   "source": [
    "# Do a fairly kinematic calculation"
   ]
  },
  {
   "cell_type": "code",
   "execution_count": 4,
   "metadata": {},
   "outputs": [],
   "source": [
    "tv = np.linspace(0,60,61)*units.s\n",
    "uv = 10.0*units.m/units.s\n",
    "av = 5.0*units.m/units.s**2\n",
    "\n",
    "t = myseed(tv, \"t\")\n",
    "# t = tv\n",
    "u = myseed(uv, \"u\")\n",
    "# u = uv\n",
    "a = myseed(av, \"a\")\n",
    "# a = av"
   ]
  },
  {
   "cell_type": "code",
   "execution_count": 5,
   "metadata": {},
   "outputs": [
    {
     "name": "stdout",
     "output_type": "stream",
     "text": [
      "{'t': Jacobian of type <class 'dualpy.diagonal_jacobians.SeedJacobian'>\n",
      "Dependent shape is (61,) <61>\n",
      "Independent shape is (61,) <61>\n",
      "Combined they are (61, 61) <3721>\n",
      "Dummies are (1,) and (1,)\n",
      "Units are d<s>/d<s> = <>\n",
      "data is <class 'numpy.ndarray'>([61], dtype=float64)}\n"
     ]
    }
   ],
   "source": [
    "print(t.jacobians)"
   ]
  },
  {
   "cell_type": "code",
   "execution_count": 6,
   "metadata": {},
   "outputs": [],
   "source": [
    "# t = dp.seed(tv, \"t\")\n",
    "# t = t.to(units.min)\n",
    "# u = u.to(units.imperial.mile/units.hour)\n",
    "# j = t.jacobians[\"t\"]\n",
    "# jv = j.diagonal()[0]\n",
    "# print (f\"Seed value has become {jv}\")\n",
    "# print (f\"Units are {j.dependent_unit} by {j.independent_unit}\")"
   ]
  },
  {
   "cell_type": "code",
   "execution_count": 7,
   "metadata": {},
   "outputs": [],
   "source": [
    "s = u*t + 0.5*a*t**2\n",
    "v = u + a*t"
   ]
  },
  {
   "cell_type": "code",
   "execution_count": 8,
   "metadata": {},
   "outputs": [
    {
     "name": "stdout",
     "output_type": "stream",
     "text": [
      "m  by  s\n"
     ]
    },
    {
     "ename": "AttributeError",
     "evalue": "'SparseJacobian' object has no attribute '_check_jacobian_fundamentals'",
     "output_type": "error",
     "traceback": [
      "\u001b[0;31m---------------------------------------------------------------------------\u001b[0m",
      "\u001b[0;31mAttributeError\u001b[0m                            Traceback (most recent call last)",
      "Cell \u001b[0;32mIn[8], line 6\u001b[0m\n\u001b[1;32m      4\u001b[0m vAna \u001b[38;5;241m=\u001b[39m J\u001b[38;5;241m.\u001b[39mextract_diagonal()\u001b[38;5;241m.\u001b[39mdecompose()\n\u001b[1;32m      5\u001b[0m \u001b[38;5;28mprint\u001b[39m (J\u001b[38;5;241m.\u001b[39mdependent_unit, \u001b[38;5;124m'\u001b[39m\u001b[38;5;124m by \u001b[39m\u001b[38;5;124m'\u001b[39m, J\u001b[38;5;241m.\u001b[39mindependent_unit)\n\u001b[0;32m----> 6\u001b[0m \u001b[38;5;28mprint\u001b[39m (\u001b[38;5;124mf\u001b[39m\u001b[38;5;124m\"\u001b[39m\u001b[38;5;124mAt t=\u001b[39m\u001b[38;5;132;01m{\u001b[39;00m\u001b[43mt\u001b[49m\u001b[43m[\u001b[49m\u001b[43mi\u001b[49m\u001b[43m]\u001b[49m\u001b[38;5;132;01m}\u001b[39;00m\u001b[38;5;124m, s=\u001b[39m\u001b[38;5;132;01m{\u001b[39;00ms[i]\u001b[38;5;132;01m}\u001b[39;00m\u001b[38;5;124m, v=\u001b[39m\u001b[38;5;132;01m{\u001b[39;00mv[i]\u001b[38;5;241m.\u001b[39mdecompose()\u001b[38;5;132;01m}\u001b[39;00m\u001b[38;5;124m, vAna=\u001b[39m\u001b[38;5;132;01m{\u001b[39;00mvAna[i]\u001b[38;5;132;01m}\u001b[39;00m\u001b[38;5;124m\"\u001b[39m)\n",
      "File \u001b[0;32m~/python/dualpy/dualpy/duals.py:232\u001b[0m, in \u001b[0;36mdlarray.__getitem__\u001b[0;34m(self, key)\u001b[0m\n\u001b[1;32m    230\u001b[0m out \u001b[38;5;241m=\u001b[39m dlarray(\u001b[38;5;28mself\u001b[39m\u001b[38;5;241m.\u001b[39mvariable[key])\n\u001b[1;32m    231\u001b[0m \u001b[38;5;28;01mfor\u001b[39;00m name, jacobian \u001b[38;5;129;01min\u001b[39;00m \u001b[38;5;28mself\u001b[39m\u001b[38;5;241m.\u001b[39mjacobians\u001b[38;5;241m.\u001b[39mitems():\n\u001b[0;32m--> 232\u001b[0m     out\u001b[38;5;241m.\u001b[39mjacobians[name] \u001b[38;5;241m=\u001b[39m \u001b[43mjacobian\u001b[49m\u001b[38;5;241;43m.\u001b[39;49m\u001b[43m_getjitem\u001b[49m\u001b[43m(\u001b[49m\u001b[43mout\u001b[49m\u001b[38;5;241;43m.\u001b[39;49m\u001b[43mshape\u001b[49m\u001b[43m,\u001b[49m\u001b[43m \u001b[49m\u001b[43mkey\u001b[49m\u001b[43m)\u001b[49m\n\u001b[1;32m    233\u001b[0m \u001b[38;5;28;01mreturn\u001b[39;00m out\n",
      "File \u001b[0;32m~/python/dualpy/dualpy/diagonal_jacobians.py:185\u001b[0m, in \u001b[0;36mDiagonalJacobian._getjitem\u001b[0;34m(self, new_dependent_shape, key)\u001b[0m\n\u001b[1;32m    164\u001b[0m \u001b[38;5;250m\u001b[39m\u001b[38;5;124;03m\"\"\"Enacts getitem for diagonal Jacobians\u001b[39;00m\n\u001b[1;32m    165\u001b[0m \n\u001b[1;32m    166\u001b[0m \u001b[38;5;124;03mInvoked by dlarray.__getitem__\u001b[39;00m\n\u001b[0;32m   (...)\u001b[0m\n\u001b[1;32m    179\u001b[0m \u001b[38;5;124;03m    Appropriate subset of the Jacobian\u001b[39;00m\n\u001b[1;32m    180\u001b[0m \u001b[38;5;124;03m\"\"\"\u001b[39;00m\n\u001b[1;32m    181\u001b[0m \u001b[38;5;66;03m# OK, once we extract items, this will no longer be diagonal, so we convert to\u001b[39;00m\n\u001b[1;32m    182\u001b[0m \u001b[38;5;66;03m# sparse/dense before doing the subset.\u001b[39;00m\n\u001b[1;32m    183\u001b[0m \u001b[38;5;66;03m#\u001b[39;00m\n\u001b[1;32m    184\u001b[0m \u001b[38;5;66;03m# pylint: disable=protected-access\u001b[39;00m\n\u001b[0;32m--> 185\u001b[0m \u001b[38;5;28;01mreturn\u001b[39;00m \u001b[43mto_non_diagonal\u001b[49m\u001b[43m(\u001b[49m\u001b[38;5;28;43mself\u001b[39;49m\u001b[43m)\u001b[49m\u001b[38;5;241m.\u001b[39m_getjitem(new_dependent_shape, key)\n",
      "File \u001b[0;32m~/python/dualpy/dualpy/diagonal_jacobians.py:27\u001b[0m, in \u001b[0;36mto_non_diagonal\u001b[0;34m(jacobian)\u001b[0m\n\u001b[1;32m     25\u001b[0m     \u001b[38;5;28;01mreturn\u001b[39;00m DenseJacobian(jacobian)\n\u001b[1;32m     26\u001b[0m \u001b[38;5;28;01melse\u001b[39;00m:\n\u001b[0;32m---> 27\u001b[0m     \u001b[38;5;28;01mreturn\u001b[39;00m \u001b[43mSparseJacobian\u001b[49m\u001b[43m(\u001b[49m\u001b[43mjacobian\u001b[49m\u001b[43m)\u001b[49m\n",
      "File \u001b[0;32m~/python/dualpy/dualpy/sparse_jacobians.py:159\u001b[0m, in \u001b[0;36mSparseJacobian.__init__\u001b[0;34m(self, data, template, **kwargs)\u001b[0m\n\u001b[1;32m    157\u001b[0m \u001b[38;5;28;01melse\u001b[39;00m:\n\u001b[1;32m    158\u001b[0m     \u001b[38;5;28mself\u001b[39m\u001b[38;5;241m.\u001b[39mdata2d \u001b[38;5;241m=\u001b[39m data2d_\n\u001b[0;32m--> 159\u001b[0m \u001b[38;5;28;43mself\u001b[39;49m\u001b[38;5;241;43m.\u001b[39;49m\u001b[43m_check\u001b[49m\u001b[43m(\u001b[49m\u001b[43m)\u001b[49m\n",
      "File \u001b[0;32m~/python/dualpy/dualpy/sparse_jacobians.py:176\u001b[0m, in \u001b[0;36mSparseJacobian._check\u001b[0;34m(self, name)\u001b[0m\n\u001b[1;32m    174\u001b[0m \u001b[38;5;28;01mif\u001b[39;00m name \u001b[38;5;129;01mis\u001b[39;00m \u001b[38;5;28;01mNone\u001b[39;00m:\n\u001b[1;32m    175\u001b[0m     name \u001b[38;5;241m=\u001b[39m \u001b[38;5;124m\"\u001b[39m\u001b[38;5;124m<unknown sparse Jacobian>\u001b[39m\u001b[38;5;124m\"\u001b[39m\n\u001b[0;32m--> 176\u001b[0m \u001b[38;5;28;43mself\u001b[39;49m\u001b[38;5;241;43m.\u001b[39;49m\u001b[43m_check_jacobian_fundamentals\u001b[49m(name)\n\u001b[1;32m    177\u001b[0m correct_2dshape \u001b[38;5;241m=\u001b[39m (\u001b[38;5;28mself\u001b[39m\u001b[38;5;241m.\u001b[39mdependent_size, \u001b[38;5;28mself\u001b[39m\u001b[38;5;241m.\u001b[39mindependent_size)\n\u001b[1;32m    178\u001b[0m \u001b[38;5;28;01massert\u001b[39;00m \u001b[38;5;28mself\u001b[39m\u001b[38;5;241m.\u001b[39mdata2d\u001b[38;5;241m.\u001b[39mshape \u001b[38;5;241m==\u001b[39m correct_2dshape, (\n\u001b[1;32m    179\u001b[0m     \u001b[38;5;124mf\u001b[39m\u001b[38;5;124m\"\u001b[39m\u001b[38;5;124marray2d shape mismatch for \u001b[39m\u001b[38;5;132;01m{\u001b[39;00mname\u001b[38;5;132;01m}\u001b[39;00m\u001b[38;5;124m, \u001b[39m\u001b[38;5;124m\"\u001b[39m\n\u001b[1;32m    180\u001b[0m     \u001b[38;5;124mf\u001b[39m\u001b[38;5;124m\"\u001b[39m\u001b[38;5;132;01m{\u001b[39;00m\u001b[38;5;28mself\u001b[39m\u001b[38;5;241m.\u001b[39mdata2d\u001b[38;5;241m.\u001b[39mshape\u001b[38;5;132;01m}\u001b[39;00m\u001b[38;5;124m != \u001b[39m\u001b[38;5;132;01m{\u001b[39;00mcorrect_2dshape\u001b[38;5;132;01m}\u001b[39;00m\u001b[38;5;124m\"\u001b[39m\n\u001b[1;32m    181\u001b[0m )\n",
      "\u001b[0;31mAttributeError\u001b[0m: 'SparseJacobian' object has no attribute '_check_jacobian_fundamentals'"
     ]
    }
   ],
   "source": [
    "s = s.decompose()\n",
    "i = -1\n",
    "J = s.jacobians[\"t\"]\n",
    "vAna = J.extract_diagonal().decompose()\n",
    "print (J.dependent_unit, ' by ', J.independent_unit)\n",
    "print (f\"At t={t[i]}, s={s[i]}, v={v[i].decompose()}, vAna={vAna[i]}\")"
   ]
  },
  {
   "cell_type": "code",
   "execution_count": null,
   "metadata": {},
   "outputs": [],
   "source": [
    "print (t)\n",
    "print (t.jacobians[\"t\"])"
   ]
  },
  {
   "cell_type": "code",
   "execution_count": null,
   "metadata": {},
   "outputs": [],
   "source": [
    "print (s)\n",
    "print (s.jacobians[\"t\"])"
   ]
  },
  {
   "cell_type": "code",
   "execution_count": null,
   "metadata": {},
   "outputs": [],
   "source": [
    "plt.plot(t,units.Quantity(s))\n",
    "plt.show()"
   ]
  },
  {
   "cell_type": "markdown",
   "metadata": {},
   "source": [
    "## Now some oscillation / trigonometry stuff"
   ]
  },
  {
   "cell_type": "code",
   "execution_count": null,
   "metadata": {},
   "outputs": [],
   "source": [
    "theta = 30.0*units.deg\n",
    "# theta = theta.to(units.rad)\n",
    "theta = myseed(theta,\"theta\")\n",
    "s = np.sin(theta)\n",
    "j = s.jacobians[\"theta\"].extract_diagonal().decompose()\n",
    "print (f\"sin is {s}, ds/dtheta={j}\")"
   ]
  },
  {
   "cell_type": "code",
   "execution_count": null,
   "metadata": {},
   "outputs": [],
   "source": [
    "tv = np.linspace(0,50,501)*units.s\n",
    "omegav = 0.1*constants.pi*2 << (units.rad/units.s)\n",
    "av = 10.0*units.m"
   ]
  },
  {
   "cell_type": "code",
   "execution_count": null,
   "metadata": {},
   "outputs": [],
   "source": [
    "t = myseed(tv,\"t\")\n",
    "print(t.jacobians['t'])\n",
    "# t = t.to(units.minute)\n",
    "# t = tv\n",
    "omega = myseed(omegav, \"omega\")\n",
    "# omega = omegav\n",
    "a = myseed(av,\"a\")\n",
    "# a = a.to(units.cm)\n",
    "# a = av"
   ]
  },
  {
   "cell_type": "code",
   "execution_count": null,
   "metadata": {},
   "outputs": [],
   "source": [
    "phase = omega*t\n",
    "print (f\"Phase has units of {phase.unit}\")\n",
    "x = a*np.sin(phase)"
   ]
  },
  {
   "cell_type": "code",
   "execution_count": null,
   "metadata": {},
   "outputs": [],
   "source": [
    "xa = x.jacobians[\"a\"]\n",
    "sa = a.jacobians[\"a\"]\n",
    "print (sa.independent_shape)\n",
    "print (xa.independent_shape)"
   ]
  },
  {
   "cell_type": "code",
   "execution_count": null,
   "metadata": {},
   "outputs": [],
   "source": [
    "v = x.jacobians[\"t\"].extract_diagonal()\n",
    "print (f\"v[0] = {v[0]}\")\n",
    "print (v.unit)\n",
    "v = v.to(units.m/units.s)\n",
    "x = x.to(units.m)"
   ]
  },
  {
   "cell_type": "code",
   "execution_count": null,
   "metadata": {},
   "outputs": [],
   "source": [
    "plt.plot(t,x, label='$x$')\n",
    "plt.plot(t,v, label='$\\partial x/\\partial t$')\n",
    "print (x.jacobians[\"t\"].shape)\n",
    "dxda = x.jacobians[\"a\"].todensearray()\n",
    "plt.plot(t,dxda, label='$\\partial x/\\partial a$')\n",
    "dxdomega = x.jacobians[\"omega\"].todensearray()\n",
    "plt.plot(t,dxdomega/100, label='$\\partial x/\\partial\\omega/100$')\n",
    "plt.legend()\n",
    "plt.show()\n",
    "print (type(v.unit))"
   ]
  },
  {
   "cell_type": "code",
   "execution_count": null,
   "metadata": {},
   "outputs": [],
   "source": [
    "for name, j in x.jacobians.items():\n",
    "    print (f\"{name} is in {j.dependent_unit} by {j.independent_unit}\")\n",
    "        #values = np.array(j.data) << j.unit\n",
    "        #print (f\"{name}={values}\")"
   ]
  },
  {
   "cell_type": "code",
   "execution_count": null,
   "metadata": {},
   "outputs": [],
   "source": [
    "xV = 0.5 << units.dimensionless_unscaled\n",
    "x = myseed(xV,\"x\")\n",
    "print (np.arcsin(x).to(units.deg))"
   ]
  },
  {
   "cell_type": "code",
   "execution_count": null,
   "metadata": {},
   "outputs": [],
   "source": [
    "def func(x): return np.sqrt(x)\n",
    "xV = np.linspace(1,10,201) << units.dimensionless_unscaled\n",
    "x = myseed(xV, \"x\")\n",
    "y = func(x)\n",
    "jA = y.jacobians[\"x\"].extract_diagonal()"
   ]
  },
  {
   "cell_type": "code",
   "execution_count": null,
   "metadata": {},
   "outputs": [],
   "source": [
    "dx = 1e-9*xV[-1]\n",
    "jN = (func(xV+dx)-func(xV))/dx"
   ]
  },
  {
   "cell_type": "code",
   "execution_count": null,
   "metadata": {},
   "outputs": [],
   "source": [
    "fig, (ax1, ax2) = plt.subplots(2)\n",
    "ax1.plot(x,y)\n",
    "ax1.plot(x,jA)\n",
    "ax1.plot(x,jN)\n",
    "ax2.plot(x,100.0*(jA-jN)/jA)\n",
    "plt.show()"
   ]
  },
  {
   "cell_type": "code",
   "execution_count": null,
   "metadata": {},
   "outputs": [],
   "source": []
  },
  {
   "cell_type": "code",
   "execution_count": null,
   "metadata": {},
   "outputs": [],
   "source": []
  }
 ],
 "metadata": {
  "kernelspec": {
   "display_name": "njl-base-3.10-18oct23",
   "language": "python",
   "name": "njl-base-3.10-18oct23"
  },
  "language_info": {
   "codemirror_mode": {
    "name": "ipython",
    "version": 3
   },
   "file_extension": ".py",
   "mimetype": "text/x-python",
   "name": "python",
   "nbconvert_exporter": "python",
   "pygments_lexer": "ipython3",
   "version": "3.10.13"
  }
 },
 "nbformat": 4,
 "nbformat_minor": 4
}
