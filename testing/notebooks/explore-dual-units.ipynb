{
 "cells": [
  {
   "cell_type": "code",
   "execution_count": null,
   "metadata": {},
   "outputs": [],
   "source": [
    "%config InlineBackend.figure_format = 'retina'\n",
    "%load_ext autoreload\n",
    "import numpy as np\n",
    "import matplotlib.pyplot as plt\n",
    "import scipy.constants as constants\n",
    "import scipy.special as special\n",
    "import astropy.units as units\n",
    "import astropy.constants as aconstants\n",
    "from matplotlib import rc as rc\n",
    "%matplotlib inline\n",
    "import math as math"
   ]
  },
  {
   "cell_type": "code",
   "execution_count": null,
   "metadata": {},
   "outputs": [],
   "source": [
    "plt.style.use(\"bmh\")\n",
    "plt.rcParams.update({\n",
    "    'font.size': 12,\n",
    "    'figure.figsize': (8,6),\n",
    "    'xtick.minor.visible': True,\n",
    "    'ytick.minor.visible': True})\n",
    "# rc('font',**{'family':'sans-serif','sans-serif':['Helvetica'], 'size':12})\n",
    "# rc('text', usetex=True)"
   ]
  },
  {
   "cell_type": "code",
   "execution_count": null,
   "metadata": {},
   "outputs": [],
   "source": [
    "%autoreload 2\n",
    "import madart.dualpy as dp\n",
    "myseed = dp._seed_dense"
   ]
  },
  {
   "cell_type": "markdown",
   "metadata": {},
   "source": [
    "# Do a fairly kinematic calculation"
   ]
  },
  {
   "cell_type": "code",
   "execution_count": null,
   "metadata": {},
   "outputs": [],
   "source": [
    "tv = np.linspace(0,60,61)*units.s\n",
    "uv = 10.0*units.m/units.s\n",
    "av = 5.0*units.m/units.s**2\n",
    "\n",
    "t = myseed(tv, \"t\")\n",
    "# t = tv\n",
    "u = myseed(uv, \"u\")\n",
    "# u = uv\n",
    "a = myseed(av, \"a\")\n",
    "# a = av"
   ]
  },
  {
   "cell_type": "code",
   "execution_count": null,
   "metadata": {},
   "outputs": [],
   "source": [
    "# t = dp.seed(tv, \"t\")\n",
    "# t = t.to(units.min)\n",
    "# u = u.to(units.imperial.mile/units.hour)\n",
    "# j = t.jacobians[\"t\"]\n",
    "# jv = j.diagonal()[0]\n",
    "# print (f\"Seed value has become {jv}\")\n",
    "# print (f\"Units are {j.dependent_unit} by {j.independent_unit}\")"
   ]
  },
  {
   "cell_type": "code",
   "execution_count": null,
   "metadata": {},
   "outputs": [],
   "source": [
    "s = u*t + 0.5*a*t**2\n",
    "v = u + a*t"
   ]
  },
  {
   "cell_type": "code",
   "execution_count": null,
   "metadata": {},
   "outputs": [],
   "source": [
    "s = s.decompose()\n",
    "i = -1\n",
    "J = s.jacobians[\"t\"]\n",
    "vAna = J.extract_diagonal().decompose()\n",
    "print (J.dependent_unit, ' by ', J.independent_unit)\n",
    "print (f\"At t={t[i]}, s=s[i], v=v[i].decompose(), vAna=vAna[i]\")"
   ]
  },
  {
   "cell_type": "code",
   "execution_count": null,
   "metadata": {},
   "outputs": [],
   "source": [
    "print (t)\n",
    "print (t.jacobians[\"t\"])"
   ]
  },
  {
   "cell_type": "code",
   "execution_count": null,
   "metadata": {},
   "outputs": [],
   "source": [
    "print (s)\n",
    "print (s.jacobians[\"t\"])"
   ]
  },
  {
   "cell_type": "code",
   "execution_count": null,
   "metadata": {},
   "outputs": [],
   "source": [
    "plt.plot(t,units.Quantity(s))\n",
    "plt.show()"
   ]
  },
  {
   "cell_type": "markdown",
   "metadata": {},
   "source": [
    "## Now some oscillation / trigonometry stuff"
   ]
  },
  {
   "cell_type": "code",
   "execution_count": null,
   "metadata": {},
   "outputs": [],
   "source": [
    "theta = 30.0*units.deg\n",
    "# theta = theta.to(units.rad)\n",
    "theta = myseed(theta,\"theta\")\n",
    "s = np.sin(theta)\n",
    "j = s.jacobians[\"theta\"].diagonal().decompose()\n",
    "print (f\"sin is {s}, ds/dtheta={j}\")"
   ]
  },
  {
   "cell_type": "code",
   "execution_count": null,
   "metadata": {},
   "outputs": [],
   "source": [
    "tv = np.linspace(0,50,501)*units.s\n",
    "omegav = 0.1*constants.pi*2 << (units.rad/units.s)\n",
    "av = 10.0*units.m"
   ]
  },
  {
   "cell_type": "code",
   "execution_count": null,
   "metadata": {},
   "outputs": [],
   "source": [
    "t = myseed(tv,\"t\")\n",
    "print(t.jacobians['t'])\n",
    "# t = t.to(units.minute)\n",
    "# t = tv\n",
    "omega = myseed(omegav, \"omega\")\n",
    "# omega = omegav\n",
    "a = myseed(av,\"a\")\n",
    "# a = a.to(units.cm)\n",
    "# a = av"
   ]
  },
  {
   "cell_type": "code",
   "execution_count": null,
   "metadata": {},
   "outputs": [],
   "source": [
    "phase = omega*t\n",
    "print (f\"Phase has units of {phase.unit}\")\n",
    "x = a*np.sin(phase)"
   ]
  },
  {
   "cell_type": "code",
   "execution_count": null,
   "metadata": {},
   "outputs": [],
   "source": [
    "xa = x.jacobians[\"a\"]\n",
    "sa = a.jacobians[\"a\"]\n",
    "print (sa.independent_shape)\n",
    "print (xa.independent_shape)"
   ]
  },
  {
   "cell_type": "code",
   "execution_count": null,
   "metadata": {},
   "outputs": [],
   "source": [
    "v = x.jacobians[\"t\"].diagonal()\n",
    "print (f\"v[0] = {v[0]}\")\n",
    "print (v.unit)\n",
    "v = v.to(units.m/units.s)\n",
    "x = x.to(units.m)"
   ]
  },
  {
   "cell_type": "code",
   "execution_count": null,
   "metadata": {},
   "outputs": [],
   "source": [
    "plt.plot(t,x, label='$x$')\n",
    "plt.plot(t,v, label='$\\partial x/\\partial t$')\n",
    "print (x.jacobians[\"t\"].shape)\n",
    "dxda = x.jacobians[\"a\"].todensearray()\n",
    "plt.plot(t,dxda, label='$\\partial x/\\partial a$')\n",
    "dxdomega = x.jacobians[\"omega\"].todensearray()\n",
    "plt.plot(t,dxdomega/100, label='$\\partial x/\\partial\\omega/100$')\n",
    "plt.legend()\n",
    "plt.show()\n",
    "print (v.unit)"
   ]
  },
  {
   "cell_type": "code",
   "execution_count": null,
   "metadata": {},
   "outputs": [],
   "source": [
    "for name, j in x.jacobians.items():\n",
    "    print (f\"{name} is in {j.dependent_unit} by {j.independent_unit}\")\n",
    "        #values = np.array(j.data) << j.unit\n",
    "        #print (f\"{name}={values}\")"
   ]
  },
  {
   "cell_type": "code",
   "execution_count": null,
   "metadata": {},
   "outputs": [],
   "source": [
    "xV = 0.5 << units.dimensionless_unscaled\n",
    "x = myseed(xV,\"x\")\n",
    "print (np.arcsin(x).to(units.deg))"
   ]
  },
  {
   "cell_type": "code",
   "execution_count": null,
   "metadata": {},
   "outputs": [],
   "source": [
    "def func(x): return np.sqrt(x)\n",
    "xV = np.linspace(1,10,201) << units.dimensionless_unscaled\n",
    "x = myseed(xV, \"x\")\n",
    "y = func(x)\n",
    "jA = y.jacobians[\"x\"].diagonal()"
   ]
  },
  {
   "cell_type": "code",
   "execution_count": null,
   "metadata": {},
   "outputs": [],
   "source": [
    "dx = 1e-9*xV[-1]\n",
    "jN = (func(xV+dx)-func(xV))/dx"
   ]
  },
  {
   "cell_type": "code",
   "execution_count": null,
   "metadata": {},
   "outputs": [],
   "source": [
    "fig, (ax1, ax2) = plt.subplots(2)\n",
    "ax1.plot(x,y)\n",
    "ax1.plot(x,jA)\n",
    "ax1.plot(x,jN)\n",
    "ax2.plot(x,100.0*(jA-jN)/jA)\n",
    "plt.show()"
   ]
  },
  {
   "cell_type": "code",
   "execution_count": null,
   "metadata": {},
   "outputs": [],
   "source": []
  },
  {
   "cell_type": "code",
   "execution_count": null,
   "metadata": {},
   "outputs": [],
   "source": []
  }
 ],
 "metadata": {
  "kernelspec": {
   "display_name": "Python 3",
   "language": "python",
   "name": "python3"
  },
  "language_info": {
   "codemirror_mode": {
    "name": "ipython",
    "version": 3
   },
   "file_extension": ".py",
   "mimetype": "text/x-python",
   "name": "python",
   "nbconvert_exporter": "python",
   "pygments_lexer": "ipython3",
   "version": "3.9.5"
  }
 },
 "nbformat": 4,
 "nbformat_minor": 4
}
