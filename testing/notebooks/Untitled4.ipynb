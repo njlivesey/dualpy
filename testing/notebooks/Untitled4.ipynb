{
 "cells": [
  {
   "cell_type": "code",
   "execution_count": 1,
   "id": "7130d460-d123-416f-8f82-ab1eecc68924",
   "metadata": {},
   "outputs": [],
   "source": [
    "%matplotlib inline\n",
    "%config InlineBackend.figure_format = \"retina\"\n",
    "%load_ext autoreload\n",
    "%load_ext lab_black\n",
    "import numpy as np\n",
    "import matplotlib\n",
    "import matplotlib.pyplot as plt\n",
    "import astropy.units as units\n",
    "import pickle\n",
    "\n",
    "plt.style.use(\"mls_scf\")"
   ]
  },
  {
   "cell_type": "code",
   "execution_count": 2,
   "id": "75398637-072a-412d-a036-99178c73a4c2",
   "metadata": {},
   "outputs": [],
   "source": [
    "%autoreload 2\n",
    "import dualpy as dp"
   ]
  },
  {
   "cell_type": "code",
   "execution_count": 3,
   "id": "b4d04a1d-62af-4646-8a7c-45f46e103c8f",
   "metadata": {},
   "outputs": [
    {
     "name": "stdout",
     "output_type": "stream",
     "text": [
      "dual array ufunc got a look in with <ufunc 'multiply'>\n",
      "dual array ufunc got a look in with <ufunc 'sin'>\n",
      "In chain rule, forced_diagonal_unit is None\n",
      "In chain rule, diagonal comes in as: Unit(dimensionless)\n",
      "In chain rule, diagonal is now: Unit(dimensionless)\n",
      "per rad is 1 / rad\n",
      "In chain rule, forced_diagonal_unit is 1 / rad\n",
      "In chain rule, diagonal comes in as: Unit(dimensionless)\n",
      "In chain rule, diagonal is now: Unit(\"1 / rad\")\n",
      "dual array ufunc got a look in with <ufunc 'multiply'>\n"
     ]
    }
   ],
   "source": [
    "omega = 1.0 * units.rad / units.s\n",
    "t = np.linspace(0, 10, 101) << units.s\n",
    "t = dp.seed(t, \"t\")\n",
    "a = 1.0 * units.m\n",
    "x = a * np.sin(omega * t)"
   ]
  },
  {
   "cell_type": "code",
   "execution_count": 4,
   "id": "e4301f21-72fd-46be-bf56-f38c76a6e8d7",
   "metadata": {},
   "outputs": [
    {
     "data": {
      "text/plain": [
       "Jacobian of type <class 'dualpy.diagonal_jacobians.DiagonalJacobian'>\n",
       "Dependent shape is (101,) <101>\n",
       "Independent shape is (101,) <101>\n",
       "Combined they are (101, 101) <10201>\n",
       "Dummies are (1,) and (1,)\n",
       "Units are d<m>/d<s> = <m / s>\n",
       "data is (101,)"
      ]
     },
     "execution_count": 4,
     "metadata": {},
     "output_type": "execute_result"
    }
   ],
   "source": [
    "x.jacobians[\"t\"]"
   ]
  },
  {
   "cell_type": "code",
   "execution_count": 8,
   "id": "9aad05ff-0c4b-4695-bec1-7510f4dab38b",
   "metadata": {},
   "outputs": [
    {
     "data": {
      "text/plain": [
       "\u001b[0;31mSignature:\u001b[0m      \u001b[0mx\u001b[0m\u001b[0;34m.\u001b[0m\u001b[0m__imul__\u001b[0m\u001b[0;34m(\u001b[0m\u001b[0mvalue\u001b[0m\u001b[0;34m,\u001b[0m \u001b[0;34m/\u001b[0m\u001b[0;34m)\u001b[0m\u001b[0;34m\u001b[0m\u001b[0;34m\u001b[0m\u001b[0m\n",
       "\u001b[0;31mCall signature:\u001b[0m \u001b[0mx\u001b[0m\u001b[0;34m.\u001b[0m\u001b[0m__imul__\u001b[0m\u001b[0;34m(\u001b[0m\u001b[0;34m*\u001b[0m\u001b[0margs\u001b[0m\u001b[0;34m,\u001b[0m \u001b[0;34m**\u001b[0m\u001b[0mkwargs\u001b[0m\u001b[0;34m)\u001b[0m\u001b[0;34m\u001b[0m\u001b[0;34m\u001b[0m\u001b[0m\n",
       "\u001b[0;31mType:\u001b[0m           method-wrapper\n",
       "\u001b[0;31mString form:\u001b[0m    <method-wrapper '__imul__' of numpy.ndarray object at 0x7fa3bac5e370>\n",
       "\u001b[0;31mDocstring:\u001b[0m      Return self*=value.\n"
      ]
     },
     "metadata": {},
     "output_type": "display_data"
    }
   ],
   "source": [
    "x = np.array([0, 1])\n",
    "??x.__imul__"
   ]
  },
  {
   "cell_type": "code",
   "execution_count": null,
   "id": "b8b704d3-0eae-4c85-8631-4497af620aae",
   "metadata": {},
   "outputs": [],
   "source": []
  }
 ],
 "metadata": {
  "kernelspec": {
   "display_name": "njl-base-3.10",
   "language": "python",
   "name": "njl-base-3.10"
  },
  "language_info": {
   "codemirror_mode": {
    "name": "ipython",
    "version": 3
   },
   "file_extension": ".py",
   "mimetype": "text/x-python",
   "name": "python",
   "nbconvert_exporter": "python",
   "pygments_lexer": "ipython3",
   "version": "3.10.4"
  }
 },
 "nbformat": 4,
 "nbformat_minor": 5
}
