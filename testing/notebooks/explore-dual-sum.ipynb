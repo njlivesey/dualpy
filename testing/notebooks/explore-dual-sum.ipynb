{
 "cells": [
  {
   "cell_type": "code",
   "execution_count": null,
   "metadata": {},
   "outputs": [],
   "source": [
    "%config InlineBackend.figure_format = 'retina'\n",
    "%load_ext autoreload\n",
    "import numpy as np\n",
    "import matplotlib.pyplot as plt\n",
    "import scipy.constants as spconstants\n",
    "import astropy.units as units\n",
    "%matplotlib inline"
   ]
  },
  {
   "cell_type": "code",
   "execution_count": null,
   "metadata": {},
   "outputs": [],
   "source": [
    "plt.style.use(\"bmh\")\n",
    "plt.rcParams.update({\n",
    "    'font.size': 12,\n",
    "    'figure.figsize': (8,6),\n",
    "    'xtick.minor.visible': True,\n",
    "    'ytick.minor.visible': True})"
   ]
  },
  {
   "cell_type": "code",
   "execution_count": null,
   "metadata": {},
   "outputs": [],
   "source": [
    "%autoreload 2\n",
    "import madart.dualpy as dp\n",
    "myseed = dp._seed_dense\n",
    "\n",
    "print (np.__version__)"
   ]
  },
  {
   "cell_type": "code",
   "execution_count": null,
   "metadata": {},
   "outputs": [],
   "source": [
    "xv = np.linspace(-2*spconstants.pi,2*spconstants.pi,100) * units.dimensionless_unscaled\n",
    "#xv = np.linspace(-1,1,1000)\n",
    "#xv = xv[1:-1]\n",
    "#xv = np.linspace(-5,5,1000)\n",
    "x0 = xv\n",
    "x1 = dp.dlarray(xv)\n",
    "x2 = myseed(xv,\"x\")\n",
    "\n",
    "T = myseed(np.ones_like(xv), \"T\")\n",
    "x = x0\n",
    "a = T*np.exp(-x**2)\n",
    "z = np.sum(a, keepdims=False)"
   ]
  },
  {
   "cell_type": "code",
   "execution_count": null,
   "metadata": {},
   "outputs": [],
   "source": [
    "plt.plot(a*1.5)\n",
    "j = z.jacobians[\"T\"].todensearray()\n",
    "j = j.squeeze()\n",
    "plt.plot (j)\n",
    "plt.show()"
   ]
  },
  {
   "cell_type": "code",
   "execution_count": null,
   "metadata": {},
   "outputs": [],
   "source": [
    "x = np.linspace(0,2*spconstants.pi, 10) * units.rad\n",
    "y = np.linspace(0,2*spconstants.pi, 5) * units.rad\n",
    "x = myseed(x,\"x\")\n",
    "y = myseed(y,\"y\")\n",
    "# xx, yy = np.meshgrid(x,y)\n",
    "xx = np.reshape(x,(x.size,1))\n",
    "yy = np.reshape(y,(1,y.size))\n",
    "print (xx.shape)\n",
    "print (xx.jacobians['x'])\n",
    "z = np.sin(xx) * np.sin(2*yy)\n",
    "print (z.jacobians[\"x\"].shape)\n",
    "dzdx = z.jacobians[\"x\"].todensearray()\n",
    "dzdy = z.jacobians[\"y\"].todensearray()"
   ]
  },
  {
   "cell_type": "code",
   "execution_count": null,
   "metadata": {},
   "outputs": [],
   "source": [
    "t = np.cumsum(z, axis=1)\n",
    "dtdx = t.jacobians[\"x\"].todensearray()\n",
    "dtdy = t.jacobians[\"y\"].todensearray()\n",
    "\n",
    "print (\"dtdx\")\n",
    "print (f\"madart: {dtdx}\")\n",
    "print (f\"manual: {np.cumsum(dzdx, axis=(1))}\")\n",
    "\n",
    "print (\"dtdy\")\n",
    "print (f\"madart: {dtdy}\")\n",
    "print (f\"manual: {np.cumsum(dzdy, axis=(1))}\")"
   ]
  },
  {
   "cell_type": "code",
   "execution_count": null,
   "metadata": {},
   "outputs": [],
   "source": [
    "a = 2\n",
    "b = a if a==1 else -a\n",
    "b"
   ]
  },
  {
   "cell_type": "code",
   "execution_count": null,
   "metadata": {},
   "outputs": [],
   "source": []
  }
 ],
 "metadata": {
  "kernelspec": {
   "display_name": "Python 3",
   "language": "python",
   "name": "python3"
  },
  "language_info": {
   "codemirror_mode": {
    "name": "ipython",
    "version": 3
   },
   "file_extension": ".py",
   "mimetype": "text/x-python",
   "name": "python",
   "nbconvert_exporter": "python",
   "pygments_lexer": "ipython3",
   "version": "3.7.7"
  }
 },
 "nbformat": 4,
 "nbformat_minor": 4
}
