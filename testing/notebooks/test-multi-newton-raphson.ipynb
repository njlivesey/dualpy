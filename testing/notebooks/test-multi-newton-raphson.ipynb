{
 "cells": [
  {
   "cell_type": "code",
   "execution_count": null,
   "id": "following-nudist",
   "metadata": {},
   "outputs": [],
   "source": [
    "%matplotlib inline\n",
    "%config InlineBackend.figure_format = 'retina'\n",
    "%load_ext autoreload\n",
    "import numpy as np\n",
    "import matplotlib.pyplot as plt\n",
    "import astropy.units as units"
   ]
  },
  {
   "cell_type": "code",
   "execution_count": null,
   "id": "informational-statistics",
   "metadata": {},
   "outputs": [],
   "source": [
    "%autoreload 2\n",
    "import madart.dualpy as dp"
   ]
  },
  {
   "cell_type": "code",
   "execution_count": null,
   "id": "finished-huntington",
   "metadata": {},
   "outputs": [],
   "source": [
    "def func(x,p):\n",
    "    return (x+p)**2"
   ]
  },
  {
   "cell_type": "code",
   "execution_count": null,
   "id": "4106483a-c1be-4b63-82f9-d2d5acdc7c6b",
   "metadata": {},
   "outputs": [],
   "source": [
    "x_true = np.arange(1,11) * units.m\n",
    "p = 0.0*units.m\n",
    "p_true = p\n",
    "q = 0.0*units.m**2\n",
    "q_true = q"
   ]
  },
  {
   "cell_type": "code",
   "execution_count": null,
   "id": "c3c8c75e-c284-4d9c-b406-61be2965df91",
   "metadata": {},
   "outputs": [],
   "source": [
    "p = dp._seed_dense(p, \"p\")\n",
    "q = dp._seed_dense(q, \"q\")"
   ]
  },
  {
   "cell_type": "code",
   "execution_count": null,
   "id": "f4ecb17a-80aa-4055-85de-508ecd4a405d",
   "metadata": {},
   "outputs": [],
   "source": [
    "y_target = func(x_true, p_true) + q"
   ]
  },
  {
   "cell_type": "code",
   "execution_count": null,
   "id": "0d9af4f0-a2e8-4590-a8fc-a0b7120e0b90",
   "metadata": {},
   "outputs": [],
   "source": [
    "print(x_true)\n",
    "print(y_target)\n",
    "print(dp.has_jacobians(y_target))"
   ]
  },
  {
   "cell_type": "code",
   "execution_count": null,
   "id": "animated-extension",
   "metadata": {},
   "outputs": [],
   "source": [
    "x0 = x_true*0.0+1.0*units.m\n",
    "x_hat = dp.multi_newton_raphson(x0, func, args=[p], y=y_target, max_iter=None, dx_tolerance=1e-12*units.m)"
   ]
  },
  {
   "cell_type": "code",
   "execution_count": null,
   "id": "cd829a4a-fa8d-4f44-aa56-2c2d71cb93a5",
   "metadata": {},
   "outputs": [],
   "source": [
    "print(x_hat-x_true)"
   ]
  },
  {
   "cell_type": "code",
   "execution_count": null,
   "id": "5210bfb6-a3a4-4007-b936-f9910a114f17",
   "metadata": {},
   "outputs": [],
   "source": [
    "print(x_hat.jacobians)"
   ]
  },
  {
   "cell_type": "code",
   "execution_count": null,
   "id": "5444f493-594c-4464-bbfd-b6b9165f6f35",
   "metadata": {},
   "outputs": [],
   "source": [
    "jp = x_hat.jacobians[\"p\"].todensearray()\n",
    "jq = x_hat.jacobians[\"q\"].todensearray()\n",
    "jq_test = 0.5*(y_target)**(-0.5)"
   ]
  },
  {
   "cell_type": "code",
   "execution_count": null,
   "id": "dae9db52-370b-4f7a-828b-28dd55ccbd82",
   "metadata": {},
   "outputs": [],
   "source": [
    "print(jp)\n",
    "print(jq)\n",
    "print(jq_test)"
   ]
  },
  {
   "cell_type": "code",
   "execution_count": null,
   "id": "302423dd-fd2a-4801-bbe8-268931056f32",
   "metadata": {},
   "outputs": [],
   "source": [
    "print(x_hat.to(units.km))"
   ]
  },
  {
   "cell_type": "code",
   "execution_count": null,
   "id": "bf7e67bc-fdf7-42fb-a8ad-74ec416e733a",
   "metadata": {},
   "outputs": [],
   "source": []
  },
  {
   "cell_type": "code",
   "execution_count": null,
   "id": "48d0ad3f-437e-45d8-b83c-6f2163664e3b",
   "metadata": {},
   "outputs": [],
   "source": []
  }
 ],
 "metadata": {
  "kernelspec": {
   "display_name": "Python 3",
   "language": "python",
   "name": "python3"
  },
  "language_info": {
   "codemirror_mode": {
    "name": "ipython",
    "version": 3
   },
   "file_extension": ".py",
   "mimetype": "text/x-python",
   "name": "python",
   "nbconvert_exporter": "python",
   "pygments_lexer": "ipython3",
   "version": "3.9.5"
  }
 },
 "nbformat": 4,
 "nbformat_minor": 5
}
