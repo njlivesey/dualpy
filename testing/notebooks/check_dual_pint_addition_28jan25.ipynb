{
 "cells": [
  {
   "cell_type": "code",
   "execution_count": 1,
   "id": "d9410202-5ad2-49ff-92b9-e71c607badff",
   "metadata": {},
   "outputs": [],
   "source": [
    "# fmt: off\n",
    "%matplotlib inline\n",
    "%config InlineBackend.figure_format = \"retina\"\n",
    "%load_ext autoreload\n",
    "%load_ext lab_black\n",
    "import numpy as np\n",
    "import matplotlib\n",
    "import matplotlib.pyplot as plt\n",
    "import pickle\n",
    "from mls_scf_tools.mls_pint import ureg\n",
    "plt.style.use(\"mls_scf\")\n",
    "def vdir(obj):\n",
    "    return [x for x in dir(obj) if not x.startswith('__')]\n",
    "# fmt: on"
   ]
  },
  {
   "cell_type": "code",
   "execution_count": 2,
   "id": "528c0de6-fbab-43f7-951a-a23884dc2b77",
   "metadata": {},
   "outputs": [],
   "source": [
    "%autoreload 2\n",
    "import dualpy as dp\n",
    "import astropy.units as units"
   ]
  },
  {
   "cell_type": "code",
   "execution_count": 3,
   "id": "7ac821cc-c2d4-45b8-83ce-9358dcfcc2de",
   "metadata": {},
   "outputs": [],
   "source": [
    "u = ureg\n",
    "# u = units"
   ]
  },
  {
   "cell_type": "code",
   "execution_count": 4,
   "id": "48daac8e-dc97-449e-b08b-5ce158516cf0",
   "metadata": {},
   "outputs": [],
   "source": [
    "t = np.arange(10) * u.s\n",
    "delta_t = 1.0 * u.s\n",
    "t = dp.seed(t, \"t\")\n",
    "delta_t = dp.seed(delta_t, \"delta_t\")"
   ]
  },
  {
   "cell_type": "code",
   "execution_count": 5,
   "id": "ad822bf0-f587-4115-b7be-88edc6be8d9b",
   "metadata": {},
   "outputs": [
    {
     "name": "stdout",
     "output_type": "stream",
     "text": [
      "=================================\n",
      "Jacobian of type <class 'dualpy.diagonal_jacobians.SeedJacobian'>\n",
      "Dependent shape is (10,) <10>\n",
      "Independent shape is (10,) <10>\n",
      "Combined they are (10, 10) <100>\n",
      "Dummies are (1,) and (1,)\n",
      "Units are d<second>/d<second> = <dimensionless>\n",
      "data is (10,)\n",
      "[1.0 0.0 0.0 0.0 0.0 0.0 0.0 0.0 0.0 0.0] dimensionless\n",
      "Jacobian of type <class 'dualpy.diagonal_jacobians.SeedJacobian'>\n",
      "Dependent shape is (10,) <10>\n",
      "Independent shape is (10,) <10>\n",
      "Combined they are (10, 10) <100>\n",
      "Dummies are (1,) and (1,)\n",
      "Units are d<minute>/d<second> = <minute / second>\n",
      "data is (10,)\n",
      "[1.0 0.0 0.0 0.0 0.0 0.0 0.0 0.0 0.0 0.0] dimensionless\n"
     ]
    }
   ],
   "source": [
    "j = t.jacobians[\"t\"]\n",
    "jj = j.to(u.min)\n",
    "print(\"=================================\")\n",
    "if u is ureg:\n",
    "    print(j)\n",
    "    print(j.todensearray().squeeze().to_base_units()[0])\n",
    "    print(jj)\n",
    "    print(jj.todensearray().squeeze().to_base_units()[0])\n",
    "else:\n",
    "    print(j)\n",
    "    print(j.todensearray().squeeze().decompose()[0])\n",
    "    print(jj)\n",
    "    print(jj.todensearray().squeeze().decompose()[0])"
   ]
  },
  {
   "cell_type": "code",
   "execution_count": 6,
   "id": "8924cfde-a0a3-462f-8378-a8937f2ed4f2",
   "metadata": {},
   "outputs": [],
   "source": [
    "import warnings\n",
    "\n",
    "# warnings.filterwarnings(\"error\", category=UserWarning)"
   ]
  },
  {
   "cell_type": "code",
   "execution_count": 7,
   "id": "371bb799-00aa-4bf9-85fb-4540cfe19ed3",
   "metadata": {},
   "outputs": [],
   "source": [
    "z = t.to(u.min) + delta_t"
   ]
  },
  {
   "cell_type": "code",
   "execution_count": 8,
   "id": "eef888e1-7f23-4c8a-afce-72401033b805",
   "metadata": {},
   "outputs": [
    {
     "name": "stdout",
     "output_type": "stream",
     "text": [
      "Jacobian of type <class 'dualpy.dense_jacobians.DenseJacobian'>\n",
      "Dependent shape is (10,) <10>\n",
      "Independent shape is () <1>\n",
      "Combined they are (10,) <10>\n",
      "Dummies are (1,) and ()\n",
      "Units are d<minute>/d<second> = <minute / second>\n",
      "data is (10,)\n",
      "data2d is (10, 1)\n"
     ]
    }
   ],
   "source": [
    "print(z.jacobians[\"delta_t\"])"
   ]
  },
  {
   "cell_type": "code",
   "execution_count": 9,
   "id": "dd998e7e-c885-4a83-b9a2-f08d1c384ba4",
   "metadata": {},
   "outputs": [
    {
     "name": "stdout",
     "output_type": "stream",
     "text": [
      "[0.016666666666666666 0.016666666666666666 0.016666666666666666 0.016666666666666666 0.016666666666666666 0.016666666666666666 0.016666666666666666 0.016666666666666666 0.016666666666666666 0.016666666666666666] minute / second\n"
     ]
    }
   ],
   "source": [
    "print(z.jacobians[\"delta_t\"].todensearray())"
   ]
  },
  {
   "cell_type": "code",
   "execution_count": null,
   "id": "4f6fd442-2b1b-4e0c-9efd-55d8020f396e",
   "metadata": {},
   "outputs": [],
   "source": []
  }
 ],
 "metadata": {
  "kernelspec": {
   "display_name": "njl-base-3.10-02dec22",
   "language": "python",
   "name": "njl-base-3.10-02dec22"
  },
  "language_info": {
   "codemirror_mode": {
    "name": "ipython",
    "version": 3
   },
   "file_extension": ".py",
   "mimetype": "text/x-python",
   "name": "python",
   "nbconvert_exporter": "python",
   "pygments_lexer": "ipython3",
   "version": "3.10.4"
  }
 },
 "nbformat": 4,
 "nbformat_minor": 5
}
