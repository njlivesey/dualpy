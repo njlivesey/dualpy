{
 "cells": [
  {
   "cell_type": "code",
   "execution_count": 1,
   "id": "62f21f78-6213-4b5a-8a3d-66955794947a",
   "metadata": {},
   "outputs": [],
   "source": [
    "%matplotlib inline\n",
    "%config InlineBackend.figure_format = \"retina\"\n",
    "%load_ext autoreload\n",
    "%load_ext lab_black\n",
    "import numpy as np\n",
    "import matplotlib\n",
    "import matplotlib.pyplot as plt\n",
    "import pickle\n",
    "\n",
    "plt.style.use(\"mls_scf\")"
   ]
  },
  {
   "cell_type": "code",
   "execution_count": 2,
   "id": "0193be23-6c22-42bd-9249-aafd984d6df2",
   "metadata": {},
   "outputs": [],
   "source": [
    "import pint\n",
    "\n",
    "ureg = pint.UnitRegistry()"
   ]
  },
  {
   "cell_type": "code",
   "execution_count": 3,
   "id": "a4d143c0-4d16-4426-8333-c7914e2c8273",
   "metadata": {},
   "outputs": [],
   "source": [
    "x = 10.0 * ureg.m"
   ]
  },
  {
   "cell_type": "code",
   "execution_count": 4,
   "id": "c4c32d33-1f96-480d-84a9-f12e6a5844e3",
   "metadata": {},
   "outputs": [],
   "source": [
    "t = 5.0 * ureg.s"
   ]
  },
  {
   "cell_type": "code",
   "execution_count": 5,
   "id": "03c2dd5c-67c4-4b7e-8709-eb9fab9fc571",
   "metadata": {},
   "outputs": [
    {
     "name": "stdout",
     "output_type": "stream",
     "text": [
      "2.0 meter / second\n"
     ]
    }
   ],
   "source": [
    "print(x / t)"
   ]
  },
  {
   "cell_type": "code",
   "execution_count": 6,
   "id": "770f6217-c5a4-489f-a8d9-d326882f9f01",
   "metadata": {},
   "outputs": [],
   "source": [
    "ureg.define(\"zeta_unit=[]\")"
   ]
  },
  {
   "cell_type": "code",
   "execution_count": 7,
   "id": "2ae2e40f-276f-4d06-85cb-c074db2bd35e",
   "metadata": {},
   "outputs": [],
   "source": [
    "zeta = -1.0 * ureg[\"zeta_unit\"]"
   ]
  },
  {
   "cell_type": "code",
   "execution_count": 8,
   "id": "adb16a26-fe51-4371-a095-d55f6f90ec8f",
   "metadata": {},
   "outputs": [
    {
     "name": "stdout",
     "output_type": "stream",
     "text": [
      "True\n"
     ]
    }
   ],
   "source": [
    "print(\"zeta_unit\" in ureg)"
   ]
  },
  {
   "cell_type": "code",
   "execution_count": 11,
   "id": "80cdfff5-13c8-43a0-bdb5-6b947107de3f",
   "metadata": {},
   "outputs": [
    {
     "name": "stdout",
     "output_type": "stream",
     "text": [
      "2.0 zeta_unit\n"
     ]
    }
   ],
   "source": [
    "zeta = -1.0 * ureg.zeta_unit + 3.0 * ureg.zeta_unit\n",
    "print(zeta)"
   ]
  },
  {
   "cell_type": "raw",
   "id": "8686fa69-d954-485b-9458-bc723e357490",
   "metadata": {},
   "source": [
    "print(pint.__file__)"
   ]
  },
  {
   "cell_type": "code",
   "execution_count": 12,
   "id": "9215e4b3-a65e-4fe8-926b-5a457455ea97",
   "metadata": {},
   "outputs": [
    {
     "name": "stdout",
     "output_type": "stream",
     "text": [
      "1.0 dimensionless\n"
     ]
    }
   ],
   "source": [
    "print(t / t)"
   ]
  },
  {
   "cell_type": "code",
   "execution_count": 13,
   "id": "7cd10508-dd7b-4140-bda3-f2f625e8827e",
   "metadata": {},
   "outputs": [],
   "source": [
    "z = 1.0 * ureg.dimensionless"
   ]
  },
  {
   "cell_type": "code",
   "execution_count": 15,
   "id": "e288dfa3-78b3-43a5-adc6-138ac3caf91d",
   "metadata": {},
   "outputs": [],
   "source": [
    "x = np.linspace(0 * ureg.m, 100 * ureg.m, 101)"
   ]
  },
  {
   "cell_type": "code",
   "execution_count": 24,
   "id": "473767e0-510e-4d7f-83e0-4c2f4faa8397",
   "metadata": {},
   "outputs": [
    {
     "name": "stderr",
     "output_type": "stream",
     "text": [
      "/tmp/ipykernel_152779/1867663356.py:2: UnitStrippedWarning: The unit of the quantity is stripped when downcasting to ndarray.\n",
      "  t = np.arange(0*ureg.s, 100*ureg.s, 1.0*ureg.s)\n"
     ]
    },
    {
     "ename": "ValueError",
     "evalue": "setting an array element with a sequence.",
     "output_type": "error",
     "traceback": [
      "\u001b[0;31m---------------------------------------------------------------------------\u001b[0m",
      "\u001b[0;31mDimensionalityError\u001b[0m                       Traceback (most recent call last)",
      "File \u001b[0;32m~/.conda/envs/njl-base-3.10/lib/python3.10/site-packages/pint/quantity.py:901\u001b[0m, in \u001b[0;36mQuantity.__float__\u001b[0;34m(self)\u001b[0m\n\u001b[1;32m    900\u001b[0m     \u001b[38;5;28;01mreturn\u001b[39;00m \u001b[38;5;28mfloat\u001b[39m(\u001b[38;5;28mself\u001b[39m\u001b[38;5;241m.\u001b[39m_convert_magnitude_not_inplace(UnitsContainer()))\n\u001b[0;32m--> 901\u001b[0m \u001b[38;5;28;01mraise\u001b[39;00m DimensionalityError(\u001b[38;5;28mself\u001b[39m\u001b[38;5;241m.\u001b[39m_units, \u001b[38;5;124m\"\u001b[39m\u001b[38;5;124mdimensionless\u001b[39m\u001b[38;5;124m\"\u001b[39m)\n",
      "\u001b[0;31mDimensionalityError\u001b[0m: Cannot convert from 'second' to 'dimensionless'",
      "\nThe above exception was the direct cause of the following exception:\n",
      "\u001b[0;31mValueError\u001b[0m                                Traceback (most recent call last)",
      "Input \u001b[0;32mIn [24]\u001b[0m, in \u001b[0;36m<cell line: 2>\u001b[0;34m()\u001b[0m\n\u001b[1;32m      1\u001b[0m y \u001b[38;5;241m=\u001b[39m x \u001b[38;5;241m+\u001b[39m \u001b[38;5;241m1\u001b[39m \u001b[38;5;241m*\u001b[39m ureg\u001b[38;5;241m.\u001b[39mm\n\u001b[0;32m----> 2\u001b[0m t \u001b[38;5;241m=\u001b[39m \u001b[43mnp\u001b[49m\u001b[38;5;241;43m.\u001b[39;49m\u001b[43marange\u001b[49m\u001b[43m(\u001b[49m\u001b[38;5;241;43m0\u001b[39;49m\u001b[38;5;241;43m*\u001b[39;49m\u001b[43mureg\u001b[49m\u001b[38;5;241;43m.\u001b[39;49m\u001b[43ms\u001b[49m\u001b[43m,\u001b[49m\u001b[43m \u001b[49m\u001b[38;5;241;43m100\u001b[39;49m\u001b[38;5;241;43m*\u001b[39;49m\u001b[43mureg\u001b[49m\u001b[38;5;241;43m.\u001b[39;49m\u001b[43ms\u001b[49m\u001b[43m,\u001b[49m\u001b[43m \u001b[49m\u001b[38;5;241;43m1.0\u001b[39;49m\u001b[38;5;241;43m*\u001b[39;49m\u001b[43mureg\u001b[49m\u001b[38;5;241;43m.\u001b[39;49m\u001b[43ms\u001b[49m\u001b[43m)\u001b[49m\n",
      "\u001b[0;31mValueError\u001b[0m: setting an array element with a sequence."
     ]
    }
   ],
   "source": [
    "y = x + 1 * ureg.m"
   ]
  },
  {
   "cell_type": "code",
   "execution_count": 27,
   "id": "4f17be10-f3c1-404e-b0c3-bbe9a6bed6ea",
   "metadata": {},
   "outputs": [],
   "source": [
    "t = np.linspace(0, 100, 101) * ureg.s"
   ]
  },
  {
   "cell_type": "code",
   "execution_count": 28,
   "id": "a71e273c-1c5e-4d37-a18b-8ed96c1e69e9",
   "metadata": {},
   "outputs": [
    {
     "data": {
      "text/plain": [
       "pint.quantity.build_quantity_class.<locals>.Quantity"
      ]
     },
     "execution_count": 28,
     "metadata": {},
     "output_type": "execute_result"
    }
   ],
   "source": [
    "type(t)"
   ]
  },
  {
   "cell_type": "code",
   "execution_count": null,
   "id": "3f4feb90-1b7f-48cb-b1fd-693f675dd832",
   "metadata": {},
   "outputs": [],
   "source": []
  }
 ],
 "metadata": {
  "kernelspec": {
   "display_name": "njl-base-3.10",
   "language": "python",
   "name": "njl-base-3.10"
  },
  "language_info": {
   "codemirror_mode": {
    "name": "ipython",
    "version": 3
   },
   "file_extension": ".py",
   "mimetype": "text/x-python",
   "name": "python",
   "nbconvert_exporter": "python",
   "pygments_lexer": "ipython3",
   "version": "3.10.4"
  }
 },
 "nbformat": 4,
 "nbformat_minor": 5
}
