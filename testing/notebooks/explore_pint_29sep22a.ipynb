{
 "cells": [
  {
   "cell_type": "code",
   "execution_count": null,
   "id": "62f21f78-6213-4b5a-8a3d-66955794947a",
   "metadata": {},
   "outputs": [],
   "source": [
    "%matplotlib inline\n",
    "%config InlineBackend.figure_format = \"retina\"\n",
    "%load_ext autoreload\n",
    "%load_ext jupyter_black\n",
    "import numpy as np\n",
    "import matplotlib\n",
    "import matplotlib.pyplot as plt\n",
    "import pickle\n",
    "\n",
    "import xarray as xr\n",
    "\n",
    "plt.style.use(\"mls_scf\")"
   ]
  },
  {
   "cell_type": "code",
   "execution_count": null,
   "id": "0193be23-6c22-42bd-9249-aafd984d6df2",
   "metadata": {},
   "outputs": [],
   "source": [
    "%autoreload 2\n",
    "from mls_scf_tools.mls_pint import ureg\n",
    "\n",
    "# import astropy.units as ureg\n",
    "import pint\n",
    "import dualpy as dp"
   ]
  },
  {
   "cell_type": "code",
   "execution_count": null,
   "id": "2ea1a252-0163-4dcc-98d2-769b5ab0d658",
   "metadata": {},
   "outputs": [],
   "source": [
    "x = np.ones(shape=[5, 10]) * ureg.dimensionless\n",
    "w = np.ones(shape=[10]) * ureg.dimensionless\n",
    "a = np.average(x, weights=w, axis=1)"
   ]
  },
  {
   "cell_type": "code",
   "execution_count": null,
   "id": "1cb287c3-a9ea-49d4-a8a5-91a454211edd",
   "metadata": {},
   "outputs": [],
   "source": [
    "np.all([1, 1] == [1, 1, 1])"
   ]
  },
  {
   "cell_type": "code",
   "execution_count": null,
   "id": "223b85f4-c82c-49a3-9aff-78e75a94f8c4",
   "metadata": {},
   "outputs": [],
   "source": [
    "x = np.zeros_like(f, subok=True)\n",
    "print(x)"
   ]
  },
  {
   "cell_type": "code",
   "execution_count": null,
   "id": "31595c95-f964-46b1-8fa6-10b35db8f347",
   "metadata": {},
   "outputs": [],
   "source": [
    "power = 2.0 * ureg.dimensionless"
   ]
  },
  {
   "cell_type": "code",
   "execution_count": null,
   "id": "02e1422a-6ffa-4087-b744-14b26b787a8f",
   "metadata": {},
   "outputs": [],
   "source": [
    "f**power"
   ]
  },
  {
   "cell_type": "code",
   "execution_count": null,
   "id": "bd409e99-59d3-42cb-8da5-e62ca7a779ec",
   "metadata": {},
   "outputs": [],
   "source": []
  }
 ],
 "metadata": {
  "kernelspec": {
   "display_name": "njl-base-3.10-25aug23",
   "language": "python",
   "name": "njl-base-3.10-25aug23"
  },
  "language_info": {
   "codemirror_mode": {
    "name": "ipython",
    "version": 3
   },
   "file_extension": ".py",
   "mimetype": "text/x-python",
   "name": "python",
   "nbconvert_exporter": "python",
   "pygments_lexer": "ipython3",
   "version": "3.10.12"
  }
 },
 "nbformat": 4,
 "nbformat_minor": 5
}
