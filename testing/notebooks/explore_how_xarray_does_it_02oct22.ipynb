{
 "cells": [
  {
   "cell_type": "code",
   "execution_count": 1,
   "id": "4e5eb83d-3163-466b-922d-7d13075efb04",
   "metadata": {},
   "outputs": [
    {
     "name": "stdout",
     "output_type": "stream",
     "text": [
      "astropy quantity __mul__ will now invoke <method-wrapper '__mul__' of Quantity object at 0x7f469b03fac0> on <class 'float'>\n",
      "Astropy's __array_ufunc__ got a look in\n",
      "At [<class 'astropy.units.quantity.Quantity'>, <class 'float'>]\n",
      "Converters are [None, None]\n",
      "Astropy's __array_ufunc__ is dispatching <ufunc 'multiply'>\n",
      "On [<class 'numpy.float64'>, <class 'float'>]\n",
      "astropy quantity __mul__ will now invoke <method-wrapper '__mul__' of CODATA2018 object at 0x7f469b0a0840> on <class 'astropy.constants.codata2018.CODATA2018'>\n",
      "Astropy's __array_ufunc__ got a look in\n",
      "At [<class 'astropy.constants.codata2018.CODATA2018'>, <class 'astropy.constants.codata2018.CODATA2018'>]\n",
      "Converters are [None, None]\n",
      "Astropy's __array_ufunc__ is dispatching <ufunc 'multiply'>\n",
      "On [<class 'numpy.float64'>, <class 'numpy.float64'>]\n",
      "astropy quantity __mul__ will now invoke <method-wrapper '__mul__' of Quantity object at 0x7f469b0a23c0> on <class 'astropy.units.quantity.Quantity'>\n",
      "Astropy's __array_ufunc__ got a look in\n",
      "At [<class 'astropy.units.quantity.Quantity'>, <class 'astropy.units.quantity.Quantity'>]\n",
      "Converters are [None, None]\n",
      "Astropy's __array_ufunc__ is dispatching <ufunc 'multiply'>\n",
      "On [<class 'numpy.float64'>, <class 'numpy.float64'>]\n",
      "Astropy's __array_ufunc__ got a look in\n",
      "At [<class 'astropy.units.quantity.Quantity'>]\n",
      "Converters are [None]\n",
      "Astropy's __array_ufunc__ is dispatching <ufunc 'square'>\n",
      "On [<class 'numpy.float64'>]\n",
      "astropy quantity __mul__ will now invoke <method-wrapper '__mul__' of Quantity object at 0x7f469ae5c340> on <class 'float'>\n",
      "Astropy's __array_ufunc__ got a look in\n",
      "At [<class 'astropy.units.quantity.Quantity'>, <class 'float'>]\n",
      "Converters are [None, None]\n",
      "Astropy's __array_ufunc__ is dispatching <ufunc 'multiply'>\n",
      "On [<class 'numpy.float64'>, <class 'float'>]\n",
      "Astropy's __array_ufunc__ got a look in\n",
      "At [<class 'astropy.constants.iau2015.IAU2015'>, <class 'astropy.units.quantity.Quantity'>]\n",
      "Converters are [None, None]\n",
      "Astropy's __array_ufunc__ is dispatching <ufunc 'true_divide'>\n",
      "On [<class 'numpy.float64'>, <class 'numpy.float64'>]\n",
      "Astropy's __array_ufunc__ got a look in\n",
      "At [<class 'astropy.units.quantity.Quantity'>, <class 'float'>]\n",
      "Converters are [None, None]\n",
      "Astropy's __array_ufunc__ is dispatching <ufunc 'true_divide'>\n",
      "On [<class 'numpy.float64'>, <class 'float'>]\n",
      "Astropy's __array_ufunc__ got a look in\n",
      "At [<class 'astropy.units.quantity.Quantity'>, <class 'int'>]\n",
      "Converters are [None, None]\n",
      "Astropy's __array_ufunc__ is dispatching <ufunc 'true_divide'>\n",
      "On [<class 'numpy.float64'>, <class 'int'>]\n",
      "Astropy's __array_ufunc__ got a look in\n",
      "At [<class 'astropy.units.quantity.Quantity'>, <class 'int'>]\n",
      "Converters are [None, None]\n",
      "Astropy's __array_ufunc__ is dispatching <ufunc 'true_divide'>\n",
      "On [<class 'numpy.float64'>, <class 'int'>]\n",
      "Astropy's __array_ufunc__ got a look in\n",
      "At [<class 'astropy.units.quantity.Quantity'>, <class 'int'>]\n",
      "Converters are [None, None]\n",
      "Astropy's __array_ufunc__ is dispatching <ufunc 'true_divide'>\n",
      "On [<class 'numpy.float64'>, <class 'int'>]\n",
      "Astropy's __array_ufunc__ got a look in\n",
      "At [<class 'astropy.units.quantity.Quantity'>, <class 'int'>]\n",
      "Converters are [None, None]\n",
      "Astropy's __array_ufunc__ is dispatching <ufunc 'true_divide'>\n",
      "On [<class 'numpy.float64'>, <class 'int'>]\n",
      "Astropy's __array_ufunc__ got a look in\n",
      "At [<class 'astropy.units.quantity.Quantity'>, <class 'int'>]\n",
      "Converters are [None, None]\n",
      "Astropy's __array_ufunc__ is dispatching <ufunc 'true_divide'>\n",
      "On [<class 'numpy.float64'>, <class 'int'>]\n",
      "Astropy's __array_ufunc__ got a look in\n",
      "At [<class 'astropy.units.quantity.Quantity'>, <class 'int'>]\n",
      "Converters are [None, None]\n",
      "Astropy's __array_ufunc__ is dispatching <ufunc 'true_divide'>\n",
      "On [<class 'numpy.float64'>, <class 'int'>]\n",
      "Astropy's __array_ufunc__ got a look in\n",
      "At [<class 'astropy.units.quantity.Quantity'>, <class 'float'>]\n",
      "Converters are [None, None]\n",
      "Astropy's __array_ufunc__ is dispatching <ufunc 'true_divide'>\n",
      "On [<class 'numpy.float64'>, <class 'float'>]\n"
     ]
    }
   ],
   "source": [
    "%matplotlib inline\n",
    "%config InlineBackend.figure_format = \"retina\"\n",
    "%load_ext autoreload\n",
    "%load_ext lab_black\n",
    "import numpy as np\n",
    "import matplotlib\n",
    "import matplotlib.pyplot as plt\n",
    "import astropy.units as units\n",
    "import pickle\n",
    "\n",
    "plt.style.use(\"mls_scf\")"
   ]
  },
  {
   "cell_type": "code",
   "execution_count": 2,
   "id": "26bf08e8-4c08-4f76-b3c5-9a5ce2e2cc80",
   "metadata": {},
   "outputs": [],
   "source": [
    "import xarray as xr"
   ]
  },
  {
   "cell_type": "code",
   "execution_count": 3,
   "id": "d39bc893-e07d-479a-b0a7-c14ca4793b86",
   "metadata": {},
   "outputs": [],
   "source": [
    "a = xr.DataArray(np.arange(10), dims=\"a\")\n",
    "b = np.arange(10) << units.m"
   ]
  },
  {
   "cell_type": "code",
   "execution_count": 4,
   "id": "173105c5-8441-417b-80ce-85e2e7385099",
   "metadata": {},
   "outputs": [
    {
     "name": "stdout",
     "output_type": "stream",
     "text": [
      "---------------------------------- xarray first\n",
      "xarray's _binary_op invoked\n",
      "xarray's _binary_op is invoking <built-in function mul> on <class 'xarray.core.variable.Variable'> and <class 'astropy.units.quantity.Quantity'>\n",
      "astropy quantity __mul__ will now invoke <method-wrapper '__mul__' of Quantity object at 0x7f468b91d540> on <class 'numpy.ndarray'>\n",
      "Astropy's __array_ufunc__ got a look in\n",
      "At [<class 'astropy.units.quantity.Quantity'>, <class 'numpy.ndarray'>]\n",
      "Converters are [None, None]\n",
      "Astropy's __array_ufunc__ is dispatching <ufunc 'multiply'>\n",
      "On [<class 'numpy.ndarray'>, <class 'numpy.ndarray'>]\n",
      "xarray's _binary_op completed\n",
      "<class 'xarray.core.dataarray.DataArray'>\n",
      "---------------------------------- astropy first\n",
      "astropy quantity __mul__ will now invoke <method-wrapper '__mul__' of Quantity object at 0x7f468b91d540> on <class 'xarray.core.dataarray.DataArray'>\n",
      "Astropy's __array_ufunc__ got a look in\n",
      "At [<class 'astropy.units.quantity.Quantity'>, <class 'xarray.core.dataarray.DataArray'>]\n",
      "Converters are [None, None]\n",
      "Astropy's __array_ufunc__ is dispatching <ufunc 'multiply'>\n",
      "On [<class 'numpy.ndarray'>, <class 'xarray.core.dataarray.DataArray'>]\n",
      "xarray's ufunc got a look in\n"
     ]
    },
    {
     "ename": "NotImplementedError",
     "evalue": "",
     "output_type": "error",
     "traceback": [
      "\u001b[0;31m---------------------------------------------------------------------------\u001b[0m",
      "\u001b[0;31mNotImplementedError\u001b[0m                       Traceback (most recent call last)",
      "Input \u001b[0;32mIn [4]\u001b[0m, in \u001b[0;36m<cell line: 4>\u001b[0;34m()\u001b[0m\n\u001b[1;32m      2\u001b[0m \u001b[38;5;28mprint\u001b[39m(\u001b[38;5;28mtype\u001b[39m(a \u001b[38;5;241m*\u001b[39m b))\n\u001b[1;32m      3\u001b[0m \u001b[38;5;28mprint\u001b[39m(\u001b[38;5;124m\"\u001b[39m\u001b[38;5;124m---------------------------------- astropy first\u001b[39m\u001b[38;5;124m\"\u001b[39m)\n\u001b[0;32m----> 4\u001b[0m \u001b[38;5;28mprint\u001b[39m(\u001b[38;5;28mtype\u001b[39m(\u001b[43mb\u001b[49m\u001b[43m \u001b[49m\u001b[38;5;241;43m*\u001b[39;49m\u001b[43m \u001b[49m\u001b[43ma\u001b[49m))\n",
      "File \u001b[0;32m~/package-clones/astropy/astropy/units/quantity.py:1126\u001b[0m, in \u001b[0;36mQuantity.__mul__\u001b[0;34m(self, other)\u001b[0m\n\u001b[1;32m   1124\u001b[0m         \u001b[38;5;28;01mreturn\u001b[39;00m \u001b[38;5;28mNotImplemented\u001b[39m\n\u001b[1;32m   1125\u001b[0m \u001b[38;5;28mprint\u001b[39m(\u001b[38;5;124mf\u001b[39m\u001b[38;5;124m\"\u001b[39m\u001b[38;5;124mastropy quantity __mul__ will now invoke \u001b[39m\u001b[38;5;132;01m{\u001b[39;00m\u001b[38;5;28msuper\u001b[39m()\u001b[38;5;241m.\u001b[39m\u001b[38;5;21m__mul__\u001b[39m\u001b[38;5;132;01m}\u001b[39;00m\u001b[38;5;124m on \u001b[39m\u001b[38;5;132;01m{\u001b[39;00m\u001b[38;5;28mtype\u001b[39m(other)\u001b[38;5;132;01m}\u001b[39;00m\u001b[38;5;124m\"\u001b[39m)\n\u001b[0;32m-> 1126\u001b[0m \u001b[38;5;28;01mreturn\u001b[39;00m \u001b[38;5;28;43msuper\u001b[39;49m\u001b[43m(\u001b[49m\u001b[43m)\u001b[49m\u001b[38;5;241;43m.\u001b[39;49m\u001b[38;5;21;43m__mul__\u001b[39;49m\u001b[43m(\u001b[49m\u001b[43mother\u001b[49m\u001b[43m)\u001b[49m\n",
      "File \u001b[0;32m~/package-clones/xarray/xarray/core/arithmetic.py:45\u001b[0m, in \u001b[0;36mSupportsArithmetic.__array_ufunc__\u001b[0;34m(self, ufunc, method, *inputs, **kwargs)\u001b[0m\n\u001b[1;32m     43\u001b[0m \u001b[38;5;28;01mfrom\u001b[39;00m \u001b[38;5;21;01m.\u001b[39;00m\u001b[38;5;21;01mcomputation\u001b[39;00m \u001b[38;5;28;01mimport\u001b[39;00m apply_ufunc\n\u001b[1;32m     44\u001b[0m \u001b[38;5;28mprint\u001b[39m(\u001b[38;5;124m\"\u001b[39m\u001b[38;5;124mxarray\u001b[39m\u001b[38;5;124m'\u001b[39m\u001b[38;5;124ms ufunc got a look in\u001b[39m\u001b[38;5;124m\"\u001b[39m)\n\u001b[0;32m---> 45\u001b[0m \u001b[38;5;28;01mraise\u001b[39;00m \u001b[38;5;167;01mNotImplementedError\u001b[39;00m\n\u001b[1;32m     46\u001b[0m \u001b[38;5;66;03m# See the docstring example for numpy.lib.mixins.NDArrayOperatorsMixin.\u001b[39;00m\n\u001b[1;32m     47\u001b[0m out \u001b[38;5;241m=\u001b[39m kwargs\u001b[38;5;241m.\u001b[39mget(\u001b[38;5;124m\"\u001b[39m\u001b[38;5;124mout\u001b[39m\u001b[38;5;124m\"\u001b[39m, ())\n",
      "\u001b[0;31mNotImplementedError\u001b[0m: "
     ]
    }
   ],
   "source": [
    "print(\"---------------------------------- xarray first\")\n",
    "print(type(a * b))\n",
    "print(\"---------------------------------- astropy first\")\n",
    "print(type(b * a))"
   ]
  },
  {
   "cell_type": "code",
   "execution_count": null,
   "id": "ddb367ae-96a3-4d73-9dd9-a54cf5b4b83b",
   "metadata": {},
   "outputs": [],
   "source": [
    "?a.__array_ufunc__"
   ]
  },
  {
   "cell_type": "code",
   "execution_count": null,
   "id": "7ad03c3d-5b28-46e5-8729-bf0836e56fe6",
   "metadata": {},
   "outputs": [],
   "source": []
  },
  {
   "cell_type": "code",
   "execution_count": null,
   "id": "c7c91c37-3810-4a9e-9fca-5d20b2297131",
   "metadata": {},
   "outputs": [],
   "source": []
  }
 ],
 "metadata": {
  "kernelspec": {
   "display_name": "probe_xarray_oct2022",
   "language": "python",
   "name": "probe_xarray_oct2022"
  },
  "language_info": {
   "codemirror_mode": {
    "name": "ipython",
    "version": 3
   },
   "file_extension": ".py",
   "mimetype": "text/x-python",
   "name": "python",
   "nbconvert_exporter": "python",
   "pygments_lexer": "ipython3",
   "version": "3.10.4"
  }
 },
 "nbformat": 4,
 "nbformat_minor": 5
}
