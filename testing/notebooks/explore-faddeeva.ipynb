{
 "cells": [
  {
   "cell_type": "code",
   "execution_count": null,
   "metadata": {},
   "outputs": [],
   "source": [
    "%config InlineBackend.figure_format = 'retina'\n",
    "%load_ext autoreload"
   ]
  },
  {
   "cell_type": "code",
   "execution_count": null,
   "metadata": {},
   "outputs": [],
   "source": [
    "import numpy as np\n",
    "import scipy.special as sps\n",
    "import scipy.constants as const\n",
    "import matplotlib.pyplot as plt\n",
    "import math"
   ]
  },
  {
   "cell_type": "code",
   "execution_count": null,
   "metadata": {},
   "outputs": [],
   "source": [
    "plt.style.use(\"bmh\")\n",
    "plt.rcParams.update({\n",
    "    'font.size': 12,\n",
    "    'figure.figsize': (8,6),\n",
    "    'xtick.minor.visible': True,\n",
    "    'ytick.minor.visible': True})"
   ]
  },
  {
   "cell_type": "code",
   "execution_count": null,
   "metadata": {},
   "outputs": [],
   "source": [
    "%autoreload 2"
   ]
  },
  {
   "cell_type": "code",
   "execution_count": null,
   "metadata": {},
   "outputs": [],
   "source": [
    "import madart.dualpy as dp"
   ]
  },
  {
   "cell_type": "code",
   "execution_count": null,
   "metadata": {},
   "outputs": [],
   "source": [
    "xv = np.linspace(start=-100, stop=100, num=1000)\n",
    "dx = xv[1]-xv[0]\n",
    "x = dp.seed(xv, name='x')"
   ]
  },
  {
   "cell_type": "code",
   "execution_count": null,
   "metadata": {},
   "outputs": [],
   "source": [
    "sigma = [ 1.53, 1.30, 0.01, 1.00 ]\n",
    "gamma = [ 0.00, 0.50, 1.80, 1.00 ]\n",
    "yAll = dict()"
   ]
  },
  {
   "cell_type": "code",
   "execution_count": null,
   "metadata": {},
   "outputs": [],
   "source": [
    "yVP = list()\n",
    "for s, g in zip(sigma, gamma):\n",
    "    s = dp.seed(s,\"s\")\n",
    "    g = dp.seed(g,\"g\")\n",
    "    label = f\"$\\sigma$={s:.2f}; $\\gamma$={g:.2f}\"\n",
    "    y = sps.voigt_profile(x, s, g)\n",
    "    area = np.sum(np.asarray(y)*dx)\n",
    "    print (area)\n",
    "    yVP += [y]\n",
    "    plt.plot(x, y, label=label)\n",
    "plt.legend()\n",
    "plt.show()"
   ]
  },
  {
   "cell_type": "code",
   "execution_count": null,
   "metadata": {},
   "outputs": [],
   "source": [
    "for s, g, y in zip(sigma, gamma, yVP):\n",
    "    label = f\"$\\sigma$={s:.2f}; $\\gamma$={g:.2f}\"\n",
    "    plt.plot(xv, y.jacobians['x'].diagonal(), label=label)\n",
    "plt.legend()\n",
    "plt.show()"
   ]
  },
  {
   "cell_type": "code",
   "execution_count": null,
   "metadata": {},
   "outputs": [],
   "source": [
    "for s, g, y in zip(sigma, gamma, yVP):\n",
    "    label = f\"$\\sigma$={s:.2f}; $\\gamma$={g:.2f}\"\n",
    "    plt.plot(xv, y.jacobians['s'].todense(), label=label)\n",
    "plt.legend()\n",
    "plt.show()"
   ]
  },
  {
   "cell_type": "code",
   "execution_count": null,
   "metadata": {},
   "outputs": [],
   "source": []
  },
  {
   "cell_type": "code",
   "execution_count": null,
   "metadata": {},
   "outputs": [],
   "source": []
  }
 ],
 "metadata": {
  "kernelspec": {
   "display_name": "Python 3",
   "language": "python",
   "name": "python3"
  },
  "language_info": {
   "codemirror_mode": {
    "name": "ipython",
    "version": 3
   },
   "file_extension": ".py",
   "mimetype": "text/x-python",
   "name": "python",
   "nbconvert_exporter": "python",
   "pygments_lexer": "ipython3",
   "version": "3.6.7"
  }
 },
 "nbformat": 4,
 "nbformat_minor": 4
}
