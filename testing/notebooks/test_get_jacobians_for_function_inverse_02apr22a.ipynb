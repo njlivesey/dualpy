{
 "cells": [
  {
   "cell_type": "code",
   "execution_count": 1,
   "id": "65c1515b-22b0-4712-8c07-5c1f54c3ed5c",
   "metadata": {},
   "outputs": [],
   "source": [
    "%matplotlib inline\n",
    "%config InlineBackend.figure_format = \"retina\"\n",
    "%load_ext autoreload\n",
    "%load_ext lab_black\n",
    "#\n",
    "import numpy as np\n",
    "import matplotlib\n",
    "import matplotlib.pyplot as plt\n",
    "import astropy.units as units\n",
    "import pickle\n",
    "import copy\n",
    "\n",
    "#\n",
    "plt.style.use(\"mls_scf\")"
   ]
  },
  {
   "cell_type": "code",
   "execution_count": 2,
   "id": "79b11eaf-4f7e-4905-b451-f1b6024746f9",
   "metadata": {},
   "outputs": [],
   "source": [
    "%autoreload 2\n",
    "import dualpy as dp"
   ]
  },
  {
   "cell_type": "code",
   "execution_count": 3,
   "id": "15105d3e-fa47-4cb1-90c7-afa5b8210945",
   "metadata": {},
   "outputs": [],
   "source": [
    "x = np.linspace(1.0, 10.0, 10) << units.dimensionless_unscaled\n",
    "x = dp.seed(x, \"x\")"
   ]
  },
  {
   "cell_type": "code",
   "execution_count": 4,
   "id": "6e4ffab3-c39b-442b-bfd0-7b896a6402d1",
   "metadata": {},
   "outputs": [],
   "source": [
    "y_solution = x**2\n",
    "y_target = dp.seed(copy.deepcopy(y_solution), \"y\", force=True, reset=True)"
   ]
  },
  {
   "cell_type": "code",
   "execution_count": 5,
   "id": "0bb38532-3a71-4af0-8a31-23bc462db1a1",
   "metadata": {},
   "outputs": [
    {
     "name": "stdout",
     "output_type": "stream",
     "text": [
      "{'x': Jacobian of type <class 'dualpy.diagonal_jacobians.DiagonalJacobian'>\n",
      "Dependent shape is (10,) <10>\n",
      "Independent shape is (10,) <10>\n",
      "Combined they are (10, 10) <100>\n",
      "Dummies are (1,) and (1,)\n",
      "Units are d<>/d<> = <>\n",
      "data is (10,)}\n",
      "{'y': Jacobian of type <class 'dualpy.diagonal_jacobians.SeedJacobian'>\n",
      "Dependent shape is (10,) <10>\n",
      "Independent shape is (10,) <10>\n",
      "Combined they are (10, 10) <100>\n",
      "Dummies are (1,) and (1,)\n",
      "Units are d<>/d<> = <>\n",
      "data is (10,)}\n"
     ]
    }
   ],
   "source": [
    "print(y_solution.jacobians)\n",
    "print(y_target.jacobians)"
   ]
  },
  {
   "cell_type": "code",
   "execution_count": 6,
   "id": "2112a78d-35a8-4617-85bb-138887b063fe",
   "metadata": {},
   "outputs": [],
   "source": [
    "j = dp.get_jacobians_for_function_inverse(y_target, y_solution, \"x\")"
   ]
  },
  {
   "cell_type": "code",
   "execution_count": 8,
   "id": "43f41461-158e-4361-bff5-6ab31cba7872",
   "metadata": {},
   "outputs": [],
   "source": [
    "jx = np.diag(j[\"y\"].todensearray())\n",
    "jy = np.diag(y_solution.jacobians[\"x\"].todensearray())"
   ]
  },
  {
   "cell_type": "code",
   "execution_count": 9,
   "id": "cd8308e1-64fb-4c22-b8b5-7ed85765a9ee",
   "metadata": {},
   "outputs": [
    {
     "name": "stdout",
     "output_type": "stream",
     "text": [
      "[0.5        0.25       0.16666667 0.125      0.1        0.08333333\n",
      " 0.07142857 0.0625     0.05555556 0.05      ]\n"
     ]
    }
   ],
   "source": [
    "print(jx)"
   ]
  },
  {
   "cell_type": "code",
   "execution_count": 10,
   "id": "0b49e6e1-2f95-4852-ba42-821899d44c1f",
   "metadata": {},
   "outputs": [
    {
     "name": "stdout",
     "output_type": "stream",
     "text": [
      "[ 2.  4.  6.  8. 10. 12. 14. 16. 18. 20.]\n"
     ]
    }
   ],
   "source": [
    "print(jy)"
   ]
  },
  {
   "cell_type": "code",
   "execution_count": null,
   "id": "0e8d181d-2667-4795-8cef-c2abffb79c11",
   "metadata": {},
   "outputs": [],
   "source": []
  }
 ],
 "metadata": {
  "kernelspec": {
   "display_name": "njl-base-3.9",
   "language": "python",
   "name": "njl-base-3.9"
  },
  "language_info": {
   "codemirror_mode": {
    "name": "ipython",
    "version": 3
   },
   "file_extension": ".py",
   "mimetype": "text/x-python",
   "name": "python",
   "nbconvert_exporter": "python",
   "pygments_lexer": "ipython3",
   "version": "3.9.9"
  }
 },
 "nbformat": 4,
 "nbformat_minor": 5
}
