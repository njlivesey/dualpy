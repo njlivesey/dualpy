{
 "cells": [
  {
   "cell_type": "code",
   "execution_count": 1,
   "id": "007fabf4-e512-4d1f-aa3b-60422abaf301",
   "metadata": {},
   "outputs": [],
   "source": [
    "%matplotlib inline\n",
    "%config InlineBackend.figure_format = \"retina\"\n",
    "%load_ext autoreload\n",
    "#\n",
    "import numpy as np\n",
    "import matplotlib\n",
    "import matplotlib.pyplot as plt\n",
    "import astropy.units as units\n",
    "import pickle\n",
    "#\n",
    "plt.style.use(\"mls_scf\")"
   ]
  },
  {
   "cell_type": "code",
   "execution_count": 2,
   "id": "dd5e96d5-07e0-4e8c-8742-c913066393e3",
   "metadata": {},
   "outputs": [],
   "source": [
    "%autoreload 2\n",
    "import dualpy as dp\n",
    "import madart.coordinates as coordinates\n",
    "from madart.planets import earth"
   ]
  },
  {
   "cell_type": "code",
   "execution_count": 3,
   "id": "9c3ba48f-21a3-46f6-9dc0-a0a47ccbaebf",
   "metadata": {},
   "outputs": [],
   "source": [
    "class my_result:\n",
    "    def __init__(self, p):\n",
    "        self.contents = [[p]]\n",
    "    def _numeric_jacobian_support(self, **kwargs):\n",
    "        \"\"\"Wraps dualpy.generic_numeric_jacobian_support, see documentation\"\"\"\n",
    "        from dualpy import generic_numeric_jacobian_support\n",
    "        generic_numeric_jacobian_support(self, **kwargs)\n",
    "\n",
    "def my_function(lat):\n",
    "    p = coordinates.LatLonHeight(lat, 45.0*units.deg, 10.0*units.km, planet=earth)\n",
    "    # return p.to_cartesian()\n",
    "    return my_result(p.to_cartesian())"
   ]
  },
  {
   "cell_type": "code",
   "execution_count": 4,
   "id": "bc84fb36-815b-4905-b439-f0135324e27f",
   "metadata": {},
   "outputs": [],
   "source": [
    "lat = 45.0*units.deg\n",
    "lat = dp.seed(lat, \"lat\")"
   ]
  },
  {
   "cell_type": "code",
   "execution_count": 5,
   "id": "3af28161-d4a9-4d1c-929d-007dcf49d5e4",
   "metadata": {},
   "outputs": [],
   "source": [
    "p = my_function(lat)\n",
    "test = dp.delete_jacobians(p)"
   ]
  },
  {
   "cell_type": "code",
   "execution_count": 6,
   "id": "9598992f-6ae2-4bb7-b06c-7a127a4e4b73",
   "metadata": {},
   "outputs": [
    {
     "data": {
      "text/plain": [
       "{'lat': Jacobian of type <class 'dualpy.diagonal_jacobians.DiagonalJacobian'>\n",
       " Dependent shape is () <1>\n",
       " Independent shape is () <1>\n",
       " Combined they are () <1>\n",
       " Dummies are () and ()\n",
       " Units are d<m>/d<deg> = <57.2958 m / rad>\n",
       " data is ()}"
      ]
     },
     "execution_count": 6,
     "metadata": {},
     "output_type": "execute_result"
    }
   ],
   "source": [
    "# p.contents.x.jacobians\n",
    "p.contents[0][0].x.jacobians"
   ]
  },
  {
   "cell_type": "code",
   "execution_count": 7,
   "id": "b40b573a-afca-40d8-87e5-c33adcbb9f7a",
   "metadata": {},
   "outputs": [
    {
     "name": "stdout",
     "output_type": "stream",
     "text": [
      "{'lat': Jacobian of type <class 'dualpy.diagonal_jacobians.SeedJacobian'>\n",
      "Dependent shape is () <1>\n",
      "Independent shape is () <1>\n",
      "Combined they are () <1>\n",
      "Dummies are () and ()\n",
      "Units are d<deg>/d<deg> = <>\n",
      "data is ()}\n"
     ]
    }
   ],
   "source": [
    "print(lat.jacobians)"
   ]
  },
  {
   "cell_type": "code",
   "execution_count": 8,
   "id": "af9f7dc2-0842-4c76-bf6f-60e94f38b993",
   "metadata": {},
   "outputs": [],
   "source": [
    "r_ana, r_num = dp.compute_numeric_jacobians(my_function, args=(lat,))"
   ]
  },
  {
   "cell_type": "code",
   "execution_count": 9,
   "id": "ff11ca55-23dc-44ed-bdc9-3fc2158412d4",
   "metadata": {},
   "outputs": [
    {
     "data": {
      "text/plain": [
       "{'lat': Jacobian of type <class 'dualpy.dense_jacobians.DenseJacobian'>\n",
       " Dependent shape is () <1>\n",
       " Independent shape is () <1>\n",
       " Combined they are () <1>\n",
       " Dummies are () and ()\n",
       " Units are d<m>/d<deg> = <57.2958 m / rad>\n",
       " data is ()\n",
       " data2d is (1, 1)}"
      ]
     },
     "execution_count": 9,
     "metadata": {},
     "output_type": "execute_result"
    }
   ],
   "source": [
    "r_num.contents[0][0].x.jacobians"
   ]
  },
  {
   "cell_type": "code",
   "execution_count": 10,
   "id": "724c38c9-a2ae-4c02-9b50-57954b1d1d68",
   "metadata": {},
   "outputs": [
    {
     "name": "stdout",
     "output_type": "stream",
     "text": [
      "-55653.155169686725 m / deg\n",
      "-55660.77619833678 m / deg\n"
     ]
    }
   ],
   "source": [
    "print(r_ana.contents[0][0].y.jacobians[\"lat\"].todensearray())\n",
    "print(r_num.contents[0][0].y.jacobians[\"lat\"].todensearray())"
   ]
  },
  {
   "cell_type": "code",
   "execution_count": 11,
   "id": "87dd38a1-4df6-4ac6-bac3-845f246d06ab",
   "metadata": {},
   "outputs": [
    {
     "data": {
      "text/plain": [
       "[]"
      ]
     },
     "execution_count": 11,
     "metadata": {},
     "output_type": "execute_result"
    }
   ],
   "source": [
    "x=[0]\n",
    "x[1:]"
   ]
  },
  {
   "cell_type": "code",
   "execution_count": null,
   "id": "9512e068-486b-44f4-aef0-941e5c36e4e0",
   "metadata": {},
   "outputs": [],
   "source": []
  },
  {
   "cell_type": "code",
   "execution_count": null,
   "id": "8c90e1fd-fb51-40e6-b1b5-ddf857a8df43",
   "metadata": {},
   "outputs": [],
   "source": []
  }
 ],
 "metadata": {
  "kernelspec": {
   "display_name": "njl-base-3.9",
   "language": "python",
   "name": "njl-base-3.9"
  },
  "language_info": {
   "codemirror_mode": {
    "name": "ipython",
    "version": 3
   },
   "file_extension": ".py",
   "mimetype": "text/x-python",
   "name": "python",
   "nbconvert_exporter": "python",
   "pygments_lexer": "ipython3",
   "version": "3.9.9"
  }
 },
 "nbformat": 4,
 "nbformat_minor": 5
}
