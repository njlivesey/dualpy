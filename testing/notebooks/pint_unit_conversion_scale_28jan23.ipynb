{
 "cells": [
  {
   "cell_type": "code",
   "execution_count": null,
   "id": "ab91c548-10b3-4409-9781-058652077ddc",
   "metadata": {},
   "outputs": [],
   "source": [
    "# fmt: off\n",
    "%matplotlib inline\n",
    "%config InlineBackend.figure_format = \"retina\"\n",
    "%load_ext autoreload\n",
    "%load_ext lab_black\n",
    "import numpy as np\n",
    "import matplotlib\n",
    "import matplotlib.pyplot as plt\n",
    "import pickle\n",
    "from mls_scf_tools.mls_pint import ureg\n",
    "plt.style.use(\"mls_scf\")\n",
    "def vdir(obj):\n",
    "    return [x for x in dir(obj) if not x.startswith('__')]\n",
    "# fmt: on"
   ]
  },
  {
   "cell_type": "code",
   "execution_count": null,
   "id": "ead1b467-ab1f-4538-8e21-14f5f2392200",
   "metadata": {},
   "outputs": [],
   "source": [
    "%autoreload"
   ]
  },
  {
   "cell_type": "code",
   "execution_count": null,
   "id": "e8a432c9-e658-495e-aeda-4e8da6b77743",
   "metadata": {},
   "outputs": [],
   "source": [
    "from dualpy.dual_helpers import get_unit_conversion_scale"
   ]
  },
  {
   "cell_type": "code",
   "execution_count": null,
   "id": "23142fba-9bbe-4b4d-b7a9-f593c4b9ea29",
   "metadata": {},
   "outputs": [],
   "source": [
    "old_unit = ureg.s\n",
    "new_unit = ureg.min"
   ]
  },
  {
   "cell_type": "code",
   "execution_count": null,
   "id": "1bbb3615-d223-4b9d-8b1d-84afc209b777",
   "metadata": {},
   "outputs": [],
   "source": [
    "scale = get_unit_conversion_scale(old_unit, new_unit)"
   ]
  },
  {
   "cell_type": "code",
   "execution_count": null,
   "id": "1f1dd4be-e3d2-43f8-8b24-554560bf0cc0",
   "metadata": {},
   "outputs": [],
   "source": [
    "print(type(scale))\n",
    "print(scale)"
   ]
  },
  {
   "cell_type": "code",
   "execution_count": null,
   "id": "07f7fca4-92d1-4327-838e-bebf0740667d",
   "metadata": {},
   "outputs": [],
   "source": [
    "f = new_unit.from_(old_unit)\n",
    "print(type(f))\n",
    "print(f)"
   ]
  },
  {
   "cell_type": "code",
   "execution_count": null,
   "id": "caf154e2-3985-40be-9b12-413b7755e428",
   "metadata": {},
   "outputs": [],
   "source": [
    "help(new_unit)"
   ]
  },
  {
   "cell_type": "code",
   "execution_count": null,
   "id": "b74ed960-fbd7-4ba4-a052-6ff6b488571a",
   "metadata": {},
   "outputs": [],
   "source": []
  }
 ],
 "metadata": {
  "kernelspec": {
   "display_name": "njl-base-3.10-02dec22",
   "language": "python",
   "name": "njl-base-3.10-02dec22"
  },
  "language_info": {
   "codemirror_mode": {
    "name": "ipython",
    "version": 3
   },
   "file_extension": ".py",
   "mimetype": "text/x-python",
   "name": "python",
   "nbconvert_exporter": "python",
   "pygments_lexer": "ipython3",
   "version": "3.10.12"
  }
 },
 "nbformat": 4,
 "nbformat_minor": 5
}
