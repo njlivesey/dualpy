{
 "cells": [
  {
   "cell_type": "code",
   "execution_count": null,
   "id": "09429891-c783-452e-aa04-4bc59b8e5217",
   "metadata": {},
   "outputs": [],
   "source": [
    "%matplotlib inline\n",
    "%config InlineBackend.figure_format = 'retina'\n",
    "%load_ext autoreload\n",
    "import numpy as np\n",
    "import scipy.interpolate as interpolate\n",
    "import matplotlib.pyplot as plt\n",
    "from scipy.constants import pi\n",
    "import astropy.units as units\n",
    "from astropy.visualization import quantity_support\n",
    "quantity_support()  "
   ]
  },
  {
   "cell_type": "code",
   "execution_count": null,
   "id": "6750b688-ff2f-41e2-a319-69f4d7a92aaa",
   "metadata": {},
   "outputs": [],
   "source": [
    "%autoreload 2\n",
    "import madart.dualpy as dp"
   ]
  },
  {
   "cell_type": "code",
   "execution_count": null,
   "id": "90908820-ed2f-46ab-941b-336af40046d2",
   "metadata": {},
   "outputs": [],
   "source": [
    "x = np.linspace(0,100,101) << units.dimensionless_unscaled\n",
    "a = 1.0 * units.dimensionless_unscaled\n",
    "a = dp.seed(a, \"a\")\n",
    "y = np.exp(a*np.sqrt(x)) * x ** 2"
   ]
  },
  {
   "cell_type": "code",
   "execution_count": null,
   "id": "583b87c5-18e6-4075-82f0-609007b252d2",
   "metadata": {},
   "outputs": [],
   "source": [
    "spl = dp.CubicSpline(x, y, extrapolate=True)"
   ]
  },
  {
   "cell_type": "code",
   "execution_count": null,
   "id": "0004b1f3-3ab8-45d3-87d0-bead04fee73f",
   "metadata": {},
   "outputs": [],
   "source": [
    "delta_x = x[1] - x[0]\n",
    "x_new = (x + 0.5*delta_x)[::4]\n",
    "x_new = dp.seed(x_new, \"x_new\")"
   ]
  },
  {
   "cell_type": "code",
   "execution_count": null,
   "id": "3a766012-db0d-4cac-a0c9-454699f137b7",
   "metadata": {},
   "outputs": [],
   "source": [
    "y_new = spl(x_new)"
   ]
  },
  {
   "cell_type": "code",
   "execution_count": null,
   "id": "569a13c6-d812-4b66-93ec-61832c7ab09e",
   "metadata": {},
   "outputs": [],
   "source": [
    "plt.plot(x, y)\n",
    "plt.plot(x_new, y_new,'.')\n",
    "plt.show()"
   ]
  },
  {
   "cell_type": "code",
   "execution_count": null,
   "id": "f3d4fd44-cbd8-4a33-bf45-17d548596c49",
   "metadata": {},
   "outputs": [],
   "source": [
    "j_a = y_new.jacobians[\"a\"].todensearray()\n",
    "j_x = y_new.jacobians[\"x_new\"].extract_diagonal()"
   ]
  },
  {
   "cell_type": "code",
   "execution_count": null,
   "id": "d77a32cd-b64b-4225-ab19-f066479772d2",
   "metadata": {},
   "outputs": [],
   "source": [
    "print(j_a-y_new)"
   ]
  },
  {
   "cell_type": "code",
   "execution_count": null,
   "id": "1b38c69c-b004-41d6-9659-f0afe2579112",
   "metadata": {},
   "outputs": [],
   "source": [
    "j_test = np.sqrt(x_new)*y_new"
   ]
  },
  {
   "cell_type": "code",
   "execution_count": null,
   "id": "786a075f-4f09-48cb-95d8-b77c0a82d262",
   "metadata": {},
   "outputs": [],
   "source": [
    "plt.plot(j_a)\n",
    "plt.plot(j_test, '.')\n",
    "plt.semilogy()\n",
    "plt.show()"
   ]
  },
  {
   "cell_type": "code",
   "execution_count": null,
   "id": "866b8177-30e5-47d2-8080-a49d1d51b8ed",
   "metadata": {},
   "outputs": [],
   "source": []
  }
 ],
 "metadata": {
  "kernelspec": {
   "display_name": "njl-base-3.9",
   "language": "python",
   "name": "njl-base-3.9"
  },
  "language_info": {
   "codemirror_mode": {
    "name": "ipython",
    "version": 3
   },
   "file_extension": ".py",
   "mimetype": "text/x-python",
   "name": "python",
   "nbconvert_exporter": "python",
   "pygments_lexer": "ipython3",
   "version": "3.9.5"
  }
 },
 "nbformat": 4,
 "nbformat_minor": 5
}
