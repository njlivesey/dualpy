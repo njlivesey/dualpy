{
 "cells": [
  {
   "cell_type": "code",
   "execution_count": null,
   "id": "e8cb9fca-5e7b-43a3-84ac-6414c9864229",
   "metadata": {},
   "outputs": [],
   "source": [
    "%matplotlib inline\n",
    "%config InlineBackend.figure_format = 'retina'\n",
    "%load_ext autoreload\n",
    "import numpy as np\n",
    "import matplotlib.pyplot as plt\n",
    "import astropy.units as units"
   ]
  },
  {
   "cell_type": "code",
   "execution_count": null,
   "id": "9bdd26e5-14b5-4d8f-bcaa-003e8c69b62e",
   "metadata": {},
   "outputs": [],
   "source": [
    "plt.style.use(\"bmh\")\n",
    "plt.rcParams.update({\n",
    "    'font.size': 12,\n",
    "    'figure.figsize': (8,6),\n",
    "    'xtick.minor.visible': True,\n",
    "    'ytick.minor.visible': True})"
   ]
  },
  {
   "cell_type": "code",
   "execution_count": null,
   "id": "00aaab5d-96d5-4073-9764-03e82c07f81e",
   "metadata": {},
   "outputs": [],
   "source": [
    "%autoreload 2\n",
    "import madart.dualpy as dp"
   ]
  },
  {
   "cell_type": "code",
   "execution_count": null,
   "id": "31d46acd-faf7-4c93-b41b-0b4e232089cb",
   "metadata": {},
   "outputs": [],
   "source": [
    "# x = np.arange(100).reshape([10,10]) * units.s\n",
    "x = np.arange(10) * units.s\n",
    "x = dp._seed_sparse(x,\"x\")\n",
    "y = 1000.0*x"
   ]
  },
  {
   "cell_type": "code",
   "execution_count": null,
   "id": "f7a7a9af-cd76-4272-bdd8-cb1a6d6296d3",
   "metadata": {},
   "outputs": [],
   "source": [
    "w = x[0:1]\n",
    "y = np.append(x, w, axis=0)"
   ]
  },
  {
   "cell_type": "code",
   "execution_count": null,
   "id": "a67f2ec1-c4bf-490a-9b16-f6803b06d055",
   "metadata": {},
   "outputs": [],
   "source": [
    "print(y.jacobians[\"x\"].todensearray())"
   ]
  },
  {
   "cell_type": "code",
   "execution_count": null,
   "id": "fdc285d6-d7bb-4e29-97f8-af20508e645e",
   "metadata": {},
   "outputs": [],
   "source": [
    "a=np.zeros(shape=[10,1])\n",
    "b=np.zeros(shape=[20])\n",
    "print((a+b).shape)"
   ]
  },
  {
   "cell_type": "code",
   "execution_count": null,
   "id": "6abd2ab6-4507-41da-ad3d-d99b7324ceb3",
   "metadata": {},
   "outputs": [],
   "source": []
  }
 ],
 "metadata": {
  "kernelspec": {
   "display_name": "njl-base-3.9",
   "language": "python",
   "name": "njl-base-3.9"
  },
  "language_info": {
   "codemirror_mode": {
    "name": "ipython",
    "version": 3
   },
   "file_extension": ".py",
   "mimetype": "text/x-python",
   "name": "python",
   "nbconvert_exporter": "python",
   "pygments_lexer": "ipython3",
   "version": "3.9.5"
  }
 },
 "nbformat": 4,
 "nbformat_minor": 5
}
