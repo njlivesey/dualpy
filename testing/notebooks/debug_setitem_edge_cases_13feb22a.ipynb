{
 "cells": [
  {
   "cell_type": "code",
   "execution_count": 1,
   "id": "f4fced74-7659-4066-be64-4c584fc71907",
   "metadata": {},
   "outputs": [],
   "source": [
    "%matplotlib inline\n",
    "%config InlineBackend.figure_format = \"retina\"\n",
    "%load_ext autoreload\n",
    "#\n",
    "import numpy as np\n",
    "import matplotlib\n",
    "import matplotlib.pyplot as plt\n",
    "import astropy.units as units\n",
    "import pickle\n",
    "#\n",
    "plt.style.use(\"mls_scf\")"
   ]
  },
  {
   "cell_type": "code",
   "execution_count": 2,
   "id": "56b921f8-23dd-48a2-a072-6cabbd45f65f",
   "metadata": {},
   "outputs": [],
   "source": [
    "%autoreload 2\n",
    "import dualpy as dp"
   ]
  },
  {
   "cell_type": "code",
   "execution_count": 25,
   "id": "455cf4f8-f659-4df8-b48b-4afeed478acf",
   "metadata": {},
   "outputs": [
    {
     "name": "stdout",
     "output_type": "stream",
     "text": [
      "1.0 m () 1 0\n",
      "() <class 'tuple'>\n",
      "DEBUG getitem:  1.0 m <class 'dualpy.duals.dlarray'> () 1 0\n",
      "1.1 m\n"
     ]
    }
   ],
   "source": [
    "x = dp.dlarray(1.0*units.m)\n",
    "# x = dp.dlarray(np.arange(4)*units.m)\n",
    "# x = 1.0*units.m\n",
    "print(x, x.shape, x.size, x.ndim)\n",
    "ii = tuple()\n",
    "print(ii, type(ii))\n",
    "# x[ii] = x[ii] + 0.1*units.m\n",
    "x[ii] += 0.1*units.m\n",
    "print(x)"
   ]
  },
  {
   "cell_type": "code",
   "execution_count": 18,
   "id": "b4ff363b-50d0-4807-9432-35d78c4a16f2",
   "metadata": {},
   "outputs": [
    {
     "name": "stdout",
     "output_type": "stream",
     "text": [
      "[0. 1. 2. 3. 4. 5. 6. 7. 8. 9.] s\n"
     ]
    }
   ],
   "source": [
    "t = np.arange(10)*units.s\n",
    "print(t)"
   ]
  },
  {
   "cell_type": "code",
   "execution_count": 19,
   "id": "0e269fca-512a-443a-91fb-0dede11dab94",
   "metadata": {},
   "outputs": [],
   "source": [
    "t.value[4] = 100"
   ]
  },
  {
   "cell_type": "code",
   "execution_count": 21,
   "id": "e90d9c88-f3cd-453e-9c2b-585ff6806d07",
   "metadata": {},
   "outputs": [
    {
     "name": "stdout",
     "output_type": "stream",
     "text": [
      "[  0.   1.   2.   3. 100.   5.   6.   7.   8.   9.] s\n"
     ]
    }
   ],
   "source": []
  },
  {
   "cell_type": "code",
   "execution_count": null,
   "id": "6c31a977-98c4-456c-a29e-73ece9d84933",
   "metadata": {},
   "outputs": [],
   "source": []
  }
 ],
 "metadata": {
  "kernelspec": {
   "display_name": "njl-base-3.9",
   "language": "python",
   "name": "njl-base-3.9"
  },
  "language_info": {
   "codemirror_mode": {
    "name": "ipython",
    "version": 3
   },
   "file_extension": ".py",
   "mimetype": "text/x-python",
   "name": "python",
   "nbconvert_exporter": "python",
   "pygments_lexer": "ipython3",
   "version": "3.9.9"
  }
 },
 "nbformat": 4,
 "nbformat_minor": 5
}
