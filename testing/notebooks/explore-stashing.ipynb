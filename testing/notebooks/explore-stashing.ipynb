{
 "cells": [
  {
   "cell_type": "code",
   "execution_count": null,
   "id": "01141ae4",
   "metadata": {},
   "outputs": [],
   "source": [
    "%load_ext autoreload\n",
    "import astropy.units as units\n",
    "import numpy as np\n",
    "import matplotlib.pyplot as plt\n",
    "import scipy.sparse as sparse"
   ]
  },
  {
   "cell_type": "code",
   "execution_count": null,
   "id": "b52bd502",
   "metadata": {},
   "outputs": [],
   "source": [
    "%autoreload 2\n",
    "import madart.dualpy as dp"
   ]
  },
  {
   "cell_type": "code",
   "execution_count": null,
   "id": "7479d388",
   "metadata": {},
   "outputs": [],
   "source": [
    "A = np.zeros(shape=[10,10])\n",
    "A[5,9] = 1.0\n",
    "A[7,2] = 1.0\n",
    "A = sparse.csc_matrix(A)\n",
    "B = np.arange(200).reshape([10,20])"
   ]
  },
  {
   "cell_type": "code",
   "execution_count": null,
   "id": "3b6cde9f",
   "metadata": {},
   "outputs": [],
   "source": [
    "X = B.T\n",
    "Y = A"
   ]
  },
  {
   "cell_type": "code",
   "execution_count": null,
   "id": "820f5349",
   "metadata": {},
   "outputs": [],
   "source": [
    "print(type(X), type(Y))\n",
    "P = X@Y\n",
    "type(P)"
   ]
  },
  {
   "cell_type": "code",
   "execution_count": null,
   "id": "902c74c5",
   "metadata": {},
   "outputs": [],
   "source": []
  },
  {
   "cell_type": "code",
   "execution_count": null,
   "id": "4cafd304",
   "metadata": {},
   "outputs": [],
   "source": []
  }
 ],
 "metadata": {
  "kernelspec": {
   "display_name": "njl-base-3.9",
   "language": "python",
   "name": "njl-base-3.9"
  },
  "language_info": {
   "codemirror_mode": {
    "name": "ipython",
    "version": 3
   },
   "file_extension": ".py",
   "mimetype": "text/x-python",
   "name": "python",
   "nbconvert_exporter": "python",
   "pygments_lexer": "ipython3",
   "version": "3.9.5"
  }
 },
 "nbformat": 4,
 "nbformat_minor": 5
}
