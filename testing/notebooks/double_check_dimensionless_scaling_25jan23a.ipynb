{
 "cells": [
  {
   "cell_type": "code",
   "execution_count": 1,
   "id": "243d1b70-371f-4b83-8fda-2731612eecfe",
   "metadata": {},
   "outputs": [],
   "source": [
    "# fmt: off\n",
    "%matplotlib inline\n",
    "%config InlineBackend.figure_format = \"retina\"\n",
    "%load_ext autoreload\n",
    "%load_ext lab_black\n",
    "import numpy as np\n",
    "import matplotlib\n",
    "import matplotlib.pyplot as plt\n",
    "import pickle\n",
    "from mls_scf_tools.mls_pint import ureg\n",
    "plt.style.use(\"mls_scf\")\n",
    "def vdir(obj):\n",
    "    return [x for x in dir(obj) if not x.startswith('__')]\n",
    "# fmt: on"
   ]
  },
  {
   "cell_type": "code",
   "execution_count": 2,
   "id": "c1d0f748-28fc-463a-bb8d-182ef8ee4dd6",
   "metadata": {},
   "outputs": [],
   "source": [
    "%autoreload 2"
   ]
  },
  {
   "cell_type": "code",
   "execution_count": 3,
   "id": "8daf72e2-2c0d-4b08-88c6-179d3bc3193d",
   "metadata": {},
   "outputs": [],
   "source": [
    "import dualpy as dp"
   ]
  },
  {
   "cell_type": "code",
   "execution_count": 4,
   "id": "5b3313d7-3d6f-4bfc-b49f-1859ae1943af",
   "metadata": {},
   "outputs": [],
   "source": [
    "t_s = np.arange(60) * ureg.s"
   ]
  },
  {
   "cell_type": "code",
   "execution_count": 5,
   "id": "2984ea0f-e88a-44b2-a681-2a625b61dbff",
   "metadata": {},
   "outputs": [],
   "source": [
    "v = 10.0 * ureg.m / ureg.s"
   ]
  },
  {
   "cell_type": "code",
   "execution_count": 6,
   "id": "02ad8511-296d-49b2-bf11-0ac8c0944238",
   "metadata": {},
   "outputs": [],
   "source": [
    "t_s = dp.seed(t_s, \"t\")"
   ]
  },
  {
   "cell_type": "code",
   "execution_count": 7,
   "id": "6a4ac38a-e96a-4b4c-9a88-876bf12e1a2e",
   "metadata": {},
   "outputs": [],
   "source": [
    "t_m = t_s.variable.to(ureg.minute)\n",
    "t_m = dp.seed(t_m, \"t\")"
   ]
  },
  {
   "cell_type": "code",
   "execution_count": 8,
   "id": "537a6395-0730-4602-a08d-6769c590b1c2",
   "metadata": {},
   "outputs": [
    {
     "name": "stdout",
     "output_type": "stream",
     "text": [
      "[1.0 1.0 1.0 1.0 1.0 1.0 1.0 1.0 1.0 1.0 1.0 1.0 1.0 1.0 1.0 1.0 1.0 1.0 1.0 1.0 1.0 1.0 1.0 1.0 1.0 1.0 1.0 1.0 1.0 1.0 1.0 1.0 1.0 1.0 1.0 1.0 1.0 1.0 1.0 1.0 1.0 1.0 1.0 1.0 1.0 1.0 1.0 1.0 1.0 1.0 1.0 1.0 1.0 1.0 1.0 1.0 1.0 1.0 1.0 1.0] dimensionless\n"
     ]
    }
   ],
   "source": [
    "print(t_m.jacobians[\"t\"].extract_diagonal())"
   ]
  },
  {
   "cell_type": "code",
   "execution_count": 9,
   "id": "9e7fcab2-c7a3-4769-805b-e91735b37852",
   "metadata": {},
   "outputs": [],
   "source": [
    "x_s = v * t_s\n",
    "x_m = v * t_m"
   ]
  },
  {
   "cell_type": "code",
   "execution_count": 10,
   "id": "8262f4bf-4d71-4e4b-8ed0-5868aa63a25a",
   "metadata": {},
   "outputs": [
    {
     "name": "stdout",
     "output_type": "stream",
     "text": [
      "10.0 meter / second\n",
      "10.0 meter / second\n"
     ]
    }
   ],
   "source": [
    "print(x_s.jacobians[\"t\"].extract_diagonal()[0].to_base_units())\n",
    "print(x_m.jacobians[\"t\"].extract_diagonal()[0].to_base_units())"
   ]
  },
  {
   "cell_type": "code",
   "execution_count": 11,
   "id": "7fc6290b-73ba-4650-afc9-9505dd241cc7",
   "metadata": {},
   "outputs": [],
   "source": [
    "tau = 10.0 * ureg.year"
   ]
  },
  {
   "cell_type": "code",
   "execution_count": 12,
   "id": "9bf9f9ec-95fb-4b4a-9849-77d8986f7d4e",
   "metadata": {},
   "outputs": [
    {
     "name": "stderr",
     "output_type": "stream",
     "text": [
      "/users/livesey/python/dualpy/dualpy/base_jacobian.py:361: UserWarning: Got non-unit for Unit\n",
      "  warnings.warn(\"Got non-unit for Unit\")\n"
     ]
    }
   ],
   "source": [
    "y_s = np.exp(-((t_s / tau) ** 2))\n",
    "y_m = np.exp(-((t_m / tau) ** 2))"
   ]
  },
  {
   "cell_type": "code",
   "execution_count": 13,
   "id": "f84e3033-af74-485c-aa98-f6277375cc05",
   "metadata": {},
   "outputs": [
    {
     "name": "stdout",
     "output_type": "stream",
     "text": [
      "[-0.0 -2.0082698186192198e-17 -4.0165396372384397e-17 -6.024809455857659e-17 -8.033079274476878e-17 -1.0041349093096096e-16 -1.2049618911715315e-16 -1.4057888730334532e-16 -1.606615854895375e-16 -1.8074428367572966e-16 -2.0082698186192177e-16 -2.2090968004811392e-16 -2.4099237823430606e-16 -2.610750764204981e-16 -2.811577746066902e-16 -3.012404727928823e-16 -3.2132317097907433e-16 -3.414058691652664e-16 -3.614885673514584e-16 -3.815712655376504e-16 -4.016539637238423e-16 -4.217366619100343e-16 -4.418193600962262e-16 -4.619020582824182e-16 -4.8198475646861e-16 -5.020674546548017e-16 -5.221501528409935e-16 -5.422328510271853e-16 -5.62315549213377e-16 -5.823982473995688e-16 -6.024809455857605e-16 -6.225636437719522e-16 -6.426463419581437e-16 -6.627290401443353e-16 -6.828117383305269e-16 -7.028944365167183e-16 -7.229771347029097e-16 -7.430598328891011e-16 -7.631425310752924e-16 -7.832252292614838e-16 -8.03307927447675e-16 -8.233906256338662e-16 -8.434733238200574e-16 -8.635560220062484e-16 -8.836387201924396e-16 -9.037214183786305e-16 -9.238041165648216e-16 -9.438868147510122e-16 -9.639695129372033e-16 -9.84052211123394e-16 -1.0041349093095847e-15 -1.0242176074957754e-15 -1.0443003056819659e-15 -1.0643830038681566e-15 -1.0844657020543467e-15 -1.1045484002405372e-15 -1.1246310984267277e-15 -1.1447137966129178e-15 -1.1647964947991082e-15 -1.1848791929852981e-15] / second\n",
      "[-0.0 -2.00826981861922e-17 -4.01653963723844e-17 -6.024809455857659e-17 -8.033079274476879e-17 -1.0041349093096097e-16 -1.2049618911715315e-16 -1.4057888730334534e-16 -1.606615854895375e-16 -1.8074428367572966e-16 -2.008269818619218e-16 -2.2090968004811394e-16 -2.4099237823430606e-16 -2.610750764204982e-16 -2.811577746066902e-16 -3.0124047279288236e-16 -3.213231709790744e-16 -3.414058691652664e-16 -3.614885673514584e-16 -3.815712655376504e-16 -4.0165396372384236e-16 -4.2173666191003424e-16 -4.4181936009622625e-16 -4.619020582824181e-16 -4.8198475646861e-16 -5.020674546548019e-16 -5.221501528409937e-16 -5.422328510271854e-16 -5.623155492133771e-16 -5.823982473995689e-16 -6.024809455857606e-16 -6.225636437719521e-16 -6.426463419581438e-16 -6.627290401443355e-16 -6.828117383305268e-16 -7.028944365167184e-16 -7.229771347029097e-16 -7.430598328891012e-16 -7.631425310752925e-16 -7.832252292614838e-16 -8.033079274476751e-16 -8.233906256338663e-16 -8.434733238200573e-16 -8.635560220062486e-16 -8.836387201924397e-16 -9.037214183786307e-16 -9.238041165648216e-16 -9.438868147510124e-16 -9.639695129372035e-16 -9.840522111233942e-16 -1.0041349093095847e-15 -1.0242176074957754e-15 -1.0443003056819659e-15 -1.0643830038681564e-15 -1.084465702054347e-15 -1.1045484002405374e-15 -1.1246310984267277e-15 -1.144713796612918e-15 -1.1647964947991084e-15 -1.1848791929852981e-15] / second\n"
     ]
    }
   ],
   "source": [
    "print(y_s.jacobians[\"t\"].extract_diagonal().to_base_units())\n",
    "print(y_m.jacobians[\"t\"].extract_diagonal().to_base_units())"
   ]
  },
  {
   "cell_type": "code",
   "execution_count": null,
   "id": "7f0212d4-4da9-413f-a921-ae905f1dff63",
   "metadata": {},
   "outputs": [],
   "source": []
  }
 ],
 "metadata": {
  "kernelspec": {
   "display_name": "njl-base-3.10-02dec22",
   "language": "python",
   "name": "njl-base-3.10-02dec22"
  },
  "language_info": {
   "codemirror_mode": {
    "name": "ipython",
    "version": 3
   },
   "file_extension": ".py",
   "mimetype": "text/x-python",
   "name": "python",
   "nbconvert_exporter": "python",
   "pygments_lexer": "ipython3",
   "version": "3.10.4"
  }
 },
 "nbformat": 4,
 "nbformat_minor": 5
}
