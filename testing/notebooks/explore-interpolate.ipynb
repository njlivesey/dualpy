{
 "cells": [
  {
   "cell_type": "code",
   "execution_count": null,
   "metadata": {},
   "outputs": [],
   "source": [
    "%matplotlib inline\n",
    "%config InlineBackend.figure_format = 'retina'\n",
    "%load_ext autoreload\n",
    "import numpy as np\n",
    "import matplotlib.pyplot as plt\n",
    "import scipy.constants as constants\n",
    "import scipy.interpolate as interpolate\n",
    "import cProfile\n",
    "import glob"
   ]
  },
  {
   "cell_type": "code",
   "execution_count": null,
   "metadata": {},
   "outputs": [],
   "source": [
    "plt.style.use(\"bmh\")\n",
    "plt.rcParams.update({\n",
    "    'font.size': 12,\n",
    "    'figure.figsize': (8,6),\n",
    "    'xtick.minor.visible': True,\n",
    "    'ytick.minor.visible': True})"
   ]
  },
  {
   "cell_type": "code",
   "execution_count": null,
   "metadata": {},
   "outputs": [],
   "source": [
    "%autoreload 2\n",
    "import madart.dualpy as dp\n",
    "from madart.sample import sample"
   ]
  },
  {
   "cell_type": "code",
   "execution_count": null,
   "metadata": {},
   "outputs": [],
   "source": [
    "import madart.trivial_l2gp as l2gp\n",
    "molecules = [ \"O3\", \"H2O\", \"CO\", \"HNO3\" ]\n",
    "products = [ \"Temperature\", ] + molecules\n",
    "l2 = dict()\n",
    "for product in products:\n",
    "    l2[product] = l2gp.l2gp_read (\n",
    "        \"/data/emls/l2gp/v04.23/2019/001/MLS-Aura_L2GP-\" +\n",
    "        product + \n",
    "        \"_v04-23-c02_2019d001.he5\", \n",
    "        product )"
   ]
  },
  {
   "cell_type": "code",
   "execution_count": null,
   "metadata": {},
   "outputs": [],
   "source": [
    "product = \"Temperature\"\n",
    "pressure = np.array(l2[product].pressure)\n",
    "nProfs = 3\n",
    "zeta = -np.log10(pressure)\n",
    "phi = np.array(l2[product].phi[0:nProfs])\n",
    "values = np.array(l2[product][0:nProfs,:])\n",
    "values = np.expand_dims(values,-1)\n",
    "values = np.repeat(values,2,-1)\n",
    "values[:,:,-1] += 1000.0\n",
    "# offsets = np.transpose([[-30,0,30]])\n",
    "# values += offsets\n",
    "print(values.shape)\n",
    "values = dp.seed(values, product)\n",
    "print(values[:,0,:])"
   ]
  },
  {
   "cell_type": "code",
   "execution_count": null,
   "metadata": {},
   "outputs": [],
   "source": [
    "# values = dp.seed(values,\"vmr\")\n",
    "pOut = np.array([1000.0,900.0,100.0,90.0,10.0])\n",
    "phi0 = phi[0] + 1000.0\n",
    "phiOut = phi0 #+ np.array([0.0,0.75])\n",
    "phiSamples, pSamples = np.meshgrid(phiOut, pOut)\n",
    "zSamples = -np.log10(pSamples)\n",
    "print (phiSamples)\n",
    "print (pSamples)"
   ]
  },
  {
   "cell_type": "code",
   "execution_count": null,
   "metadata": {},
   "outputs": [],
   "source": [
    "# %%timeit\n",
    "test = sample(values, (phi,zeta), (phiSamples,zSamples))\n",
    "print(test.shape)"
   ]
  },
  {
   "cell_type": "code",
   "execution_count": null,
   "metadata": {},
   "outputs": [],
   "source": [
    "fig, ax = plt.subplots()\n",
    "i = 1\n",
    "ax.plot(np.transpose(np.squeeze(values[0:3,:,i])), np.transpose(pressure))\n",
    "ax.plot(np.squeeze(test[:,:,i]), pSamples, 'o')\n",
    "ax.set_yscale(\"Log\")\n",
    "ax.set_ylim(1000.0,1.0)\n",
    "ax.set\n",
    "plt.show()"
   ]
  },
  {
   "cell_type": "code",
   "execution_count": null,
   "metadata": {},
   "outputs": [],
   "source": [
    "print(test.jacobians[\"Temperature\"].data)"
   ]
  },
  {
   "cell_type": "code",
   "execution_count": null,
   "metadata": {},
   "outputs": [],
   "source": [
    "?scipy.interpolate.splev"
   ]
  },
  {
   "cell_type": "code",
   "execution_count": null,
   "metadata": {},
   "outputs": [],
   "source": [
    "import scipy.interpolate as interpolate"
   ]
  },
  {
   "cell_type": "code",
   "execution_count": null,
   "metadata": {},
   "outputs": [],
   "source": [
    "?interpolate.splrep"
   ]
  },
  {
   "cell_type": "code",
   "execution_count": null,
   "metadata": {},
   "outputs": [],
   "source": [
    "?interpolate.BSpline"
   ]
  },
  {
   "cell_type": "code",
   "execution_count": null,
   "metadata": {},
   "outputs": [],
   "source": []
  },
  {
   "cell_type": "code",
   "execution_count": null,
   "metadata": {},
   "outputs": [],
   "source": []
  }
 ],
 "metadata": {
  "kernelspec": {
   "display_name": "Python 3",
   "language": "python",
   "name": "python3"
  },
  "language_info": {
   "codemirror_mode": {
    "name": "ipython",
    "version": 3
   },
   "file_extension": ".py",
   "mimetype": "text/x-python",
   "name": "python",
   "nbconvert_exporter": "python",
   "pygments_lexer": "ipython3",
   "version": "3.9.5"
  }
 },
 "nbformat": 4,
 "nbformat_minor": 4
}
