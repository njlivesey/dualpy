{
 "cells": [
  {
   "cell_type": "code",
   "execution_count": null,
   "id": "73ddf88b",
   "metadata": {},
   "outputs": [],
   "source": [
    "%matplotlib inline\n",
    "%config InlineBackend.figure_format = 'retina'\n",
    "%load_ext autoreload\n",
    "import numpy as np\n",
    "import matplotlib.pyplot as plt\n",
    "import astropy.units as units\n",
    "from scipy.constants import pi"
   ]
  },
  {
   "cell_type": "code",
   "execution_count": null,
   "id": "1e7fbaca",
   "metadata": {},
   "outputs": [],
   "source": [
    "plt.style.use(\"bmh\")\n",
    "plt.rcParams.update({\n",
    "    'font.size': 12,\n",
    "    'figure.figsize': (8,6),\n",
    "    'xtick.minor.visible': True,\n",
    "    'ytick.minor.visible': True})"
   ]
  },
  {
   "cell_type": "code",
   "execution_count": null,
   "id": "c195fa80",
   "metadata": {},
   "outputs": [],
   "source": [
    "%autoreload 2\n",
    "import madart.dualpy as dp"
   ]
  },
  {
   "cell_type": "code",
   "execution_count": null,
   "id": "8aacd904",
   "metadata": {},
   "outputs": [],
   "source": [
    "t = np.arange(10000) * units.s\n",
    "t = dp.seed(t,\"t\")\n",
    "omega = units.rad * 2*pi/(1000.0*units.s)\n",
    "a = 10.0*units.m\n",
    "x = a * np.cos(omega*t)"
   ]
  },
  {
   "cell_type": "code",
   "execution_count": null,
   "id": "27ba38ca",
   "metadata": {},
   "outputs": [],
   "source": [
    "plt.plot(t,x)"
   ]
  },
  {
   "cell_type": "code",
   "execution_count": null,
   "id": "a716410c",
   "metadata": {},
   "outputs": [],
   "source": [
    "t_new = t[:-1]+0.5*units.s"
   ]
  },
  {
   "cell_type": "code",
   "execution_count": null,
   "id": "2e8ce0e9",
   "metadata": {},
   "outputs": [],
   "source": [
    "I = dp.interp1d(units.Quantity(t), x, axis=0)"
   ]
  },
  {
   "cell_type": "code",
   "execution_count": null,
   "id": "827994ec",
   "metadata": {},
   "outputs": [],
   "source": [
    "x_new = I(units.Quantity(t_new))"
   ]
  },
  {
   "cell_type": "code",
   "execution_count": null,
   "id": "a3be1823",
   "metadata": {},
   "outputs": [],
   "source": [
    "plt.plot(t,x)\n",
    "plt.plot(t_new, x_new)"
   ]
  },
  {
   "cell_type": "code",
   "execution_count": null,
   "id": "3a68a5cd",
   "metadata": {},
   "outputs": [],
   "source": [
    "plt.plot(t_new, x_new.jacobians.data)"
   ]
  },
  {
   "cell_type": "code",
   "execution_count": null,
   "id": "ec6dcb56",
   "metadata": {},
   "outputs": [],
   "source": [
    "print(np.linspace(0*units.GHz,10*units.GHz,10, endpoint=False))"
   ]
  },
  {
   "cell_type": "code",
   "execution_count": null,
   "id": "74a9dfbf",
   "metadata": {},
   "outputs": [],
   "source": []
  }
 ],
 "metadata": {
  "kernelspec": {
   "display_name": "njl-base-3.9",
   "language": "python",
   "name": "njl-base-3.9"
  },
  "language_info": {
   "codemirror_mode": {
    "name": "ipython",
    "version": 3
   },
   "file_extension": ".py",
   "mimetype": "text/x-python",
   "name": "python",
   "nbconvert_exporter": "python",
   "pygments_lexer": "ipython3",
   "version": "3.9.2"
  }
 },
 "nbformat": 4,
 "nbformat_minor": 5
}
